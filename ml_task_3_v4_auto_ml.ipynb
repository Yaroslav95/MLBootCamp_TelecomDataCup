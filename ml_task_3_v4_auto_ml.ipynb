{
 "cells": [
  {
   "cell_type": "markdown",
   "metadata": {},
   "source": [
    "## Добавление библиотек по auto ml"
   ]
  },
  {
   "cell_type": "code",
   "execution_count": 118,
   "metadata": {},
   "outputs": [
    {
     "name": "stdout",
     "output_type": "stream",
     "text": [
      "Checking whether there is an H2O instance running at http://localhost:54321..... not found.\n",
      "Attempting to start a local H2O server...\n",
      "; OpenJDK 64-Bit Server VM Zulu11.2+3 (build 11.0.1+13-LTS, mixed mode)\n",
      "  Starting server from C:\\Users\\yaroslav\\Anaconda3\\lib\\site-packages\\h2o\\backend\\bin\\h2o.jar\n",
      "  Ice root: C:\\Users\\yaroslav\\AppData\\Local\\Temp\\tmpf8d_exs6\n",
      "  JVM stdout: C:\\Users\\yaroslav\\AppData\\Local\\Temp\\tmpf8d_exs6\\h2o_yaroslav_started_from_python.out\n",
      "  JVM stderr: C:\\Users\\yaroslav\\AppData\\Local\\Temp\\tmpf8d_exs6\\h2o_yaroslav_started_from_python.err\n",
      "  Server is running at http://127.0.0.1:54321\n",
      "Connecting to H2O server at http://127.0.0.1:54321... successful.\n"
     ]
    },
    {
     "data": {
      "text/html": [
       "<div style=\"overflow:auto\"><table style=\"width:50%\"><tr><td>H2O cluster uptime:</td>\n",
       "<td>01 secs</td></tr>\n",
       "<tr><td>H2O cluster timezone:</td>\n",
       "<td>Asia/Yekaterinburg</td></tr>\n",
       "<tr><td>H2O data parsing timezone:</td>\n",
       "<td>UTC</td></tr>\n",
       "<tr><td>H2O cluster version:</td>\n",
       "<td>3.22.1.1</td></tr>\n",
       "<tr><td>H2O cluster version age:</td>\n",
       "<td>18 days </td></tr>\n",
       "<tr><td>H2O cluster name:</td>\n",
       "<td>H2O_from_python_yaroslav_glel88</td></tr>\n",
       "<tr><td>H2O cluster total nodes:</td>\n",
       "<td>1</td></tr>\n",
       "<tr><td>H2O cluster free memory:</td>\n",
       "<td>1.896 Gb</td></tr>\n",
       "<tr><td>H2O cluster total cores:</td>\n",
       "<td>0</td></tr>\n",
       "<tr><td>H2O cluster allowed cores:</td>\n",
       "<td>0</td></tr>\n",
       "<tr><td>H2O cluster status:</td>\n",
       "<td>accepting new members, healthy</td></tr>\n",
       "<tr><td>H2O connection url:</td>\n",
       "<td>http://127.0.0.1:54321</td></tr>\n",
       "<tr><td>H2O connection proxy:</td>\n",
       "<td>None</td></tr>\n",
       "<tr><td>H2O internal security:</td>\n",
       "<td>False</td></tr>\n",
       "<tr><td>H2O API Extensions:</td>\n",
       "<td>Algos, AutoML, Core V3, Core V4</td></tr>\n",
       "<tr><td>Python version:</td>\n",
       "<td>3.6.5 final</td></tr></table></div>"
      ],
      "text/plain": [
       "--------------------------  -------------------------------\n",
       "H2O cluster uptime:         01 secs\n",
       "H2O cluster timezone:       Asia/Yekaterinburg\n",
       "H2O data parsing timezone:  UTC\n",
       "H2O cluster version:        3.22.1.1\n",
       "H2O cluster version age:    18 days\n",
       "H2O cluster name:           H2O_from_python_yaroslav_glel88\n",
       "H2O cluster total nodes:    1\n",
       "H2O cluster free memory:    1.896 Gb\n",
       "H2O cluster total cores:    0\n",
       "H2O cluster allowed cores:  0\n",
       "H2O cluster status:         accepting new members, healthy\n",
       "H2O connection url:         http://127.0.0.1:54321\n",
       "H2O connection proxy:\n",
       "H2O internal security:      False\n",
       "H2O API Extensions:         Algos, AutoML, Core V3, Core V4\n",
       "Python version:             3.6.5 final\n",
       "--------------------------  -------------------------------"
      ]
     },
     "metadata": {},
     "output_type": "display_data"
    }
   ],
   "source": [
    "import h2o\n",
    "from h2o.automl import H2OAutoML\n",
    "h2o.init()"
   ]
  },
  {
   "cell_type": "code",
   "execution_count": null,
   "metadata": {},
   "outputs": [],
   "source": []
  },
  {
   "cell_type": "code",
   "execution_count": null,
   "metadata": {},
   "outputs": [],
   "source": []
  },
  {
   "cell_type": "markdown",
   "metadata": {},
   "source": [
    "# Открытие таблиц"
   ]
  },
  {
   "cell_type": "code",
   "execution_count": 2,
   "metadata": {},
   "outputs": [],
   "source": [
    "import pandas as pd\n",
    "import numpy as np\n",
    "\n",
    "\n",
    "subs_csi = pd.read_csv('subs_csi_train.csv', sep=';', decimal = '.', engine = 'python')\n",
    "sk_id_train = pd.read_csv('SK_ID_train.csv')"
   ]
  },
  {
   "cell_type": "code",
   "execution_count": 3,
   "metadata": {},
   "outputs": [],
   "source": [
    "#import date_converter as conv\n",
    "\n",
    "#converted_date = conv.string_to_datetime('Jun 1 2005  1:33PM', '%b %d %Y %I:%M%p')"
   ]
  },
  {
   "cell_type": "code",
   "execution_count": 4,
   "metadata": {},
   "outputs": [],
   "source": [
    "subs_features = pd.read_csv('./subs_features_train.csv', sep=';', decimal = ',', parse_dates = ['SNAP_DATE'])\n",
    "#subs_features = pd.read_csv('./subs_features_train.csv', sep=';', decimal = ',')"
   ]
  },
  {
   "cell_type": "code",
   "execution_count": 5,
   "metadata": {},
   "outputs": [
    {
     "data": {
      "text/html": [
       "<div>\n",
       "<style scoped>\n",
       "    .dataframe tbody tr th:only-of-type {\n",
       "        vertical-align: middle;\n",
       "    }\n",
       "\n",
       "    .dataframe tbody tr th {\n",
       "        vertical-align: top;\n",
       "    }\n",
       "\n",
       "    .dataframe thead th {\n",
       "        text-align: right;\n",
       "    }\n",
       "</style>\n",
       "<table border=\"1\" class=\"dataframe\">\n",
       "  <thead>\n",
       "    <tr style=\"text-align: right;\">\n",
       "      <th></th>\n",
       "      <th>SNAP_DATE</th>\n",
       "      <th>COM_CAT#1</th>\n",
       "      <th>SK_ID</th>\n",
       "      <th>COM_CAT#2</th>\n",
       "      <th>COM_CAT#3</th>\n",
       "      <th>BASE_TYPE</th>\n",
       "      <th>ACT</th>\n",
       "      <th>ARPU_GROUP</th>\n",
       "      <th>COM_CAT#7</th>\n",
       "      <th>COM_CAT#8</th>\n",
       "      <th>...</th>\n",
       "      <th>COM_CAT#25</th>\n",
       "      <th>COM_CAT#26</th>\n",
       "      <th>COM_CAT#27</th>\n",
       "      <th>COM_CAT#28</th>\n",
       "      <th>COM_CAT#29</th>\n",
       "      <th>COM_CAT#30</th>\n",
       "      <th>COM_CAT#31</th>\n",
       "      <th>COM_CAT#32</th>\n",
       "      <th>COM_CAT#33</th>\n",
       "      <th>COM_CAT#34</th>\n",
       "    </tr>\n",
       "  </thead>\n",
       "  <tbody>\n",
       "    <tr>\n",
       "      <th>0</th>\n",
       "      <td>2001-01-08</td>\n",
       "      <td>4</td>\n",
       "      <td>3339</td>\n",
       "      <td>80</td>\n",
       "      <td>5</td>\n",
       "      <td>2</td>\n",
       "      <td>1</td>\n",
       "      <td>12.0</td>\n",
       "      <td>1</td>\n",
       "      <td>1489.0</td>\n",
       "      <td>...</td>\n",
       "      <td>1</td>\n",
       "      <td>1</td>\n",
       "      <td>0.031696</td>\n",
       "      <td>0.076724</td>\n",
       "      <td>0.040279</td>\n",
       "      <td>0.0133</td>\n",
       "      <td>0.083382</td>\n",
       "      <td>0.027579</td>\n",
       "      <td>0.103896</td>\n",
       "      <td>2.0</td>\n",
       "    </tr>\n",
       "    <tr>\n",
       "      <th>1</th>\n",
       "      <td>2001-01-08</td>\n",
       "      <td>4</td>\n",
       "      <td>238</td>\n",
       "      <td>75</td>\n",
       "      <td>5</td>\n",
       "      <td>2</td>\n",
       "      <td>1</td>\n",
       "      <td>7.0</td>\n",
       "      <td>1</td>\n",
       "      <td>945.0</td>\n",
       "      <td>...</td>\n",
       "      <td>1</td>\n",
       "      <td>1</td>\n",
       "      <td>0.015893</td>\n",
       "      <td>0.012981</td>\n",
       "      <td>0.000000</td>\n",
       "      <td>0.0000</td>\n",
       "      <td>0.048930</td>\n",
       "      <td>0.027579</td>\n",
       "      <td>0.103896</td>\n",
       "      <td>3.0</td>\n",
       "    </tr>\n",
       "    <tr>\n",
       "      <th>2</th>\n",
       "      <td>2001-01-08</td>\n",
       "      <td>4</td>\n",
       "      <td>4669</td>\n",
       "      <td>43</td>\n",
       "      <td>5</td>\n",
       "      <td>2</td>\n",
       "      <td>1</td>\n",
       "      <td>3.0</td>\n",
       "      <td>3</td>\n",
       "      <td>1033.0</td>\n",
       "      <td>...</td>\n",
       "      <td>1</td>\n",
       "      <td>1</td>\n",
       "      <td>0.000415</td>\n",
       "      <td>0.000000</td>\n",
       "      <td>0.000000</td>\n",
       "      <td>0.0000</td>\n",
       "      <td>0.009397</td>\n",
       "      <td>0.027579</td>\n",
       "      <td>0.103896</td>\n",
       "      <td>3.0</td>\n",
       "    </tr>\n",
       "    <tr>\n",
       "      <th>3</th>\n",
       "      <td>2001-01-08</td>\n",
       "      <td>4</td>\n",
       "      <td>2555</td>\n",
       "      <td>54</td>\n",
       "      <td>5</td>\n",
       "      <td>2</td>\n",
       "      <td>1</td>\n",
       "      <td>12.0</td>\n",
       "      <td>1</td>\n",
       "      <td>512.0</td>\n",
       "      <td>...</td>\n",
       "      <td>1</td>\n",
       "      <td>1</td>\n",
       "      <td>0.046510</td>\n",
       "      <td>0.039486</td>\n",
       "      <td>0.000829</td>\n",
       "      <td>0.0000</td>\n",
       "      <td>0.196676</td>\n",
       "      <td>0.027579</td>\n",
       "      <td>0.103896</td>\n",
       "      <td>1.0</td>\n",
       "    </tr>\n",
       "    <tr>\n",
       "      <th>4</th>\n",
       "      <td>2001-01-08</td>\n",
       "      <td>4</td>\n",
       "      <td>2291</td>\n",
       "      <td>38</td>\n",
       "      <td>5</td>\n",
       "      <td>2</td>\n",
       "      <td>1</td>\n",
       "      <td>7.0</td>\n",
       "      <td>1</td>\n",
       "      <td>1268.0</td>\n",
       "      <td>...</td>\n",
       "      <td>1</td>\n",
       "      <td>1</td>\n",
       "      <td>0.005393</td>\n",
       "      <td>0.007385</td>\n",
       "      <td>0.003884</td>\n",
       "      <td>0.0000</td>\n",
       "      <td>0.047297</td>\n",
       "      <td>0.027579</td>\n",
       "      <td>0.103896</td>\n",
       "      <td>6.0</td>\n",
       "    </tr>\n",
       "  </tbody>\n",
       "</table>\n",
       "<p>5 rows × 36 columns</p>\n",
       "</div>"
      ],
      "text/plain": [
       "   SNAP_DATE  COM_CAT#1  SK_ID  COM_CAT#2  COM_CAT#3  BASE_TYPE  ACT  \\\n",
       "0 2001-01-08          4   3339         80          5          2    1   \n",
       "1 2001-01-08          4    238         75          5          2    1   \n",
       "2 2001-01-08          4   4669         43          5          2    1   \n",
       "3 2001-01-08          4   2555         54          5          2    1   \n",
       "4 2001-01-08          4   2291         38          5          2    1   \n",
       "\n",
       "   ARPU_GROUP  COM_CAT#7  COM_CAT#8     ...      COM_CAT#25  COM_CAT#26  \\\n",
       "0        12.0          1     1489.0     ...               1           1   \n",
       "1         7.0          1      945.0     ...               1           1   \n",
       "2         3.0          3     1033.0     ...               1           1   \n",
       "3        12.0          1      512.0     ...               1           1   \n",
       "4         7.0          1     1268.0     ...               1           1   \n",
       "\n",
       "   COM_CAT#27  COM_CAT#28  COM_CAT#29  COM_CAT#30  COM_CAT#31  COM_CAT#32  \\\n",
       "0    0.031696    0.076724    0.040279      0.0133    0.083382    0.027579   \n",
       "1    0.015893    0.012981    0.000000      0.0000    0.048930    0.027579   \n",
       "2    0.000415    0.000000    0.000000      0.0000    0.009397    0.027579   \n",
       "3    0.046510    0.039486    0.000829      0.0000    0.196676    0.027579   \n",
       "4    0.005393    0.007385    0.003884      0.0000    0.047297    0.027579   \n",
       "\n",
       "   COM_CAT#33  COM_CAT#34  \n",
       "0    0.103896         2.0  \n",
       "1    0.103896         3.0  \n",
       "2    0.103896         3.0  \n",
       "3    0.103896         1.0  \n",
       "4    0.103896         6.0  \n",
       "\n",
       "[5 rows x 36 columns]"
      ]
     },
     "execution_count": 5,
     "metadata": {},
     "output_type": "execute_result"
    }
   ],
   "source": [
    "subs_features.head()"
   ]
  },
  {
   "cell_type": "code",
   "execution_count": 6,
   "metadata": {},
   "outputs": [],
   "source": [
    "#Выделяем месяца\n",
    "subs_features[\"SNAP_DATE\"] = subs_features[\"SNAP_DATE\"].dt.day.astype(int)"
   ]
  },
  {
   "cell_type": "code",
   "execution_count": 7,
   "metadata": {},
   "outputs": [
    {
     "data": {
      "text/html": [
       "<div>\n",
       "<style scoped>\n",
       "    .dataframe tbody tr th:only-of-type {\n",
       "        vertical-align: middle;\n",
       "    }\n",
       "\n",
       "    .dataframe tbody tr th {\n",
       "        vertical-align: top;\n",
       "    }\n",
       "\n",
       "    .dataframe thead th {\n",
       "        text-align: right;\n",
       "    }\n",
       "</style>\n",
       "<table border=\"1\" class=\"dataframe\">\n",
       "  <thead>\n",
       "    <tr style=\"text-align: right;\">\n",
       "      <th></th>\n",
       "      <th>SNAP_DATE</th>\n",
       "      <th>COM_CAT#1</th>\n",
       "      <th>SK_ID</th>\n",
       "      <th>COM_CAT#2</th>\n",
       "      <th>COM_CAT#3</th>\n",
       "      <th>BASE_TYPE</th>\n",
       "      <th>ACT</th>\n",
       "      <th>ARPU_GROUP</th>\n",
       "      <th>COM_CAT#7</th>\n",
       "      <th>COM_CAT#8</th>\n",
       "      <th>...</th>\n",
       "      <th>COM_CAT#25</th>\n",
       "      <th>COM_CAT#26</th>\n",
       "      <th>COM_CAT#27</th>\n",
       "      <th>COM_CAT#28</th>\n",
       "      <th>COM_CAT#29</th>\n",
       "      <th>COM_CAT#30</th>\n",
       "      <th>COM_CAT#31</th>\n",
       "      <th>COM_CAT#32</th>\n",
       "      <th>COM_CAT#33</th>\n",
       "      <th>COM_CAT#34</th>\n",
       "    </tr>\n",
       "  </thead>\n",
       "  <tbody>\n",
       "    <tr>\n",
       "      <th>0</th>\n",
       "      <td>8</td>\n",
       "      <td>4</td>\n",
       "      <td>3339</td>\n",
       "      <td>80</td>\n",
       "      <td>5</td>\n",
       "      <td>2</td>\n",
       "      <td>1</td>\n",
       "      <td>12.0</td>\n",
       "      <td>1</td>\n",
       "      <td>1489.0</td>\n",
       "      <td>...</td>\n",
       "      <td>1</td>\n",
       "      <td>1</td>\n",
       "      <td>0.031696</td>\n",
       "      <td>0.076724</td>\n",
       "      <td>0.040279</td>\n",
       "      <td>0.0133</td>\n",
       "      <td>0.083382</td>\n",
       "      <td>0.027579</td>\n",
       "      <td>0.103896</td>\n",
       "      <td>2.0</td>\n",
       "    </tr>\n",
       "    <tr>\n",
       "      <th>1</th>\n",
       "      <td>8</td>\n",
       "      <td>4</td>\n",
       "      <td>238</td>\n",
       "      <td>75</td>\n",
       "      <td>5</td>\n",
       "      <td>2</td>\n",
       "      <td>1</td>\n",
       "      <td>7.0</td>\n",
       "      <td>1</td>\n",
       "      <td>945.0</td>\n",
       "      <td>...</td>\n",
       "      <td>1</td>\n",
       "      <td>1</td>\n",
       "      <td>0.015893</td>\n",
       "      <td>0.012981</td>\n",
       "      <td>0.000000</td>\n",
       "      <td>0.0000</td>\n",
       "      <td>0.048930</td>\n",
       "      <td>0.027579</td>\n",
       "      <td>0.103896</td>\n",
       "      <td>3.0</td>\n",
       "    </tr>\n",
       "    <tr>\n",
       "      <th>2</th>\n",
       "      <td>8</td>\n",
       "      <td>4</td>\n",
       "      <td>4669</td>\n",
       "      <td>43</td>\n",
       "      <td>5</td>\n",
       "      <td>2</td>\n",
       "      <td>1</td>\n",
       "      <td>3.0</td>\n",
       "      <td>3</td>\n",
       "      <td>1033.0</td>\n",
       "      <td>...</td>\n",
       "      <td>1</td>\n",
       "      <td>1</td>\n",
       "      <td>0.000415</td>\n",
       "      <td>0.000000</td>\n",
       "      <td>0.000000</td>\n",
       "      <td>0.0000</td>\n",
       "      <td>0.009397</td>\n",
       "      <td>0.027579</td>\n",
       "      <td>0.103896</td>\n",
       "      <td>3.0</td>\n",
       "    </tr>\n",
       "    <tr>\n",
       "      <th>3</th>\n",
       "      <td>8</td>\n",
       "      <td>4</td>\n",
       "      <td>2555</td>\n",
       "      <td>54</td>\n",
       "      <td>5</td>\n",
       "      <td>2</td>\n",
       "      <td>1</td>\n",
       "      <td>12.0</td>\n",
       "      <td>1</td>\n",
       "      <td>512.0</td>\n",
       "      <td>...</td>\n",
       "      <td>1</td>\n",
       "      <td>1</td>\n",
       "      <td>0.046510</td>\n",
       "      <td>0.039486</td>\n",
       "      <td>0.000829</td>\n",
       "      <td>0.0000</td>\n",
       "      <td>0.196676</td>\n",
       "      <td>0.027579</td>\n",
       "      <td>0.103896</td>\n",
       "      <td>1.0</td>\n",
       "    </tr>\n",
       "    <tr>\n",
       "      <th>4</th>\n",
       "      <td>8</td>\n",
       "      <td>4</td>\n",
       "      <td>2291</td>\n",
       "      <td>38</td>\n",
       "      <td>5</td>\n",
       "      <td>2</td>\n",
       "      <td>1</td>\n",
       "      <td>7.0</td>\n",
       "      <td>1</td>\n",
       "      <td>1268.0</td>\n",
       "      <td>...</td>\n",
       "      <td>1</td>\n",
       "      <td>1</td>\n",
       "      <td>0.005393</td>\n",
       "      <td>0.007385</td>\n",
       "      <td>0.003884</td>\n",
       "      <td>0.0000</td>\n",
       "      <td>0.047297</td>\n",
       "      <td>0.027579</td>\n",
       "      <td>0.103896</td>\n",
       "      <td>6.0</td>\n",
       "    </tr>\n",
       "  </tbody>\n",
       "</table>\n",
       "<p>5 rows × 36 columns</p>\n",
       "</div>"
      ],
      "text/plain": [
       "   SNAP_DATE  COM_CAT#1  SK_ID  COM_CAT#2  COM_CAT#3  BASE_TYPE  ACT  \\\n",
       "0          8          4   3339         80          5          2    1   \n",
       "1          8          4    238         75          5          2    1   \n",
       "2          8          4   4669         43          5          2    1   \n",
       "3          8          4   2555         54          5          2    1   \n",
       "4          8          4   2291         38          5          2    1   \n",
       "\n",
       "   ARPU_GROUP  COM_CAT#7  COM_CAT#8     ...      COM_CAT#25  COM_CAT#26  \\\n",
       "0        12.0          1     1489.0     ...               1           1   \n",
       "1         7.0          1      945.0     ...               1           1   \n",
       "2         3.0          3     1033.0     ...               1           1   \n",
       "3        12.0          1      512.0     ...               1           1   \n",
       "4         7.0          1     1268.0     ...               1           1   \n",
       "\n",
       "   COM_CAT#27  COM_CAT#28  COM_CAT#29  COM_CAT#30  COM_CAT#31  COM_CAT#32  \\\n",
       "0    0.031696    0.076724    0.040279      0.0133    0.083382    0.027579   \n",
       "1    0.015893    0.012981    0.000000      0.0000    0.048930    0.027579   \n",
       "2    0.000415    0.000000    0.000000      0.0000    0.009397    0.027579   \n",
       "3    0.046510    0.039486    0.000829      0.0000    0.196676    0.027579   \n",
       "4    0.005393    0.007385    0.003884      0.0000    0.047297    0.027579   \n",
       "\n",
       "   COM_CAT#33  COM_CAT#34  \n",
       "0    0.103896         2.0  \n",
       "1    0.103896         3.0  \n",
       "2    0.103896         3.0  \n",
       "3    0.103896         1.0  \n",
       "4    0.103896         6.0  \n",
       "\n",
       "[5 rows x 36 columns]"
      ]
     },
     "execution_count": 7,
     "metadata": {},
     "output_type": "execute_result"
    }
   ],
   "source": [
    "subs_features.head()"
   ]
  },
  {
   "cell_type": "code",
   "execution_count": 8,
   "metadata": {},
   "outputs": [
    {
     "data": {
      "text/plain": [
       "(47411, 36)"
      ]
     },
     "execution_count": 8,
     "metadata": {},
     "output_type": "execute_result"
    }
   ],
   "source": [
    "subs_features.shape"
   ]
  },
  {
   "cell_type": "markdown",
   "metadata": {},
   "source": [
    "## Соединение таблиц subs_features и subs_csi"
   ]
  },
  {
   "cell_type": "code",
   "execution_count": 9,
   "metadata": {},
   "outputs": [],
   "source": [
    "subs_csi_features_2 = subs_csi.merge(subs_features,  left_on='SK_ID', right_on='SK_ID', how='outer')"
   ]
  },
  {
   "cell_type": "code",
   "execution_count": 10,
   "metadata": {},
   "outputs": [
    {
     "data": {
      "text/html": [
       "<div>\n",
       "<style scoped>\n",
       "    .dataframe tbody tr th:only-of-type {\n",
       "        vertical-align: middle;\n",
       "    }\n",
       "\n",
       "    .dataframe tbody tr th {\n",
       "        vertical-align: top;\n",
       "    }\n",
       "\n",
       "    .dataframe thead th {\n",
       "        text-align: right;\n",
       "    }\n",
       "</style>\n",
       "<table border=\"1\" class=\"dataframe\">\n",
       "  <thead>\n",
       "    <tr style=\"text-align: right;\">\n",
       "      <th></th>\n",
       "      <th>SK_ID</th>\n",
       "      <th>CSI</th>\n",
       "      <th>CONTACT_DATE</th>\n",
       "      <th>SNAP_DATE</th>\n",
       "      <th>COM_CAT#1</th>\n",
       "      <th>COM_CAT#2</th>\n",
       "      <th>COM_CAT#3</th>\n",
       "      <th>BASE_TYPE</th>\n",
       "      <th>ACT</th>\n",
       "      <th>ARPU_GROUP</th>\n",
       "      <th>...</th>\n",
       "      <th>COM_CAT#25</th>\n",
       "      <th>COM_CAT#26</th>\n",
       "      <th>COM_CAT#27</th>\n",
       "      <th>COM_CAT#28</th>\n",
       "      <th>COM_CAT#29</th>\n",
       "      <th>COM_CAT#30</th>\n",
       "      <th>COM_CAT#31</th>\n",
       "      <th>COM_CAT#32</th>\n",
       "      <th>COM_CAT#33</th>\n",
       "      <th>COM_CAT#34</th>\n",
       "    </tr>\n",
       "  </thead>\n",
       "  <tbody>\n",
       "    <tr>\n",
       "      <th>0</th>\n",
       "      <td>2</td>\n",
       "      <td>0</td>\n",
       "      <td>4.05</td>\n",
       "      <td>3</td>\n",
       "      <td>7</td>\n",
       "      <td>77</td>\n",
       "      <td>10</td>\n",
       "      <td>1</td>\n",
       "      <td>1</td>\n",
       "      <td>10.0</td>\n",
       "      <td>...</td>\n",
       "      <td>1</td>\n",
       "      <td>1</td>\n",
       "      <td>0.002070</td>\n",
       "      <td>0.007335</td>\n",
       "      <td>0.000050</td>\n",
       "      <td>0.002785</td>\n",
       "      <td>0.029765</td>\n",
       "      <td>0.027579</td>\n",
       "      <td>0.103896</td>\n",
       "      <td>NaN</td>\n",
       "    </tr>\n",
       "    <tr>\n",
       "      <th>1</th>\n",
       "      <td>2</td>\n",
       "      <td>0</td>\n",
       "      <td>4.05</td>\n",
       "      <td>2</td>\n",
       "      <td>7</td>\n",
       "      <td>77</td>\n",
       "      <td>9</td>\n",
       "      <td>1</td>\n",
       "      <td>1</td>\n",
       "      <td>10.0</td>\n",
       "      <td>...</td>\n",
       "      <td>1</td>\n",
       "      <td>1</td>\n",
       "      <td>0.003913</td>\n",
       "      <td>0.001590</td>\n",
       "      <td>0.000018</td>\n",
       "      <td>0.001954</td>\n",
       "      <td>0.054871</td>\n",
       "      <td>0.027579</td>\n",
       "      <td>0.103896</td>\n",
       "      <td>NaN</td>\n",
       "    </tr>\n",
       "    <tr>\n",
       "      <th>2</th>\n",
       "      <td>2</td>\n",
       "      <td>0</td>\n",
       "      <td>4.05</td>\n",
       "      <td>5</td>\n",
       "      <td>7</td>\n",
       "      <td>77</td>\n",
       "      <td>12</td>\n",
       "      <td>1</td>\n",
       "      <td>1</td>\n",
       "      <td>9.0</td>\n",
       "      <td>...</td>\n",
       "      <td>1</td>\n",
       "      <td>1</td>\n",
       "      <td>0.001801</td>\n",
       "      <td>0.008317</td>\n",
       "      <td>0.000081</td>\n",
       "      <td>0.002441</td>\n",
       "      <td>0.018126</td>\n",
       "      <td>0.027579</td>\n",
       "      <td>0.103896</td>\n",
       "      <td>9.0</td>\n",
       "    </tr>\n",
       "    <tr>\n",
       "      <th>3</th>\n",
       "      <td>2</td>\n",
       "      <td>0</td>\n",
       "      <td>4.05</td>\n",
       "      <td>1</td>\n",
       "      <td>7</td>\n",
       "      <td>77</td>\n",
       "      <td>17</td>\n",
       "      <td>1</td>\n",
       "      <td>1</td>\n",
       "      <td>6.0</td>\n",
       "      <td>...</td>\n",
       "      <td>1</td>\n",
       "      <td>0</td>\n",
       "      <td>0.001798</td>\n",
       "      <td>0.002048</td>\n",
       "      <td>0.000033</td>\n",
       "      <td>0.002331</td>\n",
       "      <td>0.022108</td>\n",
       "      <td>0.027579</td>\n",
       "      <td>0.103896</td>\n",
       "      <td>NaN</td>\n",
       "    </tr>\n",
       "    <tr>\n",
       "      <th>4</th>\n",
       "      <td>2</td>\n",
       "      <td>0</td>\n",
       "      <td>4.05</td>\n",
       "      <td>4</td>\n",
       "      <td>7</td>\n",
       "      <td>77</td>\n",
       "      <td>11</td>\n",
       "      <td>1</td>\n",
       "      <td>1</td>\n",
       "      <td>8.0</td>\n",
       "      <td>...</td>\n",
       "      <td>1</td>\n",
       "      <td>1</td>\n",
       "      <td>0.006520</td>\n",
       "      <td>0.001408</td>\n",
       "      <td>0.000010</td>\n",
       "      <td>0.001709</td>\n",
       "      <td>0.022772</td>\n",
       "      <td>0.027579</td>\n",
       "      <td>0.103896</td>\n",
       "      <td>9.0</td>\n",
       "    </tr>\n",
       "  </tbody>\n",
       "</table>\n",
       "<p>5 rows × 38 columns</p>\n",
       "</div>"
      ],
      "text/plain": [
       "   SK_ID  CSI  CONTACT_DATE  SNAP_DATE  COM_CAT#1  COM_CAT#2  COM_CAT#3  \\\n",
       "0      2    0          4.05          3          7         77         10   \n",
       "1      2    0          4.05          2          7         77          9   \n",
       "2      2    0          4.05          5          7         77         12   \n",
       "3      2    0          4.05          1          7         77         17   \n",
       "4      2    0          4.05          4          7         77         11   \n",
       "\n",
       "   BASE_TYPE  ACT  ARPU_GROUP     ...      COM_CAT#25  COM_CAT#26  COM_CAT#27  \\\n",
       "0          1    1        10.0     ...               1           1    0.002070   \n",
       "1          1    1        10.0     ...               1           1    0.003913   \n",
       "2          1    1         9.0     ...               1           1    0.001801   \n",
       "3          1    1         6.0     ...               1           0    0.001798   \n",
       "4          1    1         8.0     ...               1           1    0.006520   \n",
       "\n",
       "   COM_CAT#28  COM_CAT#29  COM_CAT#30  COM_CAT#31  COM_CAT#32  COM_CAT#33  \\\n",
       "0    0.007335    0.000050    0.002785    0.029765    0.027579    0.103896   \n",
       "1    0.001590    0.000018    0.001954    0.054871    0.027579    0.103896   \n",
       "2    0.008317    0.000081    0.002441    0.018126    0.027579    0.103896   \n",
       "3    0.002048    0.000033    0.002331    0.022108    0.027579    0.103896   \n",
       "4    0.001408    0.000010    0.001709    0.022772    0.027579    0.103896   \n",
       "\n",
       "   COM_CAT#34  \n",
       "0         NaN  \n",
       "1         NaN  \n",
       "2         9.0  \n",
       "3         NaN  \n",
       "4         9.0  \n",
       "\n",
       "[5 rows x 38 columns]"
      ]
     },
     "execution_count": 10,
     "metadata": {},
     "output_type": "execute_result"
    }
   ],
   "source": [
    "subs_csi_features_2.head()"
   ]
  },
  {
   "cell_type": "markdown",
   "metadata": {},
   "source": [
    "## Замена пропусков"
   ]
  },
  {
   "cell_type": "code",
   "execution_count": 11,
   "metadata": {},
   "outputs": [],
   "source": [
    "# Лучше убирать, пропусков не так много\n",
    "\n",
    "subs_csi_features_2 = subs_csi_features_2.dropna(axis=0, subset=['ARPU_GROUP','COM_CAT#8', 'DEVICE_TYPE_ID','INTERNET_TYPE_ID', 'COM_CAT#34'])"
   ]
  },
  {
   "cell_type": "code",
   "execution_count": 12,
   "metadata": {},
   "outputs": [
    {
     "data": {
      "text/plain": [
       "(45709, 38)"
      ]
     },
     "execution_count": 12,
     "metadata": {},
     "output_type": "execute_result"
    }
   ],
   "source": [
    "subs_csi_features_2.shape"
   ]
  },
  {
   "cell_type": "code",
   "execution_count": 13,
   "metadata": {},
   "outputs": [
    {
     "data": {
      "text/html": [
       "<div>\n",
       "<style scoped>\n",
       "    .dataframe tbody tr th:only-of-type {\n",
       "        vertical-align: middle;\n",
       "    }\n",
       "\n",
       "    .dataframe tbody tr th {\n",
       "        vertical-align: top;\n",
       "    }\n",
       "\n",
       "    .dataframe thead th {\n",
       "        text-align: right;\n",
       "    }\n",
       "</style>\n",
       "<table border=\"1\" class=\"dataframe\">\n",
       "  <thead>\n",
       "    <tr style=\"text-align: right;\">\n",
       "      <th></th>\n",
       "      <th>SK_ID</th>\n",
       "      <th>CSI</th>\n",
       "      <th>CONTACT_DATE</th>\n",
       "      <th>SNAP_DATE</th>\n",
       "      <th>COM_CAT#1</th>\n",
       "      <th>COM_CAT#2</th>\n",
       "      <th>COM_CAT#3</th>\n",
       "      <th>BASE_TYPE</th>\n",
       "      <th>ACT</th>\n",
       "      <th>ARPU_GROUP</th>\n",
       "      <th>...</th>\n",
       "      <th>COM_CAT#25</th>\n",
       "      <th>COM_CAT#26</th>\n",
       "      <th>COM_CAT#27</th>\n",
       "      <th>COM_CAT#28</th>\n",
       "      <th>COM_CAT#29</th>\n",
       "      <th>COM_CAT#30</th>\n",
       "      <th>COM_CAT#31</th>\n",
       "      <th>COM_CAT#32</th>\n",
       "      <th>COM_CAT#33</th>\n",
       "      <th>COM_CAT#34</th>\n",
       "    </tr>\n",
       "  </thead>\n",
       "  <tbody>\n",
       "    <tr>\n",
       "      <th>2</th>\n",
       "      <td>2</td>\n",
       "      <td>0</td>\n",
       "      <td>4.05</td>\n",
       "      <td>5</td>\n",
       "      <td>7</td>\n",
       "      <td>77</td>\n",
       "      <td>12</td>\n",
       "      <td>1</td>\n",
       "      <td>1</td>\n",
       "      <td>9.0</td>\n",
       "      <td>...</td>\n",
       "      <td>1</td>\n",
       "      <td>1</td>\n",
       "      <td>0.001801</td>\n",
       "      <td>0.008317</td>\n",
       "      <td>0.000081</td>\n",
       "      <td>0.002441</td>\n",
       "      <td>0.018126</td>\n",
       "      <td>0.027579</td>\n",
       "      <td>0.103896</td>\n",
       "      <td>9.0</td>\n",
       "    </tr>\n",
       "    <tr>\n",
       "      <th>4</th>\n",
       "      <td>2</td>\n",
       "      <td>0</td>\n",
       "      <td>4.05</td>\n",
       "      <td>4</td>\n",
       "      <td>7</td>\n",
       "      <td>77</td>\n",
       "      <td>11</td>\n",
       "      <td>1</td>\n",
       "      <td>1</td>\n",
       "      <td>8.0</td>\n",
       "      <td>...</td>\n",
       "      <td>1</td>\n",
       "      <td>1</td>\n",
       "      <td>0.006520</td>\n",
       "      <td>0.001408</td>\n",
       "      <td>0.000010</td>\n",
       "      <td>0.001709</td>\n",
       "      <td>0.022772</td>\n",
       "      <td>0.027579</td>\n",
       "      <td>0.103896</td>\n",
       "      <td>9.0</td>\n",
       "    </tr>\n",
       "    <tr>\n",
       "      <th>5</th>\n",
       "      <td>3</td>\n",
       "      <td>0</td>\n",
       "      <td>21.05</td>\n",
       "      <td>1</td>\n",
       "      <td>4</td>\n",
       "      <td>51</td>\n",
       "      <td>12</td>\n",
       "      <td>1</td>\n",
       "      <td>1</td>\n",
       "      <td>7.0</td>\n",
       "      <td>...</td>\n",
       "      <td>1</td>\n",
       "      <td>1</td>\n",
       "      <td>0.002012</td>\n",
       "      <td>0.000989</td>\n",
       "      <td>0.000636</td>\n",
       "      <td>0.000000</td>\n",
       "      <td>0.001456</td>\n",
       "      <td>0.027579</td>\n",
       "      <td>0.103896</td>\n",
       "      <td>9.0</td>\n",
       "    </tr>\n",
       "    <tr>\n",
       "      <th>6</th>\n",
       "      <td>3</td>\n",
       "      <td>0</td>\n",
       "      <td>21.05</td>\n",
       "      <td>12</td>\n",
       "      <td>4</td>\n",
       "      <td>51</td>\n",
       "      <td>11</td>\n",
       "      <td>1</td>\n",
       "      <td>1</td>\n",
       "      <td>8.0</td>\n",
       "      <td>...</td>\n",
       "      <td>1</td>\n",
       "      <td>1</td>\n",
       "      <td>0.020497</td>\n",
       "      <td>0.034779</td>\n",
       "      <td>0.000861</td>\n",
       "      <td>0.000000</td>\n",
       "      <td>0.026669</td>\n",
       "      <td>0.027579</td>\n",
       "      <td>0.103896</td>\n",
       "      <td>9.0</td>\n",
       "    </tr>\n",
       "    <tr>\n",
       "      <th>9</th>\n",
       "      <td>3</td>\n",
       "      <td>0</td>\n",
       "      <td>21.05</td>\n",
       "      <td>2</td>\n",
       "      <td>4</td>\n",
       "      <td>51</td>\n",
       "      <td>13</td>\n",
       "      <td>1</td>\n",
       "      <td>1</td>\n",
       "      <td>5.0</td>\n",
       "      <td>...</td>\n",
       "      <td>1</td>\n",
       "      <td>1</td>\n",
       "      <td>0.001383</td>\n",
       "      <td>0.005999</td>\n",
       "      <td>0.000969</td>\n",
       "      <td>0.000000</td>\n",
       "      <td>0.003919</td>\n",
       "      <td>0.027579</td>\n",
       "      <td>0.103896</td>\n",
       "      <td>9.0</td>\n",
       "    </tr>\n",
       "  </tbody>\n",
       "</table>\n",
       "<p>5 rows × 38 columns</p>\n",
       "</div>"
      ],
      "text/plain": [
       "   SK_ID  CSI  CONTACT_DATE  SNAP_DATE  COM_CAT#1  COM_CAT#2  COM_CAT#3  \\\n",
       "2      2    0          4.05          5          7         77         12   \n",
       "4      2    0          4.05          4          7         77         11   \n",
       "5      3    0         21.05          1          4         51         12   \n",
       "6      3    0         21.05         12          4         51         11   \n",
       "9      3    0         21.05          2          4         51         13   \n",
       "\n",
       "   BASE_TYPE  ACT  ARPU_GROUP     ...      COM_CAT#25  COM_CAT#26  COM_CAT#27  \\\n",
       "2          1    1         9.0     ...               1           1    0.001801   \n",
       "4          1    1         8.0     ...               1           1    0.006520   \n",
       "5          1    1         7.0     ...               1           1    0.002012   \n",
       "6          1    1         8.0     ...               1           1    0.020497   \n",
       "9          1    1         5.0     ...               1           1    0.001383   \n",
       "\n",
       "   COM_CAT#28  COM_CAT#29  COM_CAT#30  COM_CAT#31  COM_CAT#32  COM_CAT#33  \\\n",
       "2    0.008317    0.000081    0.002441    0.018126    0.027579    0.103896   \n",
       "4    0.001408    0.000010    0.001709    0.022772    0.027579    0.103896   \n",
       "5    0.000989    0.000636    0.000000    0.001456    0.027579    0.103896   \n",
       "6    0.034779    0.000861    0.000000    0.026669    0.027579    0.103896   \n",
       "9    0.005999    0.000969    0.000000    0.003919    0.027579    0.103896   \n",
       "\n",
       "   COM_CAT#34  \n",
       "2         9.0  \n",
       "4         9.0  \n",
       "5         9.0  \n",
       "6         9.0  \n",
       "9         9.0  \n",
       "\n",
       "[5 rows x 38 columns]"
      ]
     },
     "execution_count": 13,
     "metadata": {},
     "output_type": "execute_result"
    }
   ],
   "source": [
    "subs_csi_features_2.head()"
   ]
  },
  {
   "cell_type": "markdown",
   "metadata": {},
   "source": [
    "## Определение категориальных и количественных признаков"
   ]
  },
  {
   "cell_type": "markdown",
   "metadata": {},
   "source": [
    "## Определение значимых признаков в датасете"
   ]
  },
  {
   "cell_type": "markdown",
   "metadata": {},
   "source": [
    "## Группировка subs_csi_features"
   ]
  },
  {
   "cell_type": "code",
   "execution_count": 14,
   "metadata": {},
   "outputs": [],
   "source": [
    "#Нет смысла добавлять в группировку что-то еще, так как текущая связка из двух полей покрывает все остальные\n",
    "subs_csi_features_group = subs_csi_features_2.groupby(['SK_ID','SNAP_DATE']).mean()\n"
   ]
  },
  {
   "cell_type": "code",
   "execution_count": 15,
   "metadata": {},
   "outputs": [
    {
     "data": {
      "text/plain": [
       "(45709, 35)"
      ]
     },
     "execution_count": 15,
     "metadata": {},
     "output_type": "execute_result"
    }
   ],
   "source": [
    "subs_csi_features_group.shape"
   ]
  },
  {
   "cell_type": "code",
   "execution_count": 138,
   "metadata": {},
   "outputs": [
    {
     "data": {
      "text/html": [
       "<div>\n",
       "<style scoped>\n",
       "    .dataframe tbody tr th:only-of-type {\n",
       "        vertical-align: middle;\n",
       "    }\n",
       "\n",
       "    .dataframe tbody tr th {\n",
       "        vertical-align: top;\n",
       "    }\n",
       "\n",
       "    .dataframe thead th {\n",
       "        text-align: right;\n",
       "    }\n",
       "</style>\n",
       "<table border=\"1\" class=\"dataframe\">\n",
       "  <thead>\n",
       "    <tr style=\"text-align: right;\">\n",
       "      <th></th>\n",
       "      <th></th>\n",
       "      <th>CSI</th>\n",
       "      <th>CONTACT_DATE</th>\n",
       "      <th>COM_CAT#1</th>\n",
       "      <th>COM_CAT#2</th>\n",
       "      <th>COM_CAT#3</th>\n",
       "      <th>BASE_TYPE</th>\n",
       "      <th>ACT</th>\n",
       "      <th>ARPU_GROUP</th>\n",
       "      <th>COM_CAT#7</th>\n",
       "      <th>COM_CAT#8</th>\n",
       "      <th>...</th>\n",
       "      <th>COM_CAT#25</th>\n",
       "      <th>COM_CAT#26</th>\n",
       "      <th>COM_CAT#27</th>\n",
       "      <th>COM_CAT#28</th>\n",
       "      <th>COM_CAT#29</th>\n",
       "      <th>COM_CAT#30</th>\n",
       "      <th>COM_CAT#31</th>\n",
       "      <th>COM_CAT#32</th>\n",
       "      <th>COM_CAT#33</th>\n",
       "      <th>COM_CAT#34</th>\n",
       "    </tr>\n",
       "    <tr>\n",
       "      <th>SK_ID</th>\n",
       "      <th>SNAP_DATE</th>\n",
       "      <th></th>\n",
       "      <th></th>\n",
       "      <th></th>\n",
       "      <th></th>\n",
       "      <th></th>\n",
       "      <th></th>\n",
       "      <th></th>\n",
       "      <th></th>\n",
       "      <th></th>\n",
       "      <th></th>\n",
       "      <th></th>\n",
       "      <th></th>\n",
       "      <th></th>\n",
       "      <th></th>\n",
       "      <th></th>\n",
       "      <th></th>\n",
       "      <th></th>\n",
       "      <th></th>\n",
       "      <th></th>\n",
       "      <th></th>\n",
       "      <th></th>\n",
       "    </tr>\n",
       "  </thead>\n",
       "  <tbody>\n",
       "    <tr>\n",
       "      <th rowspan=\"2\" valign=\"top\">2</th>\n",
       "      <th>4</th>\n",
       "      <td>0</td>\n",
       "      <td>4.05</td>\n",
       "      <td>7</td>\n",
       "      <td>77</td>\n",
       "      <td>11</td>\n",
       "      <td>1</td>\n",
       "      <td>1</td>\n",
       "      <td>8.0</td>\n",
       "      <td>2</td>\n",
       "      <td>1318.0</td>\n",
       "      <td>...</td>\n",
       "      <td>1</td>\n",
       "      <td>1</td>\n",
       "      <td>0.006520</td>\n",
       "      <td>0.001408</td>\n",
       "      <td>0.000010</td>\n",
       "      <td>0.001709</td>\n",
       "      <td>0.022772</td>\n",
       "      <td>0.027579</td>\n",
       "      <td>0.103896</td>\n",
       "      <td>9.0</td>\n",
       "    </tr>\n",
       "    <tr>\n",
       "      <th>5</th>\n",
       "      <td>0</td>\n",
       "      <td>4.05</td>\n",
       "      <td>7</td>\n",
       "      <td>77</td>\n",
       "      <td>12</td>\n",
       "      <td>1</td>\n",
       "      <td>1</td>\n",
       "      <td>9.0</td>\n",
       "      <td>2</td>\n",
       "      <td>1318.0</td>\n",
       "      <td>...</td>\n",
       "      <td>1</td>\n",
       "      <td>1</td>\n",
       "      <td>0.001801</td>\n",
       "      <td>0.008317</td>\n",
       "      <td>0.000081</td>\n",
       "      <td>0.002441</td>\n",
       "      <td>0.018126</td>\n",
       "      <td>0.027579</td>\n",
       "      <td>0.103896</td>\n",
       "      <td>9.0</td>\n",
       "    </tr>\n",
       "    <tr>\n",
       "      <th rowspan=\"3\" valign=\"top\">3</th>\n",
       "      <th>1</th>\n",
       "      <td>0</td>\n",
       "      <td>21.05</td>\n",
       "      <td>4</td>\n",
       "      <td>51</td>\n",
       "      <td>12</td>\n",
       "      <td>1</td>\n",
       "      <td>1</td>\n",
       "      <td>7.0</td>\n",
       "      <td>2</td>\n",
       "      <td>742.0</td>\n",
       "      <td>...</td>\n",
       "      <td>1</td>\n",
       "      <td>1</td>\n",
       "      <td>0.002012</td>\n",
       "      <td>0.000989</td>\n",
       "      <td>0.000636</td>\n",
       "      <td>0.000000</td>\n",
       "      <td>0.001456</td>\n",
       "      <td>0.027579</td>\n",
       "      <td>0.103896</td>\n",
       "      <td>9.0</td>\n",
       "    </tr>\n",
       "    <tr>\n",
       "      <th>2</th>\n",
       "      <td>0</td>\n",
       "      <td>21.05</td>\n",
       "      <td>4</td>\n",
       "      <td>51</td>\n",
       "      <td>13</td>\n",
       "      <td>1</td>\n",
       "      <td>1</td>\n",
       "      <td>5.0</td>\n",
       "      <td>2</td>\n",
       "      <td>742.0</td>\n",
       "      <td>...</td>\n",
       "      <td>1</td>\n",
       "      <td>1</td>\n",
       "      <td>0.001383</td>\n",
       "      <td>0.005999</td>\n",
       "      <td>0.000969</td>\n",
       "      <td>0.000000</td>\n",
       "      <td>0.003919</td>\n",
       "      <td>0.027579</td>\n",
       "      <td>0.103896</td>\n",
       "      <td>9.0</td>\n",
       "    </tr>\n",
       "    <tr>\n",
       "      <th>3</th>\n",
       "      <td>0</td>\n",
       "      <td>21.05</td>\n",
       "      <td>4</td>\n",
       "      <td>51</td>\n",
       "      <td>14</td>\n",
       "      <td>2</td>\n",
       "      <td>1</td>\n",
       "      <td>12.0</td>\n",
       "      <td>2</td>\n",
       "      <td>742.0</td>\n",
       "      <td>...</td>\n",
       "      <td>1</td>\n",
       "      <td>1</td>\n",
       "      <td>0.001214</td>\n",
       "      <td>0.006095</td>\n",
       "      <td>0.001501</td>\n",
       "      <td>0.000000</td>\n",
       "      <td>0.002942</td>\n",
       "      <td>0.027579</td>\n",
       "      <td>0.103896</td>\n",
       "      <td>9.0</td>\n",
       "    </tr>\n",
       "  </tbody>\n",
       "</table>\n",
       "<p>5 rows × 35 columns</p>\n",
       "</div>"
      ],
      "text/plain": [
       "                 CSI  CONTACT_DATE  COM_CAT#1  COM_CAT#2  COM_CAT#3  \\\n",
       "SK_ID SNAP_DATE                                                       \n",
       "2     4            0          4.05          7         77         11   \n",
       "      5            0          4.05          7         77         12   \n",
       "3     1            0         21.05          4         51         12   \n",
       "      2            0         21.05          4         51         13   \n",
       "      3            0         21.05          4         51         14   \n",
       "\n",
       "                 BASE_TYPE  ACT  ARPU_GROUP  COM_CAT#7  COM_CAT#8     ...      \\\n",
       "SK_ID SNAP_DATE                                                       ...       \n",
       "2     4                  1    1         8.0          2     1318.0     ...       \n",
       "      5                  1    1         9.0          2     1318.0     ...       \n",
       "3     1                  1    1         7.0          2      742.0     ...       \n",
       "      2                  1    1         5.0          2      742.0     ...       \n",
       "      3                  2    1        12.0          2      742.0     ...       \n",
       "\n",
       "                 COM_CAT#25  COM_CAT#26  COM_CAT#27  COM_CAT#28  COM_CAT#29  \\\n",
       "SK_ID SNAP_DATE                                                               \n",
       "2     4                   1           1    0.006520    0.001408    0.000010   \n",
       "      5                   1           1    0.001801    0.008317    0.000081   \n",
       "3     1                   1           1    0.002012    0.000989    0.000636   \n",
       "      2                   1           1    0.001383    0.005999    0.000969   \n",
       "      3                   1           1    0.001214    0.006095    0.001501   \n",
       "\n",
       "                 COM_CAT#30  COM_CAT#31  COM_CAT#32  COM_CAT#33  COM_CAT#34  \n",
       "SK_ID SNAP_DATE                                                              \n",
       "2     4            0.001709    0.022772    0.027579    0.103896         9.0  \n",
       "      5            0.002441    0.018126    0.027579    0.103896         9.0  \n",
       "3     1            0.000000    0.001456    0.027579    0.103896         9.0  \n",
       "      2            0.000000    0.003919    0.027579    0.103896         9.0  \n",
       "      3            0.000000    0.002942    0.027579    0.103896         9.0  \n",
       "\n",
       "[5 rows x 35 columns]"
      ]
     },
     "execution_count": 138,
     "metadata": {},
     "output_type": "execute_result"
    }
   ],
   "source": [
    "subs_csi_features_group.head()"
   ]
  },
  {
   "cell_type": "code",
   "execution_count": null,
   "metadata": {},
   "outputs": [],
   "source": []
  },
  {
   "cell_type": "markdown",
   "metadata": {},
   "source": [
    "## Открытие третьей таблицы, определение динамики активности абонентов"
   ]
  },
  {
   "cell_type": "code",
   "execution_count": 17,
   "metadata": {},
   "outputs": [],
   "source": [
    "subs_bs_consumption = pd.read_csv('./subs_bs_consumption_train.csv', sep=';', decimal = ',', parse_dates = ['MON'])"
   ]
  },
  {
   "cell_type": "code",
   "execution_count": 18,
   "metadata": {},
   "outputs": [
    {
     "data": {
      "text/html": [
       "<div>\n",
       "<style scoped>\n",
       "    .dataframe tbody tr th:only-of-type {\n",
       "        vertical-align: middle;\n",
       "    }\n",
       "\n",
       "    .dataframe tbody tr th {\n",
       "        vertical-align: top;\n",
       "    }\n",
       "\n",
       "    .dataframe thead th {\n",
       "        text-align: right;\n",
       "    }\n",
       "</style>\n",
       "<table border=\"1\" class=\"dataframe\">\n",
       "  <thead>\n",
       "    <tr style=\"text-align: right;\">\n",
       "      <th></th>\n",
       "      <th>SK_ID</th>\n",
       "      <th>CELL_LAC_ID</th>\n",
       "      <th>MON</th>\n",
       "      <th>SUM_MINUTES</th>\n",
       "      <th>SUM_DATA_MB</th>\n",
       "      <th>SUM_DATA_MIN</th>\n",
       "    </tr>\n",
       "  </thead>\n",
       "  <tbody>\n",
       "    <tr>\n",
       "      <th>0</th>\n",
       "      <td>1827</td>\n",
       "      <td>240277</td>\n",
       "      <td>01.03</td>\n",
       "      <td>0.000000</td>\n",
       "      <td>0.000002</td>\n",
       "      <td>0.000234</td>\n",
       "    </tr>\n",
       "    <tr>\n",
       "      <th>1</th>\n",
       "      <td>1827</td>\n",
       "      <td>355195</td>\n",
       "      <td>01.03</td>\n",
       "      <td>0.000072</td>\n",
       "      <td>0.000000</td>\n",
       "      <td>0.000000</td>\n",
       "    </tr>\n",
       "    <tr>\n",
       "      <th>2</th>\n",
       "      <td>1827</td>\n",
       "      <td>238554</td>\n",
       "      <td>01.04</td>\n",
       "      <td>0.000000</td>\n",
       "      <td>0.000019</td>\n",
       "      <td>0.000326</td>\n",
       "    </tr>\n",
       "    <tr>\n",
       "      <th>3</th>\n",
       "      <td>1827</td>\n",
       "      <td>350978</td>\n",
       "      <td>01.04</td>\n",
       "      <td>0.016576</td>\n",
       "      <td>0.002260</td>\n",
       "      <td>0.004329</td>\n",
       "    </tr>\n",
       "    <tr>\n",
       "      <th>4</th>\n",
       "      <td>1827</td>\n",
       "      <td>315010</td>\n",
       "      <td>01.04</td>\n",
       "      <td>0.012755</td>\n",
       "      <td>0.001186</td>\n",
       "      <td>0.002491</td>\n",
       "    </tr>\n",
       "  </tbody>\n",
       "</table>\n",
       "</div>"
      ],
      "text/plain": [
       "   SK_ID  CELL_LAC_ID    MON  SUM_MINUTES  SUM_DATA_MB  SUM_DATA_MIN\n",
       "0   1827       240277  01.03     0.000000     0.000002      0.000234\n",
       "1   1827       355195  01.03     0.000072     0.000000      0.000000\n",
       "2   1827       238554  01.04     0.000000     0.000019      0.000326\n",
       "3   1827       350978  01.04     0.016576     0.002260      0.004329\n",
       "4   1827       315010  01.04     0.012755     0.001186      0.002491"
      ]
     },
     "execution_count": 18,
     "metadata": {},
     "output_type": "execute_result"
    }
   ],
   "source": [
    "subs_bs_consumption.head()"
   ]
  },
  {
   "cell_type": "markdown",
   "metadata": {},
   "source": [
    "### Динамика активности абонента"
   ]
  },
  {
   "cell_type": "code",
   "execution_count": 19,
   "metadata": {},
   "outputs": [],
   "source": [
    "consumption_train = subs_bs_consumption[['SK_ID','MON', 'SUM_MINUTES', 'SUM_DATA_MB', 'SUM_DATA_MIN']]\n",
    "consumption_sum_mon = consumption_train.groupby(['SK_ID']).mean()  #среднее значение по месяцам\n",
    "consumption_mon = consumption_train[['SK_ID','MON']]  #выбираем только месяца\n",
    "consumption_mean_mon = consumption_mon.groupby(['SK_ID']).max() #Узнаем максимальный месяц у каждого абонента"
   ]
  },
  {
   "cell_type": "code",
   "execution_count": 20,
   "metadata": {},
   "outputs": [],
   "source": [
    "#Делаем группировку, чтобы вычислить активность абонентов в последний для них месяц (в истории)\n",
    "consumption_group = consumption_mean_mon.merge(consumption_sum_mon, left_on='SK_ID', right_on='SK_ID', how='inner')"
   ]
  },
  {
   "cell_type": "code",
   "execution_count": 21,
   "metadata": {},
   "outputs": [
    {
     "data": {
      "text/html": [
       "<div>\n",
       "<style scoped>\n",
       "    .dataframe tbody tr th:only-of-type {\n",
       "        vertical-align: middle;\n",
       "    }\n",
       "\n",
       "    .dataframe tbody tr th {\n",
       "        vertical-align: top;\n",
       "    }\n",
       "\n",
       "    .dataframe thead th {\n",
       "        text-align: right;\n",
       "    }\n",
       "</style>\n",
       "<table border=\"1\" class=\"dataframe\">\n",
       "  <thead>\n",
       "    <tr style=\"text-align: right;\">\n",
       "      <th></th>\n",
       "      <th>MON</th>\n",
       "      <th>SUM_MINUTES</th>\n",
       "      <th>SUM_DATA_MB</th>\n",
       "      <th>SUM_DATA_MIN</th>\n",
       "    </tr>\n",
       "    <tr>\n",
       "      <th>SK_ID</th>\n",
       "      <th></th>\n",
       "      <th></th>\n",
       "      <th></th>\n",
       "      <th></th>\n",
       "    </tr>\n",
       "  </thead>\n",
       "  <tbody>\n",
       "    <tr>\n",
       "      <th>2</th>\n",
       "      <td>01.05</td>\n",
       "      <td>0.000554</td>\n",
       "      <td>0.000047</td>\n",
       "      <td>0.004205</td>\n",
       "    </tr>\n",
       "    <tr>\n",
       "      <th>3</th>\n",
       "      <td>01.05</td>\n",
       "      <td>0.004911</td>\n",
       "      <td>0.000398</td>\n",
       "      <td>0.060658</td>\n",
       "    </tr>\n",
       "    <tr>\n",
       "      <th>4</th>\n",
       "      <td>01.05</td>\n",
       "      <td>0.005607</td>\n",
       "      <td>0.000000</td>\n",
       "      <td>0.000000</td>\n",
       "    </tr>\n",
       "    <tr>\n",
       "      <th>5</th>\n",
       "      <td>01.05</td>\n",
       "      <td>0.000842</td>\n",
       "      <td>0.000871</td>\n",
       "      <td>0.004767</td>\n",
       "    </tr>\n",
       "    <tr>\n",
       "      <th>6</th>\n",
       "      <td>01.05</td>\n",
       "      <td>0.001875</td>\n",
       "      <td>0.000000</td>\n",
       "      <td>0.000000</td>\n",
       "    </tr>\n",
       "  </tbody>\n",
       "</table>\n",
       "</div>"
      ],
      "text/plain": [
       "         MON  SUM_MINUTES  SUM_DATA_MB  SUM_DATA_MIN\n",
       "SK_ID                                               \n",
       "2      01.05     0.000554     0.000047      0.004205\n",
       "3      01.05     0.004911     0.000398      0.060658\n",
       "4      01.05     0.005607     0.000000      0.000000\n",
       "5      01.05     0.000842     0.000871      0.004767\n",
       "6      01.05     0.001875     0.000000      0.000000"
      ]
     },
     "execution_count": 21,
     "metadata": {},
     "output_type": "execute_result"
    }
   ],
   "source": [
    "#Получили среднее значения последнего месяца для абонента в ячейке последнего месяца для него\n",
    "consumption_group.head()"
   ]
  },
  {
   "cell_type": "code",
   "execution_count": 22,
   "metadata": {},
   "outputs": [],
   "source": [
    "subs_bs_consumption_group = consumption_train.groupby(['SK_ID']).sum() #Делаем суумирование трафика абонентов в месяце 05\n",
    "consumption_2 = consumption_train.groupby(['SK_ID','MON']).sum() # Делаем суммирование просто по месяцам\n",
    "consumption_trend = consumption_group.merge(consumption_2, left_on=['SK_ID','MON'], right_on=['SK_ID','MON'], how='inner') \n",
    "#соединяем таблице inner join, чтобы вычислять динамику\n",
    "consumption_trend['SUM_MINUTES_x'] = consumption_trend['SUM_MINUTES_x'] - consumption_trend['SUM_MINUTES_y'] \n",
    "consumption_trend['SUM_DATA_MB_x'] = consumption_trend['SUM_DATA_MB_x'] - consumption_trend['SUM_DATA_MB_y'] \n",
    "consumption_trend['SUM_DATA_MIN_x'] = consumption_trend['SUM_DATA_MIN_x'] - consumption_trend['SUM_DATA_MIN_y'] \n",
    "\n",
    "consumption_trend = consumption_trend.drop(('SUM_MINUTES_y'), axis=1) \n",
    "consumption_trend = consumption_trend.drop(('SUM_DATA_MB_y'), axis=1) \n",
    "consumption_trend = consumption_trend.drop(('SUM_DATA_MIN_y'), axis=1) "
   ]
  },
  {
   "cell_type": "code",
   "execution_count": 23,
   "metadata": {},
   "outputs": [
    {
     "data": {
      "text/html": [
       "<div>\n",
       "<style scoped>\n",
       "    .dataframe tbody tr th:only-of-type {\n",
       "        vertical-align: middle;\n",
       "    }\n",
       "\n",
       "    .dataframe tbody tr th {\n",
       "        vertical-align: top;\n",
       "    }\n",
       "\n",
       "    .dataframe thead th {\n",
       "        text-align: right;\n",
       "    }\n",
       "</style>\n",
       "<table border=\"1\" class=\"dataframe\">\n",
       "  <thead>\n",
       "    <tr style=\"text-align: right;\">\n",
       "      <th></th>\n",
       "      <th>MON</th>\n",
       "      <th>SUM_MINUTES_x</th>\n",
       "      <th>SUM_DATA_MB_x</th>\n",
       "      <th>SUM_DATA_MIN_x</th>\n",
       "    </tr>\n",
       "    <tr>\n",
       "      <th>SK_ID</th>\n",
       "      <th></th>\n",
       "      <th></th>\n",
       "      <th></th>\n",
       "      <th></th>\n",
       "    </tr>\n",
       "  </thead>\n",
       "  <tbody>\n",
       "    <tr>\n",
       "      <th>2</th>\n",
       "      <td>01.05</td>\n",
       "      <td>-0.036174</td>\n",
       "      <td>-0.004328</td>\n",
       "      <td>-0.379529</td>\n",
       "    </tr>\n",
       "    <tr>\n",
       "      <th>3</th>\n",
       "      <td>01.05</td>\n",
       "      <td>-0.057364</td>\n",
       "      <td>-0.000938</td>\n",
       "      <td>-0.289759</td>\n",
       "    </tr>\n",
       "    <tr>\n",
       "      <th>4</th>\n",
       "      <td>01.05</td>\n",
       "      <td>-0.105326</td>\n",
       "      <td>0.000000</td>\n",
       "      <td>0.000000</td>\n",
       "    </tr>\n",
       "    <tr>\n",
       "      <th>5</th>\n",
       "      <td>01.05</td>\n",
       "      <td>-0.130796</td>\n",
       "      <td>-0.079279</td>\n",
       "      <td>-0.739966</td>\n",
       "    </tr>\n",
       "    <tr>\n",
       "      <th>6</th>\n",
       "      <td>01.05</td>\n",
       "      <td>-0.026522</td>\n",
       "      <td>0.000000</td>\n",
       "      <td>0.000000</td>\n",
       "    </tr>\n",
       "  </tbody>\n",
       "</table>\n",
       "</div>"
      ],
      "text/plain": [
       "         MON  SUM_MINUTES_x  SUM_DATA_MB_x  SUM_DATA_MIN_x\n",
       "SK_ID                                                     \n",
       "2      01.05      -0.036174      -0.004328       -0.379529\n",
       "3      01.05      -0.057364      -0.000938       -0.289759\n",
       "4      01.05      -0.105326       0.000000        0.000000\n",
       "5      01.05      -0.130796      -0.079279       -0.739966\n",
       "6      01.05      -0.026522       0.000000        0.000000"
      ]
     },
     "execution_count": 23,
     "metadata": {},
     "output_type": "execute_result"
    }
   ],
   "source": [
    "consumption_trend.head()"
   ]
  },
  {
   "cell_type": "markdown",
   "metadata": {},
   "source": [
    "## Соединение 3 таблиц, группировка по SK_ID"
   ]
  },
  {
   "cell_type": "code",
   "execution_count": 24,
   "metadata": {},
   "outputs": [],
   "source": [
    "subs_csi_features_con = subs_csi_features_group.merge(consumption_trend, left_on='SK_ID', right_on='SK_ID', how='inner')"
   ]
  },
  {
   "cell_type": "code",
   "execution_count": 25,
   "metadata": {},
   "outputs": [
    {
     "data": {
      "text/html": [
       "<div>\n",
       "<style scoped>\n",
       "    .dataframe tbody tr th:only-of-type {\n",
       "        vertical-align: middle;\n",
       "    }\n",
       "\n",
       "    .dataframe tbody tr th {\n",
       "        vertical-align: top;\n",
       "    }\n",
       "\n",
       "    .dataframe thead th {\n",
       "        text-align: right;\n",
       "    }\n",
       "</style>\n",
       "<table border=\"1\" class=\"dataframe\">\n",
       "  <thead>\n",
       "    <tr style=\"text-align: right;\">\n",
       "      <th></th>\n",
       "      <th>CSI</th>\n",
       "      <th>CONTACT_DATE</th>\n",
       "      <th>COM_CAT#1</th>\n",
       "      <th>COM_CAT#2</th>\n",
       "      <th>COM_CAT#3</th>\n",
       "      <th>BASE_TYPE</th>\n",
       "      <th>ACT</th>\n",
       "      <th>ARPU_GROUP</th>\n",
       "      <th>COM_CAT#7</th>\n",
       "      <th>COM_CAT#8</th>\n",
       "      <th>...</th>\n",
       "      <th>COM_CAT#29</th>\n",
       "      <th>COM_CAT#30</th>\n",
       "      <th>COM_CAT#31</th>\n",
       "      <th>COM_CAT#32</th>\n",
       "      <th>COM_CAT#33</th>\n",
       "      <th>COM_CAT#34</th>\n",
       "      <th>MON</th>\n",
       "      <th>SUM_MINUTES_x</th>\n",
       "      <th>SUM_DATA_MB_x</th>\n",
       "      <th>SUM_DATA_MIN_x</th>\n",
       "    </tr>\n",
       "    <tr>\n",
       "      <th>SK_ID</th>\n",
       "      <th></th>\n",
       "      <th></th>\n",
       "      <th></th>\n",
       "      <th></th>\n",
       "      <th></th>\n",
       "      <th></th>\n",
       "      <th></th>\n",
       "      <th></th>\n",
       "      <th></th>\n",
       "      <th></th>\n",
       "      <th></th>\n",
       "      <th></th>\n",
       "      <th></th>\n",
       "      <th></th>\n",
       "      <th></th>\n",
       "      <th></th>\n",
       "      <th></th>\n",
       "      <th></th>\n",
       "      <th></th>\n",
       "      <th></th>\n",
       "      <th></th>\n",
       "    </tr>\n",
       "  </thead>\n",
       "  <tbody>\n",
       "    <tr>\n",
       "      <th>2</th>\n",
       "      <td>0</td>\n",
       "      <td>4.05</td>\n",
       "      <td>7</td>\n",
       "      <td>77</td>\n",
       "      <td>11</td>\n",
       "      <td>1</td>\n",
       "      <td>1</td>\n",
       "      <td>8.0</td>\n",
       "      <td>2</td>\n",
       "      <td>1318.0</td>\n",
       "      <td>...</td>\n",
       "      <td>0.000010</td>\n",
       "      <td>0.001709</td>\n",
       "      <td>0.022772</td>\n",
       "      <td>0.027579</td>\n",
       "      <td>0.103896</td>\n",
       "      <td>9.0</td>\n",
       "      <td>01.05</td>\n",
       "      <td>-0.036174</td>\n",
       "      <td>-0.004328</td>\n",
       "      <td>-0.379529</td>\n",
       "    </tr>\n",
       "    <tr>\n",
       "      <th>2</th>\n",
       "      <td>0</td>\n",
       "      <td>4.05</td>\n",
       "      <td>7</td>\n",
       "      <td>77</td>\n",
       "      <td>12</td>\n",
       "      <td>1</td>\n",
       "      <td>1</td>\n",
       "      <td>9.0</td>\n",
       "      <td>2</td>\n",
       "      <td>1318.0</td>\n",
       "      <td>...</td>\n",
       "      <td>0.000081</td>\n",
       "      <td>0.002441</td>\n",
       "      <td>0.018126</td>\n",
       "      <td>0.027579</td>\n",
       "      <td>0.103896</td>\n",
       "      <td>9.0</td>\n",
       "      <td>01.05</td>\n",
       "      <td>-0.036174</td>\n",
       "      <td>-0.004328</td>\n",
       "      <td>-0.379529</td>\n",
       "    </tr>\n",
       "    <tr>\n",
       "      <th>3</th>\n",
       "      <td>0</td>\n",
       "      <td>21.05</td>\n",
       "      <td>4</td>\n",
       "      <td>51</td>\n",
       "      <td>12</td>\n",
       "      <td>1</td>\n",
       "      <td>1</td>\n",
       "      <td>7.0</td>\n",
       "      <td>2</td>\n",
       "      <td>742.0</td>\n",
       "      <td>...</td>\n",
       "      <td>0.000636</td>\n",
       "      <td>0.000000</td>\n",
       "      <td>0.001456</td>\n",
       "      <td>0.027579</td>\n",
       "      <td>0.103896</td>\n",
       "      <td>9.0</td>\n",
       "      <td>01.05</td>\n",
       "      <td>-0.057364</td>\n",
       "      <td>-0.000938</td>\n",
       "      <td>-0.289759</td>\n",
       "    </tr>\n",
       "    <tr>\n",
       "      <th>3</th>\n",
       "      <td>0</td>\n",
       "      <td>21.05</td>\n",
       "      <td>4</td>\n",
       "      <td>51</td>\n",
       "      <td>13</td>\n",
       "      <td>1</td>\n",
       "      <td>1</td>\n",
       "      <td>5.0</td>\n",
       "      <td>2</td>\n",
       "      <td>742.0</td>\n",
       "      <td>...</td>\n",
       "      <td>0.000969</td>\n",
       "      <td>0.000000</td>\n",
       "      <td>0.003919</td>\n",
       "      <td>0.027579</td>\n",
       "      <td>0.103896</td>\n",
       "      <td>9.0</td>\n",
       "      <td>01.05</td>\n",
       "      <td>-0.057364</td>\n",
       "      <td>-0.000938</td>\n",
       "      <td>-0.289759</td>\n",
       "    </tr>\n",
       "    <tr>\n",
       "      <th>3</th>\n",
       "      <td>0</td>\n",
       "      <td>21.05</td>\n",
       "      <td>4</td>\n",
       "      <td>51</td>\n",
       "      <td>14</td>\n",
       "      <td>2</td>\n",
       "      <td>1</td>\n",
       "      <td>12.0</td>\n",
       "      <td>2</td>\n",
       "      <td>742.0</td>\n",
       "      <td>...</td>\n",
       "      <td>0.001501</td>\n",
       "      <td>0.000000</td>\n",
       "      <td>0.002942</td>\n",
       "      <td>0.027579</td>\n",
       "      <td>0.103896</td>\n",
       "      <td>9.0</td>\n",
       "      <td>01.05</td>\n",
       "      <td>-0.057364</td>\n",
       "      <td>-0.000938</td>\n",
       "      <td>-0.289759</td>\n",
       "    </tr>\n",
       "  </tbody>\n",
       "</table>\n",
       "<p>5 rows × 39 columns</p>\n",
       "</div>"
      ],
      "text/plain": [
       "       CSI  CONTACT_DATE  COM_CAT#1  COM_CAT#2  COM_CAT#3  BASE_TYPE  ACT  \\\n",
       "SK_ID                                                                       \n",
       "2        0          4.05          7         77         11          1    1   \n",
       "2        0          4.05          7         77         12          1    1   \n",
       "3        0         21.05          4         51         12          1    1   \n",
       "3        0         21.05          4         51         13          1    1   \n",
       "3        0         21.05          4         51         14          2    1   \n",
       "\n",
       "       ARPU_GROUP  COM_CAT#7  COM_CAT#8       ...        COM_CAT#29  \\\n",
       "SK_ID                                         ...                     \n",
       "2             8.0          2     1318.0       ...          0.000010   \n",
       "2             9.0          2     1318.0       ...          0.000081   \n",
       "3             7.0          2      742.0       ...          0.000636   \n",
       "3             5.0          2      742.0       ...          0.000969   \n",
       "3            12.0          2      742.0       ...          0.001501   \n",
       "\n",
       "       COM_CAT#30  COM_CAT#31  COM_CAT#32  COM_CAT#33  COM_CAT#34    MON  \\\n",
       "SK_ID                                                                      \n",
       "2        0.001709    0.022772    0.027579    0.103896         9.0  01.05   \n",
       "2        0.002441    0.018126    0.027579    0.103896         9.0  01.05   \n",
       "3        0.000000    0.001456    0.027579    0.103896         9.0  01.05   \n",
       "3        0.000000    0.003919    0.027579    0.103896         9.0  01.05   \n",
       "3        0.000000    0.002942    0.027579    0.103896         9.0  01.05   \n",
       "\n",
       "       SUM_MINUTES_x  SUM_DATA_MB_x  SUM_DATA_MIN_x  \n",
       "SK_ID                                                \n",
       "2          -0.036174      -0.004328       -0.379529  \n",
       "2          -0.036174      -0.004328       -0.379529  \n",
       "3          -0.057364      -0.000938       -0.289759  \n",
       "3          -0.057364      -0.000938       -0.289759  \n",
       "3          -0.057364      -0.000938       -0.289759  \n",
       "\n",
       "[5 rows x 39 columns]"
      ]
     },
     "execution_count": 25,
     "metadata": {},
     "output_type": "execute_result"
    }
   ],
   "source": [
    "subs_csi_features_con.head()"
   ]
  },
  {
   "cell_type": "code",
   "execution_count": 26,
   "metadata": {},
   "outputs": [
    {
     "data": {
      "text/plain": [
       "(45627, 39)"
      ]
     },
     "execution_count": 26,
     "metadata": {},
     "output_type": "execute_result"
    }
   ],
   "source": [
    "subs_csi_features_con.shape"
   ]
  },
  {
   "cell_type": "code",
   "execution_count": 27,
   "metadata": {},
   "outputs": [],
   "source": [
    "train = subs_csi_features_con.groupby(['SK_ID']).mean()"
   ]
  },
  {
   "cell_type": "code",
   "execution_count": 28,
   "metadata": {},
   "outputs": [
    {
     "data": {
      "text/html": [
       "<div>\n",
       "<style scoped>\n",
       "    .dataframe tbody tr th:only-of-type {\n",
       "        vertical-align: middle;\n",
       "    }\n",
       "\n",
       "    .dataframe tbody tr th {\n",
       "        vertical-align: top;\n",
       "    }\n",
       "\n",
       "    .dataframe thead th {\n",
       "        text-align: right;\n",
       "    }\n",
       "</style>\n",
       "<table border=\"1\" class=\"dataframe\">\n",
       "  <thead>\n",
       "    <tr style=\"text-align: right;\">\n",
       "      <th></th>\n",
       "      <th>CSI</th>\n",
       "      <th>CONTACT_DATE</th>\n",
       "      <th>COM_CAT#1</th>\n",
       "      <th>COM_CAT#2</th>\n",
       "      <th>COM_CAT#3</th>\n",
       "      <th>BASE_TYPE</th>\n",
       "      <th>ACT</th>\n",
       "      <th>ARPU_GROUP</th>\n",
       "      <th>COM_CAT#7</th>\n",
       "      <th>COM_CAT#8</th>\n",
       "      <th>...</th>\n",
       "      <th>COM_CAT#28</th>\n",
       "      <th>COM_CAT#29</th>\n",
       "      <th>COM_CAT#30</th>\n",
       "      <th>COM_CAT#31</th>\n",
       "      <th>COM_CAT#32</th>\n",
       "      <th>COM_CAT#33</th>\n",
       "      <th>COM_CAT#34</th>\n",
       "      <th>SUM_MINUTES_x</th>\n",
       "      <th>SUM_DATA_MB_x</th>\n",
       "      <th>SUM_DATA_MIN_x</th>\n",
       "    </tr>\n",
       "    <tr>\n",
       "      <th>SK_ID</th>\n",
       "      <th></th>\n",
       "      <th></th>\n",
       "      <th></th>\n",
       "      <th></th>\n",
       "      <th></th>\n",
       "      <th></th>\n",
       "      <th></th>\n",
       "      <th></th>\n",
       "      <th></th>\n",
       "      <th></th>\n",
       "      <th></th>\n",
       "      <th></th>\n",
       "      <th></th>\n",
       "      <th></th>\n",
       "      <th></th>\n",
       "      <th></th>\n",
       "      <th></th>\n",
       "      <th></th>\n",
       "      <th></th>\n",
       "      <th></th>\n",
       "      <th></th>\n",
       "    </tr>\n",
       "  </thead>\n",
       "  <tbody>\n",
       "    <tr>\n",
       "      <th>2</th>\n",
       "      <td>0.0</td>\n",
       "      <td>4.05</td>\n",
       "      <td>7.0</td>\n",
       "      <td>77.0</td>\n",
       "      <td>11.500000</td>\n",
       "      <td>1.0</td>\n",
       "      <td>1.0</td>\n",
       "      <td>8.500000</td>\n",
       "      <td>2.000000</td>\n",
       "      <td>1318.000000</td>\n",
       "      <td>...</td>\n",
       "      <td>0.004862</td>\n",
       "      <td>0.000046</td>\n",
       "      <td>0.002075</td>\n",
       "      <td>0.020449</td>\n",
       "      <td>0.027579</td>\n",
       "      <td>0.103896</td>\n",
       "      <td>9.0</td>\n",
       "      <td>-0.036174</td>\n",
       "      <td>-0.004328</td>\n",
       "      <td>-0.379529</td>\n",
       "    </tr>\n",
       "    <tr>\n",
       "      <th>3</th>\n",
       "      <td>0.0</td>\n",
       "      <td>21.05</td>\n",
       "      <td>4.0</td>\n",
       "      <td>51.0</td>\n",
       "      <td>13.500000</td>\n",
       "      <td>1.5</td>\n",
       "      <td>1.0</td>\n",
       "      <td>9.000000</td>\n",
       "      <td>2.000000</td>\n",
       "      <td>756.166667</td>\n",
       "      <td>...</td>\n",
       "      <td>0.019320</td>\n",
       "      <td>0.001018</td>\n",
       "      <td>0.000104</td>\n",
       "      <td>0.014257</td>\n",
       "      <td>0.027579</td>\n",
       "      <td>0.103896</td>\n",
       "      <td>9.0</td>\n",
       "      <td>-0.057364</td>\n",
       "      <td>-0.000938</td>\n",
       "      <td>-0.289759</td>\n",
       "    </tr>\n",
       "    <tr>\n",
       "      <th>4</th>\n",
       "      <td>0.0</td>\n",
       "      <td>27.05</td>\n",
       "      <td>8.0</td>\n",
       "      <td>12.0</td>\n",
       "      <td>3.833333</td>\n",
       "      <td>2.0</td>\n",
       "      <td>1.0</td>\n",
       "      <td>6.166667</td>\n",
       "      <td>2.916667</td>\n",
       "      <td>1102.333333</td>\n",
       "      <td>...</td>\n",
       "      <td>0.003972</td>\n",
       "      <td>0.000000</td>\n",
       "      <td>0.000000</td>\n",
       "      <td>0.039371</td>\n",
       "      <td>0.027579</td>\n",
       "      <td>0.103896</td>\n",
       "      <td>3.0</td>\n",
       "      <td>-0.105326</td>\n",
       "      <td>0.000000</td>\n",
       "      <td>0.000000</td>\n",
       "    </tr>\n",
       "    <tr>\n",
       "      <th>5</th>\n",
       "      <td>0.0</td>\n",
       "      <td>8.05</td>\n",
       "      <td>3.0</td>\n",
       "      <td>79.0</td>\n",
       "      <td>2.000000</td>\n",
       "      <td>2.0</td>\n",
       "      <td>1.0</td>\n",
       "      <td>8.833333</td>\n",
       "      <td>1.000000</td>\n",
       "      <td>110.000000</td>\n",
       "      <td>...</td>\n",
       "      <td>0.002000</td>\n",
       "      <td>0.071332</td>\n",
       "      <td>0.001833</td>\n",
       "      <td>0.051395</td>\n",
       "      <td>0.027579</td>\n",
       "      <td>0.103896</td>\n",
       "      <td>2.0</td>\n",
       "      <td>-0.130796</td>\n",
       "      <td>-0.079279</td>\n",
       "      <td>-0.739966</td>\n",
       "    </tr>\n",
       "    <tr>\n",
       "      <th>6</th>\n",
       "      <td>1.0</td>\n",
       "      <td>6.05</td>\n",
       "      <td>5.0</td>\n",
       "      <td>48.0</td>\n",
       "      <td>5.000000</td>\n",
       "      <td>2.0</td>\n",
       "      <td>1.0</td>\n",
       "      <td>2.166667</td>\n",
       "      <td>4.000000</td>\n",
       "      <td>937.000000</td>\n",
       "      <td>...</td>\n",
       "      <td>0.000103</td>\n",
       "      <td>0.000000</td>\n",
       "      <td>0.000000</td>\n",
       "      <td>0.012235</td>\n",
       "      <td>0.027579</td>\n",
       "      <td>0.103900</td>\n",
       "      <td>3.0</td>\n",
       "      <td>-0.026522</td>\n",
       "      <td>0.000000</td>\n",
       "      <td>0.000000</td>\n",
       "    </tr>\n",
       "  </tbody>\n",
       "</table>\n",
       "<p>5 rows × 38 columns</p>\n",
       "</div>"
      ],
      "text/plain": [
       "       CSI  CONTACT_DATE  COM_CAT#1  COM_CAT#2  COM_CAT#3  BASE_TYPE  ACT  \\\n",
       "SK_ID                                                                       \n",
       "2      0.0          4.05        7.0       77.0  11.500000        1.0  1.0   \n",
       "3      0.0         21.05        4.0       51.0  13.500000        1.5  1.0   \n",
       "4      0.0         27.05        8.0       12.0   3.833333        2.0  1.0   \n",
       "5      0.0          8.05        3.0       79.0   2.000000        2.0  1.0   \n",
       "6      1.0          6.05        5.0       48.0   5.000000        2.0  1.0   \n",
       "\n",
       "       ARPU_GROUP  COM_CAT#7    COM_CAT#8       ...        COM_CAT#28  \\\n",
       "SK_ID                                           ...                     \n",
       "2        8.500000   2.000000  1318.000000       ...          0.004862   \n",
       "3        9.000000   2.000000   756.166667       ...          0.019320   \n",
       "4        6.166667   2.916667  1102.333333       ...          0.003972   \n",
       "5        8.833333   1.000000   110.000000       ...          0.002000   \n",
       "6        2.166667   4.000000   937.000000       ...          0.000103   \n",
       "\n",
       "       COM_CAT#29  COM_CAT#30  COM_CAT#31  COM_CAT#32  COM_CAT#33  COM_CAT#34  \\\n",
       "SK_ID                                                                           \n",
       "2        0.000046    0.002075    0.020449    0.027579    0.103896         9.0   \n",
       "3        0.001018    0.000104    0.014257    0.027579    0.103896         9.0   \n",
       "4        0.000000    0.000000    0.039371    0.027579    0.103896         3.0   \n",
       "5        0.071332    0.001833    0.051395    0.027579    0.103896         2.0   \n",
       "6        0.000000    0.000000    0.012235    0.027579    0.103900         3.0   \n",
       "\n",
       "       SUM_MINUTES_x  SUM_DATA_MB_x  SUM_DATA_MIN_x  \n",
       "SK_ID                                                \n",
       "2          -0.036174      -0.004328       -0.379529  \n",
       "3          -0.057364      -0.000938       -0.289759  \n",
       "4          -0.105326       0.000000        0.000000  \n",
       "5          -0.130796      -0.079279       -0.739966  \n",
       "6          -0.026522       0.000000        0.000000  \n",
       "\n",
       "[5 rows x 38 columns]"
      ]
     },
     "execution_count": 28,
     "metadata": {},
     "output_type": "execute_result"
    }
   ],
   "source": [
    "train.head()"
   ]
  },
  {
   "cell_type": "code",
   "execution_count": 29,
   "metadata": {},
   "outputs": [
    {
     "data": {
      "text/plain": [
       "(4048, 38)"
      ]
     },
     "execution_count": 29,
     "metadata": {},
     "output_type": "execute_result"
    }
   ],
   "source": [
    "train.shape"
   ]
  },
  {
   "cell_type": "code",
   "execution_count": 30,
   "metadata": {},
   "outputs": [
    {
     "data": {
      "text/plain": [
       "Index(['CSI', 'CONTACT_DATE', 'COM_CAT#1', 'COM_CAT#2', 'COM_CAT#3',\n",
       "       'BASE_TYPE', 'ACT', 'ARPU_GROUP', 'COM_CAT#7', 'COM_CAT#8',\n",
       "       'DEVICE_TYPE_ID', 'INTERNET_TYPE_ID', 'REVENUE', 'ITC', 'VAS',\n",
       "       'RENT_CHANNEL', 'ROAM', 'COST', 'COM_CAT#17', 'COM_CAT#18',\n",
       "       'COM_CAT#19', 'COM_CAT#20', 'COM_CAT#21', 'COM_CAT#22', 'COM_CAT#23',\n",
       "       'COM_CAT#25', 'COM_CAT#26', 'COM_CAT#27', 'COM_CAT#28', 'COM_CAT#29',\n",
       "       'COM_CAT#30', 'COM_CAT#31', 'COM_CAT#32', 'COM_CAT#33', 'COM_CAT#34',\n",
       "       'SUM_MINUTES_x', 'SUM_DATA_MB_x', 'SUM_DATA_MIN_x'],\n",
       "      dtype='object')"
      ]
     },
     "execution_count": 30,
     "metadata": {},
     "output_type": "execute_result"
    }
   ],
   "source": [
    "train.columns"
   ]
  },
  {
   "cell_type": "markdown",
   "metadata": {},
   "source": [
    "## Деление на X и Y"
   ]
  },
  {
   "cell_type": "code",
   "execution_count": 106,
   "metadata": {},
   "outputs": [
    {
     "name": "stdout",
     "output_type": "stream",
     "text": [
      "Index(['CONTACT_DATE', 'COM_CAT#1', 'COM_CAT#2', 'COM_CAT#3', 'BASE_TYPE',\n",
      "       'ACT', 'ARPU_GROUP', 'COM_CAT#7', 'COM_CAT#8', 'DEVICE_TYPE_ID',\n",
      "       'INTERNET_TYPE_ID', 'REVENUE', 'ITC', 'VAS', 'RENT_CHANNEL', 'ROAM',\n",
      "       'COST', 'COM_CAT#17', 'COM_CAT#18', 'COM_CAT#20', 'COM_CAT#21',\n",
      "       'COM_CAT#22', 'COM_CAT#23', 'COM_CAT#26', 'COM_CAT#27', 'COM_CAT#28',\n",
      "       'COM_CAT#29', 'COM_CAT#30', 'COM_CAT#31', 'COM_CAT#32', 'COM_CAT#33',\n",
      "       'COM_CAT#34', 'SUM_MINUTES_x', 'SUM_DATA_MB_x', 'SUM_DATA_MIN_x'],\n",
      "      dtype='object')\n"
     ]
    }
   ],
   "source": [
    "X = train.drop(('CSI'), axis=1)  # Выбрасываем столбец 'class'.  \n",
    "X = X.drop(('COM_CAT#19'), axis=1)\n",
    "X = X.drop(('COM_CAT#25'), axis=1)\n",
    "y = train['CSI']\n",
    "feature_names = X.columns\n",
    "print(feature_names)"
   ]
  },
  {
   "cell_type": "code",
   "execution_count": 107,
   "metadata": {},
   "outputs": [
    {
     "data": {
      "text/plain": [
       "(4048, 35)"
      ]
     },
     "execution_count": 107,
     "metadata": {},
     "output_type": "execute_result"
    }
   ],
   "source": [
    "X.shape"
   ]
  },
  {
   "cell_type": "code",
   "execution_count": 108,
   "metadata": {},
   "outputs": [
    {
     "data": {
      "text/html": [
       "<div>\n",
       "<style scoped>\n",
       "    .dataframe tbody tr th:only-of-type {\n",
       "        vertical-align: middle;\n",
       "    }\n",
       "\n",
       "    .dataframe tbody tr th {\n",
       "        vertical-align: top;\n",
       "    }\n",
       "\n",
       "    .dataframe thead th {\n",
       "        text-align: right;\n",
       "    }\n",
       "</style>\n",
       "<table border=\"1\" class=\"dataframe\">\n",
       "  <thead>\n",
       "    <tr style=\"text-align: right;\">\n",
       "      <th></th>\n",
       "      <th>CONTACT_DATE</th>\n",
       "      <th>COM_CAT#1</th>\n",
       "      <th>COM_CAT#2</th>\n",
       "      <th>COM_CAT#3</th>\n",
       "      <th>BASE_TYPE</th>\n",
       "      <th>ACT</th>\n",
       "      <th>ARPU_GROUP</th>\n",
       "      <th>COM_CAT#7</th>\n",
       "      <th>COM_CAT#8</th>\n",
       "      <th>DEVICE_TYPE_ID</th>\n",
       "      <th>...</th>\n",
       "      <th>COM_CAT#28</th>\n",
       "      <th>COM_CAT#29</th>\n",
       "      <th>COM_CAT#30</th>\n",
       "      <th>COM_CAT#31</th>\n",
       "      <th>COM_CAT#32</th>\n",
       "      <th>COM_CAT#33</th>\n",
       "      <th>COM_CAT#34</th>\n",
       "      <th>SUM_MINUTES_x</th>\n",
       "      <th>SUM_DATA_MB_x</th>\n",
       "      <th>SUM_DATA_MIN_x</th>\n",
       "    </tr>\n",
       "    <tr>\n",
       "      <th>SK_ID</th>\n",
       "      <th></th>\n",
       "      <th></th>\n",
       "      <th></th>\n",
       "      <th></th>\n",
       "      <th></th>\n",
       "      <th></th>\n",
       "      <th></th>\n",
       "      <th></th>\n",
       "      <th></th>\n",
       "      <th></th>\n",
       "      <th></th>\n",
       "      <th></th>\n",
       "      <th></th>\n",
       "      <th></th>\n",
       "      <th></th>\n",
       "      <th></th>\n",
       "      <th></th>\n",
       "      <th></th>\n",
       "      <th></th>\n",
       "      <th></th>\n",
       "      <th></th>\n",
       "    </tr>\n",
       "  </thead>\n",
       "  <tbody>\n",
       "    <tr>\n",
       "      <th>2</th>\n",
       "      <td>4.05</td>\n",
       "      <td>7.0</td>\n",
       "      <td>77.0</td>\n",
       "      <td>11.500000</td>\n",
       "      <td>1.0</td>\n",
       "      <td>1.0</td>\n",
       "      <td>8.500000</td>\n",
       "      <td>2.000000</td>\n",
       "      <td>1318.000000</td>\n",
       "      <td>5.0</td>\n",
       "      <td>...</td>\n",
       "      <td>0.004862</td>\n",
       "      <td>0.000046</td>\n",
       "      <td>0.002075</td>\n",
       "      <td>0.020449</td>\n",
       "      <td>0.027579</td>\n",
       "      <td>0.103896</td>\n",
       "      <td>9.0</td>\n",
       "      <td>-0.036174</td>\n",
       "      <td>-0.004328</td>\n",
       "      <td>-0.379529</td>\n",
       "    </tr>\n",
       "    <tr>\n",
       "      <th>3</th>\n",
       "      <td>21.05</td>\n",
       "      <td>4.0</td>\n",
       "      <td>51.0</td>\n",
       "      <td>13.500000</td>\n",
       "      <td>1.5</td>\n",
       "      <td>1.0</td>\n",
       "      <td>9.000000</td>\n",
       "      <td>2.000000</td>\n",
       "      <td>756.166667</td>\n",
       "      <td>5.0</td>\n",
       "      <td>...</td>\n",
       "      <td>0.019320</td>\n",
       "      <td>0.001018</td>\n",
       "      <td>0.000104</td>\n",
       "      <td>0.014257</td>\n",
       "      <td>0.027579</td>\n",
       "      <td>0.103896</td>\n",
       "      <td>9.0</td>\n",
       "      <td>-0.057364</td>\n",
       "      <td>-0.000938</td>\n",
       "      <td>-0.289759</td>\n",
       "    </tr>\n",
       "    <tr>\n",
       "      <th>4</th>\n",
       "      <td>27.05</td>\n",
       "      <td>8.0</td>\n",
       "      <td>12.0</td>\n",
       "      <td>3.833333</td>\n",
       "      <td>2.0</td>\n",
       "      <td>1.0</td>\n",
       "      <td>6.166667</td>\n",
       "      <td>2.916667</td>\n",
       "      <td>1102.333333</td>\n",
       "      <td>3.0</td>\n",
       "      <td>...</td>\n",
       "      <td>0.003972</td>\n",
       "      <td>0.000000</td>\n",
       "      <td>0.000000</td>\n",
       "      <td>0.039371</td>\n",
       "      <td>0.027579</td>\n",
       "      <td>0.103896</td>\n",
       "      <td>3.0</td>\n",
       "      <td>-0.105326</td>\n",
       "      <td>0.000000</td>\n",
       "      <td>0.000000</td>\n",
       "    </tr>\n",
       "    <tr>\n",
       "      <th>5</th>\n",
       "      <td>8.05</td>\n",
       "      <td>3.0</td>\n",
       "      <td>79.0</td>\n",
       "      <td>2.000000</td>\n",
       "      <td>2.0</td>\n",
       "      <td>1.0</td>\n",
       "      <td>8.833333</td>\n",
       "      <td>1.000000</td>\n",
       "      <td>110.000000</td>\n",
       "      <td>5.0</td>\n",
       "      <td>...</td>\n",
       "      <td>0.002000</td>\n",
       "      <td>0.071332</td>\n",
       "      <td>0.001833</td>\n",
       "      <td>0.051395</td>\n",
       "      <td>0.027579</td>\n",
       "      <td>0.103896</td>\n",
       "      <td>2.0</td>\n",
       "      <td>-0.130796</td>\n",
       "      <td>-0.079279</td>\n",
       "      <td>-0.739966</td>\n",
       "    </tr>\n",
       "    <tr>\n",
       "      <th>6</th>\n",
       "      <td>6.05</td>\n",
       "      <td>5.0</td>\n",
       "      <td>48.0</td>\n",
       "      <td>5.000000</td>\n",
       "      <td>2.0</td>\n",
       "      <td>1.0</td>\n",
       "      <td>2.166667</td>\n",
       "      <td>4.000000</td>\n",
       "      <td>937.000000</td>\n",
       "      <td>3.0</td>\n",
       "      <td>...</td>\n",
       "      <td>0.000103</td>\n",
       "      <td>0.000000</td>\n",
       "      <td>0.000000</td>\n",
       "      <td>0.012235</td>\n",
       "      <td>0.027579</td>\n",
       "      <td>0.103900</td>\n",
       "      <td>3.0</td>\n",
       "      <td>-0.026522</td>\n",
       "      <td>0.000000</td>\n",
       "      <td>0.000000</td>\n",
       "    </tr>\n",
       "  </tbody>\n",
       "</table>\n",
       "<p>5 rows × 35 columns</p>\n",
       "</div>"
      ],
      "text/plain": [
       "       CONTACT_DATE  COM_CAT#1  COM_CAT#2  COM_CAT#3  BASE_TYPE  ACT  \\\n",
       "SK_ID                                                                  \n",
       "2              4.05        7.0       77.0  11.500000        1.0  1.0   \n",
       "3             21.05        4.0       51.0  13.500000        1.5  1.0   \n",
       "4             27.05        8.0       12.0   3.833333        2.0  1.0   \n",
       "5              8.05        3.0       79.0   2.000000        2.0  1.0   \n",
       "6              6.05        5.0       48.0   5.000000        2.0  1.0   \n",
       "\n",
       "       ARPU_GROUP  COM_CAT#7    COM_CAT#8  DEVICE_TYPE_ID       ...        \\\n",
       "SK_ID                                                           ...         \n",
       "2        8.500000   2.000000  1318.000000             5.0       ...         \n",
       "3        9.000000   2.000000   756.166667             5.0       ...         \n",
       "4        6.166667   2.916667  1102.333333             3.0       ...         \n",
       "5        8.833333   1.000000   110.000000             5.0       ...         \n",
       "6        2.166667   4.000000   937.000000             3.0       ...         \n",
       "\n",
       "       COM_CAT#28  COM_CAT#29  COM_CAT#30  COM_CAT#31  COM_CAT#32  COM_CAT#33  \\\n",
       "SK_ID                                                                           \n",
       "2        0.004862    0.000046    0.002075    0.020449    0.027579    0.103896   \n",
       "3        0.019320    0.001018    0.000104    0.014257    0.027579    0.103896   \n",
       "4        0.003972    0.000000    0.000000    0.039371    0.027579    0.103896   \n",
       "5        0.002000    0.071332    0.001833    0.051395    0.027579    0.103896   \n",
       "6        0.000103    0.000000    0.000000    0.012235    0.027579    0.103900   \n",
       "\n",
       "       COM_CAT#34  SUM_MINUTES_x  SUM_DATA_MB_x  SUM_DATA_MIN_x  \n",
       "SK_ID                                                            \n",
       "2             9.0      -0.036174      -0.004328       -0.379529  \n",
       "3             9.0      -0.057364      -0.000938       -0.289759  \n",
       "4             3.0      -0.105326       0.000000        0.000000  \n",
       "5             2.0      -0.130796      -0.079279       -0.739966  \n",
       "6             3.0      -0.026522       0.000000        0.000000  \n",
       "\n",
       "[5 rows x 35 columns]"
      ]
     },
     "execution_count": 108,
     "metadata": {},
     "output_type": "execute_result"
    }
   ],
   "source": [
    "X.head()"
   ]
  },
  {
   "cell_type": "code",
   "execution_count": 118,
   "metadata": {},
   "outputs": [],
   "source": [
    "from sklearn.model_selection import KFold\n",
    "\n",
    "#model_selection\n",
    "records_count = y.count() #  кросс-валидация по 5 блокам с перемешиванием\n",
    "kf = KFold(n_splits=5, shuffle=True)\n",
    "kf = kf.get_n_splits(records_count)"
   ]
  },
  {
   "cell_type": "code",
   "execution_count": null,
   "metadata": {},
   "outputs": [],
   "source": [
    "import numpy as np\n",
    "from sklearn.model_selection import KFold\n",
    "\n",
    "records_count = y.count() #  кросс-валидация по 5 блокам с перемешиванием\n",
    "kf = KFold(n=records_count, n_folds=5, shuffle=True)"
   ]
  },
  {
   "cell_type": "code",
   "execution_count": 122,
   "metadata": {},
   "outputs": [],
   "source": [
    "import math\n",
    "from sklearn.metrics import roc_auc_score\n",
    "from sklearn import ensemble\n",
    "from sklearn.model_selection import cross_val_score\n",
    "from sklearn.preprocessing import StandardScaler\n",
    "from sklearn.linear_model import LogisticRegression\n",
    "\n",
    "scaler = StandardScaler()\n",
    "scaledX = scaler.fit_transform(X) #генерация параметров и трансформация X модели обучения из данных обучения\n",
    "\n",
    "\n",
    "\n",
    "def calc(estimator, trainX, trainY):\n",
    "    predicted_trainY = estimator.predict_proba(trainX)[:, 1]\n",
    "    #print(roc_auc_score(y, predicted_trainY))\n",
    "    return roc_auc_score(trainY, predicted_trainY)\n",
    "\n",
    "#тогда классификатор выведет вероятностную матрицу размерности (N, 2). Первый индекс относится к вероятности того, что данные относятся к классу 0, а второй относится к вероятности того, что данные принадлежат классу 1.\n",
    "\n",
    "\n",
    "def RandomForest():\n",
    "    rf = ensemble.RandomForestClassifier(n_estimators=100, random_state=11)\n",
    "    return cross_val_score(rf, scaledX, y, cv=kf, scoring=calc).mean()\n",
    "\n",
    "\n",
    "#Оценка путем перекрестной проверки для разных значений регуляризации\n",
    "def Log_Regr_value(C_value):\n",
    "    clf_log = LogisticRegression(penalty='l2', C=C_value)\n",
    "    return cross_val_score(clf_log, scaledX, y, cv=kf, scoring=calc).mean()\n",
    "#cv-генератор перекрестной проверки, оценкой является mean() ранее просчитанных выборок testX\n",
    "\n",
    "\n",
    "def check_qual_log_diff_C():\n",
    "    best_C = 0\n",
    "    best_qual = 0    \n",
    "    for i in range(-4, 2):\n",
    "        C = math.pow(10, i)\n",
    "        qual = Log_Regr_value(C)\n",
    "        print('C=', C, ', quality=', qual)\n",
    "        if qual > best_qual:\n",
    "           best_qual = qual\n",
    "           best_C = C\n",
    "    return(best_C, best_qual)  \n"
   ]
  },
  {
   "cell_type": "code",
   "execution_count": 124,
   "metadata": {},
   "outputs": [
    {
     "name": "stderr",
     "output_type": "stream",
     "text": [
      "C:\\Users\\yaroslav\\Anaconda3\\lib\\site-packages\\sklearn\\linear_model\\logistic.py:433: FutureWarning: Default solver will be changed to 'lbfgs' in 0.22. Specify a solver to silence this warning.\n",
      "  FutureWarning)\n",
      "C:\\Users\\yaroslav\\Anaconda3\\lib\\site-packages\\sklearn\\linear_model\\logistic.py:433: FutureWarning: Default solver will be changed to 'lbfgs' in 0.22. Specify a solver to silence this warning.\n",
      "  FutureWarning)\n",
      "C:\\Users\\yaroslav\\Anaconda3\\lib\\site-packages\\sklearn\\linear_model\\logistic.py:433: FutureWarning: Default solver will be changed to 'lbfgs' in 0.22. Specify a solver to silence this warning.\n",
      "  FutureWarning)\n",
      "C:\\Users\\yaroslav\\Anaconda3\\lib\\site-packages\\sklearn\\linear_model\\logistic.py:433: FutureWarning: Default solver will be changed to 'lbfgs' in 0.22. Specify a solver to silence this warning.\n",
      "  FutureWarning)\n",
      "C:\\Users\\yaroslav\\Anaconda3\\lib\\site-packages\\sklearn\\linear_model\\logistic.py:433: FutureWarning: Default solver will be changed to 'lbfgs' in 0.22. Specify a solver to silence this warning.\n",
      "  FutureWarning)\n"
     ]
    },
    {
     "name": "stdout",
     "output_type": "stream",
     "text": [
      "C= 0.0001 , quality= 0.5488572852836642\n"
     ]
    },
    {
     "name": "stderr",
     "output_type": "stream",
     "text": [
      "C:\\Users\\yaroslav\\Anaconda3\\lib\\site-packages\\sklearn\\linear_model\\logistic.py:433: FutureWarning: Default solver will be changed to 'lbfgs' in 0.22. Specify a solver to silence this warning.\n",
      "  FutureWarning)\n",
      "C:\\Users\\yaroslav\\Anaconda3\\lib\\site-packages\\sklearn\\linear_model\\logistic.py:433: FutureWarning: Default solver will be changed to 'lbfgs' in 0.22. Specify a solver to silence this warning.\n",
      "  FutureWarning)\n",
      "C:\\Users\\yaroslav\\Anaconda3\\lib\\site-packages\\sklearn\\linear_model\\logistic.py:433: FutureWarning: Default solver will be changed to 'lbfgs' in 0.22. Specify a solver to silence this warning.\n",
      "  FutureWarning)\n",
      "C:\\Users\\yaroslav\\Anaconda3\\lib\\site-packages\\sklearn\\linear_model\\logistic.py:433: FutureWarning: Default solver will be changed to 'lbfgs' in 0.22. Specify a solver to silence this warning.\n",
      "  FutureWarning)\n",
      "C:\\Users\\yaroslav\\Anaconda3\\lib\\site-packages\\sklearn\\linear_model\\logistic.py:433: FutureWarning: Default solver will be changed to 'lbfgs' in 0.22. Specify a solver to silence this warning.\n",
      "  FutureWarning)\n"
     ]
    },
    {
     "name": "stdout",
     "output_type": "stream",
     "text": [
      "C= 0.001 , quality= 0.5577007895397064\n"
     ]
    },
    {
     "name": "stderr",
     "output_type": "stream",
     "text": [
      "C:\\Users\\yaroslav\\Anaconda3\\lib\\site-packages\\sklearn\\linear_model\\logistic.py:433: FutureWarning: Default solver will be changed to 'lbfgs' in 0.22. Specify a solver to silence this warning.\n",
      "  FutureWarning)\n",
      "C:\\Users\\yaroslav\\Anaconda3\\lib\\site-packages\\sklearn\\linear_model\\logistic.py:433: FutureWarning: Default solver will be changed to 'lbfgs' in 0.22. Specify a solver to silence this warning.\n",
      "  FutureWarning)\n",
      "C:\\Users\\yaroslav\\Anaconda3\\lib\\site-packages\\sklearn\\linear_model\\logistic.py:433: FutureWarning: Default solver will be changed to 'lbfgs' in 0.22. Specify a solver to silence this warning.\n",
      "  FutureWarning)\n",
      "C:\\Users\\yaroslav\\Anaconda3\\lib\\site-packages\\sklearn\\linear_model\\logistic.py:433: FutureWarning: Default solver will be changed to 'lbfgs' in 0.22. Specify a solver to silence this warning.\n",
      "  FutureWarning)\n",
      "C:\\Users\\yaroslav\\Anaconda3\\lib\\site-packages\\sklearn\\linear_model\\logistic.py:433: FutureWarning: Default solver will be changed to 'lbfgs' in 0.22. Specify a solver to silence this warning.\n",
      "  FutureWarning)\n"
     ]
    },
    {
     "name": "stdout",
     "output_type": "stream",
     "text": [
      "C= 0.01 , quality= 0.5632835730433904\n"
     ]
    },
    {
     "name": "stderr",
     "output_type": "stream",
     "text": [
      "C:\\Users\\yaroslav\\Anaconda3\\lib\\site-packages\\sklearn\\linear_model\\logistic.py:433: FutureWarning: Default solver will be changed to 'lbfgs' in 0.22. Specify a solver to silence this warning.\n",
      "  FutureWarning)\n",
      "C:\\Users\\yaroslav\\Anaconda3\\lib\\site-packages\\sklearn\\linear_model\\logistic.py:433: FutureWarning: Default solver will be changed to 'lbfgs' in 0.22. Specify a solver to silence this warning.\n",
      "  FutureWarning)\n",
      "C:\\Users\\yaroslav\\Anaconda3\\lib\\site-packages\\sklearn\\linear_model\\logistic.py:433: FutureWarning: Default solver will be changed to 'lbfgs' in 0.22. Specify a solver to silence this warning.\n",
      "  FutureWarning)\n",
      "C:\\Users\\yaroslav\\Anaconda3\\lib\\site-packages\\sklearn\\linear_model\\logistic.py:433: FutureWarning: Default solver will be changed to 'lbfgs' in 0.22. Specify a solver to silence this warning.\n",
      "  FutureWarning)\n",
      "C:\\Users\\yaroslav\\Anaconda3\\lib\\site-packages\\sklearn\\linear_model\\logistic.py:433: FutureWarning: Default solver will be changed to 'lbfgs' in 0.22. Specify a solver to silence this warning.\n",
      "  FutureWarning)\n"
     ]
    },
    {
     "name": "stdout",
     "output_type": "stream",
     "text": [
      "C= 0.1 , quality= 0.5640558304836232\n"
     ]
    },
    {
     "name": "stderr",
     "output_type": "stream",
     "text": [
      "C:\\Users\\yaroslav\\Anaconda3\\lib\\site-packages\\sklearn\\linear_model\\logistic.py:433: FutureWarning: Default solver will be changed to 'lbfgs' in 0.22. Specify a solver to silence this warning.\n",
      "  FutureWarning)\n",
      "C:\\Users\\yaroslav\\Anaconda3\\lib\\site-packages\\sklearn\\linear_model\\logistic.py:433: FutureWarning: Default solver will be changed to 'lbfgs' in 0.22. Specify a solver to silence this warning.\n",
      "  FutureWarning)\n",
      "C:\\Users\\yaroslav\\Anaconda3\\lib\\site-packages\\sklearn\\linear_model\\logistic.py:433: FutureWarning: Default solver will be changed to 'lbfgs' in 0.22. Specify a solver to silence this warning.\n",
      "  FutureWarning)\n",
      "C:\\Users\\yaroslav\\Anaconda3\\lib\\site-packages\\sklearn\\linear_model\\logistic.py:433: FutureWarning: Default solver will be changed to 'lbfgs' in 0.22. Specify a solver to silence this warning.\n",
      "  FutureWarning)\n",
      "C:\\Users\\yaroslav\\Anaconda3\\lib\\site-packages\\sklearn\\linear_model\\logistic.py:433: FutureWarning: Default solver will be changed to 'lbfgs' in 0.22. Specify a solver to silence this warning.\n",
      "  FutureWarning)\n"
     ]
    },
    {
     "name": "stdout",
     "output_type": "stream",
     "text": [
      "C= 1.0 , quality= 0.5663283198870388\n"
     ]
    },
    {
     "name": "stderr",
     "output_type": "stream",
     "text": [
      "C:\\Users\\yaroslav\\Anaconda3\\lib\\site-packages\\sklearn\\linear_model\\logistic.py:433: FutureWarning: Default solver will be changed to 'lbfgs' in 0.22. Specify a solver to silence this warning.\n",
      "  FutureWarning)\n",
      "C:\\Users\\yaroslav\\Anaconda3\\lib\\site-packages\\sklearn\\linear_model\\logistic.py:433: FutureWarning: Default solver will be changed to 'lbfgs' in 0.22. Specify a solver to silence this warning.\n",
      "  FutureWarning)\n",
      "C:\\Users\\yaroslav\\Anaconda3\\lib\\site-packages\\sklearn\\linear_model\\logistic.py:433: FutureWarning: Default solver will be changed to 'lbfgs' in 0.22. Specify a solver to silence this warning.\n",
      "  FutureWarning)\n",
      "C:\\Users\\yaroslav\\Anaconda3\\lib\\site-packages\\sklearn\\linear_model\\logistic.py:433: FutureWarning: Default solver will be changed to 'lbfgs' in 0.22. Specify a solver to silence this warning.\n",
      "  FutureWarning)\n",
      "C:\\Users\\yaroslav\\Anaconda3\\lib\\site-packages\\sklearn\\linear_model\\logistic.py:433: FutureWarning: Default solver will be changed to 'lbfgs' in 0.22. Specify a solver to silence this warning.\n",
      "  FutureWarning)\n"
     ]
    },
    {
     "name": "stdout",
     "output_type": "stream",
     "text": [
      "C= 10.0 , quality= 0.5677578634912294\n",
      "Лучшее качество = 0.5677578634912294 при С= 10.0\n"
     ]
    }
   ],
   "source": [
    "the_best_log = check_qual_log_diff_C()\n",
    "print('Лучшее качество =', the_best_log[1], 'при С=',  the_best_log[0])\n",
    "new_C = the_best_log[0]"
   ]
  },
  {
   "cell_type": "code",
   "execution_count": 125,
   "metadata": {},
   "outputs": [
    {
     "data": {
      "text/plain": [
       "RandomForestClassifier(bootstrap=True, class_weight=None, criterion='gini',\n",
       "            max_depth=None, max_features='auto', max_leaf_nodes=None,\n",
       "            min_impurity_decrease=0.0, min_impurity_split=None,\n",
       "            min_samples_leaf=1, min_samples_split=2,\n",
       "            min_weight_fraction_leaf=0.0, n_estimators=100, n_jobs=None,\n",
       "            oob_score=False, random_state=11, verbose=0, warm_start=False)"
      ]
     },
     "execution_count": 125,
     "metadata": {},
     "output_type": "execute_result"
    }
   ],
   "source": [
    "from sklearn import ensemble\n",
    "\n",
    "x_train, x_test, y_train, y_test = train_test_split(scaledX, y, test_size = 0.2, random_state = 11)\n",
    "\n",
    "rf = ensemble.RandomForestClassifier(n_estimators=100, random_state=11)\n",
    "rf.fit(x_train, y_train)\n"
   ]
  },
  {
   "cell_type": "code",
   "execution_count": null,
   "metadata": {},
   "outputs": [],
   "source": []
  },
  {
   "cell_type": "code",
   "execution_count": 126,
   "metadata": {},
   "outputs": [
    {
     "name": "stderr",
     "output_type": "stream",
     "text": [
      "C:\\Users\\yaroslav\\Anaconda3\\lib\\site-packages\\sklearn\\linear_model\\logistic.py:433: FutureWarning: Default solver will be changed to 'lbfgs' in 0.22. Specify a solver to silence this warning.\n",
      "  FutureWarning)\n"
     ]
    }
   ],
   "source": [
    "clf_log = LogisticRegression(penalty='l2', C=new_C)\n",
    "clf_log.fit(x_train, y_train)"
   ]
  },
  {
   "cell_type": "code",
   "execution_count": 127,
   "metadata": {},
   "outputs": [],
   "source": [
    "y_pred_log = clf_log.predict_proba(x_test)[:, 1]"
   ]
  },
  {
   "cell_type": "code",
   "execution_count": 128,
   "metadata": {},
   "outputs": [],
   "source": [
    "y_pred_rf = rf.predict_proba(x_test)[:, 1]"
   ]
  },
  {
   "cell_type": "code",
   "execution_count": 132,
   "metadata": {},
   "outputs": [
    {
     "name": "stdout",
     "output_type": "stream",
     "text": [
      "Log regr:\n",
      "MAE 0.27294416949655387\n",
      "MSE 0.1499955530135\n",
      "********************************************************\n",
      "Random forest:\n",
      "MAE 0.28961728395061725\n",
      "MSE 0.15892185185185184\n"
     ]
    }
   ],
   "source": [
    "import sklearn.metrics\n",
    "\n",
    "print(\"Log regr:\")\n",
    "print(\"MAE\", sklearn.metrics.mean_absolute_error(y_test, y_pred_log))\n",
    "print(\"MSE\", sklearn.metrics.mean_squared_error(y_test, y_pred_log))\n",
    "print(\"********************************************************\")\n",
    "\n",
    "print(\"Random forest:\")\n",
    "print(\"MAE\", sklearn.metrics.mean_absolute_error(y_test, y_pred_rf ))\n",
    "print(\"MSE\", sklearn.metrics.mean_squared_error(y_test, y_pred_rf ))"
   ]
  },
  {
   "cell_type": "code",
   "execution_count": 130,
   "metadata": {},
   "outputs": [
    {
     "data": {
      "image/png": "[encoded data removed]",
      "text/plain": [
       "<Figure size 432x288 with 1 Axes>"
      ]
     },
     "metadata": {},
     "output_type": "display_data"
    },
    {
     "name": "stdout",
     "output_type": "stream",
     "text": [
      "auc: 0.534\n"
     ]
    }
   ],
   "source": [
    "import matplotlib.pyplot as plt\n",
    "from sklearn.metrics import roc_curve\n",
    "from sklearn.metrics import roc_auc_score\n",
    "\n",
    "plt.figure()\n",
    "line_width = 2\n",
    "fpr, tpr, thresholds = roc_curve(y_test, y_pred_log)\n",
    "plt.plot(fpr, tpr, color='darkorange', lw=line_width, label='Log regr')\n",
    "plt.plot([0, 1], [0, 1], color='navy', lw=line_width, linestyle='--')\n",
    "plt.xlim([0.0, 1.0])\n",
    "plt.ylim([0.0, 1.0])\n",
    "plt.xlabel('False Positive Rate')\n",
    "plt.ylabel('True Positive Rate')\n",
    "plt.title('Receiver operating characteristic')\n",
    "plt.legend(loc=\"lower right\")\n",
    "plt.show()\n",
    "auc = roc_auc_score(y_test, y_pred_log)\n",
    "print('auc: %.3f' % auc)"
   ]
  },
  {
   "cell_type": "markdown",
   "metadata": {},
   "source": [
    "## Алгоритм h2o"
   ]
  },
  {
   "cell_type": "code",
   "execution_count": null,
   "metadata": {},
   "outputs": [],
   "source": [
    "#https://github.com/h2oai/h2o-tutorials/blob/master/h2o-world-2017/automl/Python/automl_regression_powerplant_output.ipynb"
   ]
  },
  {
   "cell_type": "code",
   "execution_count": 134,
   "metadata": {},
   "outputs": [
    {
     "name": "stdout",
     "output_type": "stream",
     "text": [
      "Parse progress: |█████████████████████████████████████████████████████████| 100%\n"
     ]
    }
   ],
   "source": [
    "df_h2o = h2o.H2OFrame(train)"
   ]
  },
  {
   "cell_type": "code",
   "execution_count": 137,
   "metadata": {},
   "outputs": [],
   "source": [
    "y = 'CSI'"
   ]
  },
  {
   "cell_type": "code",
   "execution_count": 138,
   "metadata": {},
   "outputs": [],
   "source": [
    "splits = df_h2o.split_frame(ratios = [0.8], seed = 1)\n",
    "train = splits[0]\n",
    "test = splits[1]"
   ]
  },
  {
   "cell_type": "code",
   "execution_count": 150,
   "metadata": {},
   "outputs": [
    {
     "name": "stdout",
     "output_type": "stream",
     "text": [
      "df_h2o.shape =  (4048, 38)\n",
      "train.shape =  (3254, 38)\n",
      "test.shape =  (794, 38)\n"
     ]
    }
   ],
   "source": [
    "print('df_h2o.shape = ', df_h2o.shape )\n",
    "print('train.shape = ', train.shape )\n",
    "print('test.shape = ', test.shape )"
   ]
  },
  {
   "cell_type": "code",
   "execution_count": 151,
   "metadata": {},
   "outputs": [
    {
     "data": {
      "text/html": [
       "<table>\n",
       "<thead>\n",
       "<tr><th style=\"text-align: right;\">  CSI</th><th style=\"text-align: right;\">  CONTACT_DATE</th><th style=\"text-align: right;\">  COM_CAT#1</th><th style=\"text-align: right;\">  COM_CAT#2</th><th style=\"text-align: right;\">  COM_CAT#3</th><th style=\"text-align: right;\">  BASE_TYPE</th><th style=\"text-align: right;\">  ACT</th><th style=\"text-align: right;\">  ARPU_GROUP</th><th style=\"text-align: right;\">  COM_CAT#7</th><th style=\"text-align: right;\">  COM_CAT#8</th><th style=\"text-align: right;\">  DEVICE_TYPE_ID</th><th style=\"text-align: right;\">  INTERNET_TYPE_ID</th><th style=\"text-align: right;\">  REVENUE</th><th style=\"text-align: right;\">        ITC</th><th style=\"text-align: right;\">      VAS</th><th style=\"text-align: right;\">  RENT_CHANNEL</th><th style=\"text-align: right;\">      ROAM</th><th style=\"text-align: right;\">      COST</th><th style=\"text-align: right;\">  COM_CAT#17</th><th style=\"text-align: right;\">  COM_CAT#18</th><th style=\"text-align: right;\">  COM_CAT#19</th><th style=\"text-align: right;\">  COM_CAT#20</th><th style=\"text-align: right;\">  COM_CAT#21</th><th style=\"text-align: right;\">  COM_CAT#22</th><th style=\"text-align: right;\">  COM_CAT#23</th><th style=\"text-align: right;\">  COM_CAT#25</th><th style=\"text-align: right;\">  COM_CAT#26</th><th style=\"text-align: right;\">  COM_CAT#27</th><th style=\"text-align: right;\">  COM_CAT#28</th><th style=\"text-align: right;\">  COM_CAT#29</th><th style=\"text-align: right;\">  COM_CAT#30</th><th style=\"text-align: right;\">  COM_CAT#31</th><th style=\"text-align: right;\">  COM_CAT#32</th><th style=\"text-align: right;\">  COM_CAT#33</th><th style=\"text-align: right;\">  COM_CAT#34</th><th style=\"text-align: right;\">  SUM_MINUTES_x</th><th style=\"text-align: right;\">  SUM_DATA_MB_x</th><th style=\"text-align: right;\">  SUM_DATA_MIN_x</th></tr>\n",
       "</thead>\n",
       "<tbody>\n",
       "<tr><td style=\"text-align: right;\">    0</td><td style=\"text-align: right;\">         27.05</td><td style=\"text-align: right;\">          8</td><td style=\"text-align: right;\">         12</td><td style=\"text-align: right;\">    3.83333</td><td style=\"text-align: right;\">    2      </td><td style=\"text-align: right;\">    1</td><td style=\"text-align: right;\">     6.16667</td><td style=\"text-align: right;\">    2.91667</td><td style=\"text-align: right;\">  1102.33  </td><td style=\"text-align: right;\">               3</td><td style=\"text-align: right;\">           3      </td><td style=\"text-align: right;\"> 0.118478</td><td style=\"text-align: right;\">0.00483367 </td><td style=\"text-align: right;\">0.0858807</td><td style=\"text-align: right;\">     0.0550377</td><td style=\"text-align: right;\">0         </td><td style=\"text-align: right;\">0.00481675</td><td style=\"text-align: right;\">  0         </td><td style=\"text-align: right;\">   0        </td><td style=\"text-align: right;\">    0.026212</td><td style=\"text-align: right;\">    0.70165 </td><td style=\"text-align: right;\">   0.019298 </td><td style=\"text-align: right;\">    0.70165 </td><td style=\"text-align: right;\">    0.116275</td><td style=\"text-align: right;\">           1</td><td style=\"text-align: right;\">           1</td><td style=\"text-align: right;\"> 0.0140658  </td><td style=\"text-align: right;\"> 0.00397217 </td><td style=\"text-align: right;\"> 0          </td><td style=\"text-align: right;\"> 0          </td><td style=\"text-align: right;\">  0.0393712 </td><td style=\"text-align: right;\">   0.027579 </td><td style=\"text-align: right;\">    0.103896</td><td style=\"text-align: right;\">     3      </td><td style=\"text-align: right;\">    -0.105326  </td><td style=\"text-align: right;\">    0          </td><td style=\"text-align: right;\">     0          </td></tr>\n",
       "<tr><td style=\"text-align: right;\">    0</td><td style=\"text-align: right;\">          2.05</td><td style=\"text-align: right;\">          8</td><td style=\"text-align: right;\">         40</td><td style=\"text-align: right;\">    5      </td><td style=\"text-align: right;\">    2      </td><td style=\"text-align: right;\">    1</td><td style=\"text-align: right;\">     5.41667</td><td style=\"text-align: right;\">    6      </td><td style=\"text-align: right;\">   142     </td><td style=\"text-align: right;\">               5</td><td style=\"text-align: right;\">           1      </td><td style=\"text-align: right;\"> 0.118155</td><td style=\"text-align: right;\">0          </td><td style=\"text-align: right;\">0.084167 </td><td style=\"text-align: right;\">     0.0550893</td><td style=\"text-align: right;\">0         </td><td style=\"text-align: right;\">0.00421617</td><td style=\"text-align: right;\">  0         </td><td style=\"text-align: right;\">   0        </td><td style=\"text-align: right;\">    0.026212</td><td style=\"text-align: right;\">    0.702002</td><td style=\"text-align: right;\">   0.019298 </td><td style=\"text-align: right;\">    0.702002</td><td style=\"text-align: right;\">    0.11962 </td><td style=\"text-align: right;\">           1</td><td style=\"text-align: right;\">           1</td><td style=\"text-align: right;\"> 1.91667e-06</td><td style=\"text-align: right;\"> 0          </td><td style=\"text-align: right;\"> 0.00111417 </td><td style=\"text-align: right;\"> 0          </td><td style=\"text-align: right;\">  0.00012725</td><td style=\"text-align: right;\">   0.027579 </td><td style=\"text-align: right;\">    0.103896</td><td style=\"text-align: right;\">     9      </td><td style=\"text-align: right;\">    -0.00306432</td><td style=\"text-align: right;\">   -0.00375073 </td><td style=\"text-align: right;\">    -0.146584   </td></tr>\n",
       "<tr><td style=\"text-align: right;\">    0</td><td style=\"text-align: right;\">         20.05</td><td style=\"text-align: right;\">          2</td><td style=\"text-align: right;\">         18</td><td style=\"text-align: right;\">    2.41667</td><td style=\"text-align: right;\">    2      </td><td style=\"text-align: right;\">    1</td><td style=\"text-align: right;\">    10.8333 </td><td style=\"text-align: right;\">    1      </td><td style=\"text-align: right;\">   847     </td><td style=\"text-align: right;\">               5</td><td style=\"text-align: right;\">           2      </td><td style=\"text-align: right;\"> 0.14109 </td><td style=\"text-align: right;\">0.075309   </td><td style=\"text-align: right;\">0.0907254</td><td style=\"text-align: right;\">     0.0554743</td><td style=\"text-align: right;\">0         </td><td style=\"text-align: right;\">0.0123447 </td><td style=\"text-align: right;\">  0         </td><td style=\"text-align: right;\">   0        </td><td style=\"text-align: right;\">    0.026212</td><td style=\"text-align: right;\">    0.703794</td><td style=\"text-align: right;\">   0.019298 </td><td style=\"text-align: right;\">    0.703794</td><td style=\"text-align: right;\">    0.132282</td><td style=\"text-align: right;\">           1</td><td style=\"text-align: right;\">           1</td><td style=\"text-align: right;\"> 0.0451444  </td><td style=\"text-align: right;\"> 0.0752991  </td><td style=\"text-align: right;\"> 0.00262142 </td><td style=\"text-align: right;\"> 0          </td><td style=\"text-align: right;\">  0.0643042 </td><td style=\"text-align: right;\">   0.027579 </td><td style=\"text-align: right;\">    0.103896</td><td style=\"text-align: right;\">     9      </td><td style=\"text-align: right;\">    -0.159028  </td><td style=\"text-align: right;\">   -0.00568646 </td><td style=\"text-align: right;\">    -0.467146   </td></tr>\n",
       "<tr><td style=\"text-align: right;\">    0</td><td style=\"text-align: right;\">         24.05</td><td style=\"text-align: right;\">          3</td><td style=\"text-align: right;\">         53</td><td style=\"text-align: right;\">    5      </td><td style=\"text-align: right;\">    2      </td><td style=\"text-align: right;\">    1</td><td style=\"text-align: right;\">     4.83333</td><td style=\"text-align: right;\">    4      </td><td style=\"text-align: right;\">    84.8333</td><td style=\"text-align: right;\">               5</td><td style=\"text-align: right;\">           1.83333</td><td style=\"text-align: right;\"> 0.120941</td><td style=\"text-align: right;\">0.0021895  </td><td style=\"text-align: right;\">0.0861772</td><td style=\"text-align: right;\">     0.0549872</td><td style=\"text-align: right;\">0         </td><td style=\"text-align: right;\">0.00456308</td><td style=\"text-align: right;\">  0         </td><td style=\"text-align: right;\">   0        </td><td style=\"text-align: right;\">    0.026212</td><td style=\"text-align: right;\">    0.702716</td><td style=\"text-align: right;\">   0.019298 </td><td style=\"text-align: right;\">    0.702716</td><td style=\"text-align: right;\">    0.12159 </td><td style=\"text-align: right;\">           1</td><td style=\"text-align: right;\">           1</td><td style=\"text-align: right;\"> 0.00360142 </td><td style=\"text-align: right;\"> 0.0021895  </td><td style=\"text-align: right;\"> 2.21667e-05</td><td style=\"text-align: right;\"> 0          </td><td style=\"text-align: right;\">  0.0101364 </td><td style=\"text-align: right;\">   0.027579 </td><td style=\"text-align: right;\">    0.103896</td><td style=\"text-align: right;\">    10      </td><td style=\"text-align: right;\">    -0.00690016</td><td style=\"text-align: right;\">    8.04219e-06</td><td style=\"text-align: right;\">     0.000959094</td></tr>\n",
       "<tr><td style=\"text-align: right;\">    0</td><td style=\"text-align: right;\">         12.05</td><td style=\"text-align: right;\">          5</td><td style=\"text-align: right;\">         17</td><td style=\"text-align: right;\">    5      </td><td style=\"text-align: right;\">    2      </td><td style=\"text-align: right;\">    1</td><td style=\"text-align: right;\">     9.41667</td><td style=\"text-align: right;\">    1      </td><td style=\"text-align: right;\">  1322     </td><td style=\"text-align: right;\">               5</td><td style=\"text-align: right;\">           2      </td><td style=\"text-align: right;\"> 0.131875</td><td style=\"text-align: right;\">0.0141781  </td><td style=\"text-align: right;\">0.0870512</td><td style=\"text-align: right;\">     0.0558976</td><td style=\"text-align: right;\">0         </td><td style=\"text-align: right;\">0.00591258</td><td style=\"text-align: right;\">  0         </td><td style=\"text-align: right;\">   0        </td><td style=\"text-align: right;\">    0.026212</td><td style=\"text-align: right;\">    0.705525</td><td style=\"text-align: right;\">   0.019298 </td><td style=\"text-align: right;\">    0.705525</td><td style=\"text-align: right;\">    0.130056</td><td style=\"text-align: right;\">           1</td><td style=\"text-align: right;\">           1</td><td style=\"text-align: right;\"> 0.0141331  </td><td style=\"text-align: right;\"> 0.0137755  </td><td style=\"text-align: right;\"> 0.0229622  </td><td style=\"text-align: right;\"> 0          </td><td style=\"text-align: right;\">  0.0300862 </td><td style=\"text-align: right;\">   0.027579 </td><td style=\"text-align: right;\">    0.103896</td><td style=\"text-align: right;\">     2      </td><td style=\"text-align: right;\">    -0.0355265 </td><td style=\"text-align: right;\">   -0.0238843  </td><td style=\"text-align: right;\">    -0.442068   </td></tr>\n",
       "<tr><td style=\"text-align: right;\">    0</td><td style=\"text-align: right;\">          7.05</td><td style=\"text-align: right;\">          3</td><td style=\"text-align: right;\">         53</td><td style=\"text-align: right;\">    1.83333</td><td style=\"text-align: right;\">    2      </td><td style=\"text-align: right;\">    1</td><td style=\"text-align: right;\">     1.58333</td><td style=\"text-align: right;\">    3      </td><td style=\"text-align: right;\">   928     </td><td style=\"text-align: right;\">               3</td><td style=\"text-align: right;\">           3      </td><td style=\"text-align: right;\"> 0.108514</td><td style=\"text-align: right;\">0.00026    </td><td style=\"text-align: right;\">0.0849721</td><td style=\"text-align: right;\">     0.0549678</td><td style=\"text-align: right;\">0         </td><td style=\"text-align: right;\">0.00428592</td><td style=\"text-align: right;\">  0         </td><td style=\"text-align: right;\">   0        </td><td style=\"text-align: right;\">    0.026212</td><td style=\"text-align: right;\">    0.698548</td><td style=\"text-align: right;\">   0.019298 </td><td style=\"text-align: right;\">    0.698548</td><td style=\"text-align: right;\">    0.109944</td><td style=\"text-align: right;\">           1</td><td style=\"text-align: right;\">           1</td><td style=\"text-align: right;\"> 3.26667e-05</td><td style=\"text-align: right;\"> 0.00026    </td><td style=\"text-align: right;\"> 0          </td><td style=\"text-align: right;\"> 0          </td><td style=\"text-align: right;\">  0.00179483</td><td style=\"text-align: right;\">   0.027579 </td><td style=\"text-align: right;\">    0.103896</td><td style=\"text-align: right;\">     4      </td><td style=\"text-align: right;\">    -0.00681589</td><td style=\"text-align: right;\">    0          </td><td style=\"text-align: right;\">     0          </td></tr>\n",
       "<tr><td style=\"text-align: right;\">    0</td><td style=\"text-align: right;\">         27.05</td><td style=\"text-align: right;\">          1</td><td style=\"text-align: right;\">         30</td><td style=\"text-align: right;\">    2      </td><td style=\"text-align: right;\">    2      </td><td style=\"text-align: right;\">    1</td><td style=\"text-align: right;\">     4.25   </td><td style=\"text-align: right;\">    1      </td><td style=\"text-align: right;\">  1361     </td><td style=\"text-align: right;\">               5</td><td style=\"text-align: right;\">           1      </td><td style=\"text-align: right;\"> 0.115301</td><td style=\"text-align: right;\">0.00377525 </td><td style=\"text-align: right;\">0.0879782</td><td style=\"text-align: right;\">     0.0550885</td><td style=\"text-align: right;\">0         </td><td style=\"text-align: right;\">0.00485067</td><td style=\"text-align: right;\">  0         </td><td style=\"text-align: right;\">   0        </td><td style=\"text-align: right;\">    0.026212</td><td style=\"text-align: right;\">    0.700504</td><td style=\"text-align: right;\">   0.019298 </td><td style=\"text-align: right;\">    0.700504</td><td style=\"text-align: right;\">    0.115898</td><td style=\"text-align: right;\">           1</td><td style=\"text-align: right;\">           1</td><td style=\"text-align: right;\"> 0.00373658 </td><td style=\"text-align: right;\"> 0.00377525 </td><td style=\"text-align: right;\"> 0.000479833</td><td style=\"text-align: right;\"> 0          </td><td style=\"text-align: right;\">  0.0102453 </td><td style=\"text-align: right;\">   0.0275849</td><td style=\"text-align: right;\">    0.103896</td><td style=\"text-align: right;\">     9.16667</td><td style=\"text-align: right;\">    -0.0050935 </td><td style=\"text-align: right;\">    0          </td><td style=\"text-align: right;\">    -2.27118e-06</td></tr>\n",
       "<tr><td style=\"text-align: right;\">    1</td><td style=\"text-align: right;\">         10.05</td><td style=\"text-align: right;\">          8</td><td style=\"text-align: right;\">         15</td><td style=\"text-align: right;\">    7.91667</td><td style=\"text-align: right;\">    1.83333</td><td style=\"text-align: right;\">    1</td><td style=\"text-align: right;\">     3.91667</td><td style=\"text-align: right;\">    3      </td><td style=\"text-align: right;\">   851.25  </td><td style=\"text-align: right;\">               5</td><td style=\"text-align: right;\">           1.66667</td><td style=\"text-align: right;\"> 0.111107</td><td style=\"text-align: right;\">0.000461083</td><td style=\"text-align: right;\">0.0847279</td><td style=\"text-align: right;\">     0.0553458</td><td style=\"text-align: right;\">0         </td><td style=\"text-align: right;\">0.00432017</td><td style=\"text-align: right;\">  0.00340617</td><td style=\"text-align: right;\">   0.0626821</td><td style=\"text-align: right;\">    0.026212</td><td style=\"text-align: right;\">    0.699436</td><td style=\"text-align: right;\">   0.0198137</td><td style=\"text-align: right;\">    0.699228</td><td style=\"text-align: right;\">    0.111046</td><td style=\"text-align: right;\">           1</td><td style=\"text-align: right;\">           1</td><td style=\"text-align: right;\"> 0.00659867 </td><td style=\"text-align: right;\"> 0.000461083</td><td style=\"text-align: right;\"> 4.16667e-07</td><td style=\"text-align: right;\"> 8.33333e-08</td><td style=\"text-align: right;\">  0.0775053 </td><td style=\"text-align: right;\">   0.027579 </td><td style=\"text-align: right;\">    0.103896</td><td style=\"text-align: right;\">    10      </td><td style=\"text-align: right;\">    -0.145632  </td><td style=\"text-align: right;\">    0          </td><td style=\"text-align: right;\">     0          </td></tr>\n",
       "<tr><td style=\"text-align: right;\">    0</td><td style=\"text-align: right;\">         11.05</td><td style=\"text-align: right;\">          1</td><td style=\"text-align: right;\">         30</td><td style=\"text-align: right;\">   11.3333 </td><td style=\"text-align: right;\">    1.66667</td><td style=\"text-align: right;\">    1</td><td style=\"text-align: right;\">    11.1111 </td><td style=\"text-align: right;\">    2      </td><td style=\"text-align: right;\">  1053.44  </td><td style=\"text-align: right;\">               5</td><td style=\"text-align: right;\">           1.11111</td><td style=\"text-align: right;\"> 0.143034</td><td style=\"text-align: right;\">0.0459027  </td><td style=\"text-align: right;\">0.0882683</td><td style=\"text-align: right;\">     0.0558058</td><td style=\"text-align: right;\">0         </td><td style=\"text-align: right;\">0.00921567</td><td style=\"text-align: right;\">  0.117081  </td><td style=\"text-align: right;\">   0        </td><td style=\"text-align: right;\">    0.026212</td><td style=\"text-align: right;\">    0.706902</td><td style=\"text-align: right;\">   0.0273474</td><td style=\"text-align: right;\">    0.702642</td><td style=\"text-align: right;\">    0.137473</td><td style=\"text-align: right;\">           1</td><td style=\"text-align: right;\">           1</td><td style=\"text-align: right;\"> 0.0257093  </td><td style=\"text-align: right;\"> 0.0451597  </td><td style=\"text-align: right;\"> 0.00401433 </td><td style=\"text-align: right;\"> 2.53333e-05</td><td style=\"text-align: right;\">  0.0625549 </td><td style=\"text-align: right;\">   0.027579 </td><td style=\"text-align: right;\">    0.103896</td><td style=\"text-align: right;\">     1.44444</td><td style=\"text-align: right;\">    -0.115848  </td><td style=\"text-align: right;\">   -0.0146239  </td><td style=\"text-align: right;\">    -0.229644   </td></tr>\n",
       "<tr><td style=\"text-align: right;\">    0</td><td style=\"text-align: right;\">         29.05</td><td style=\"text-align: right;\">          2</td><td style=\"text-align: right;\">         32</td><td style=\"text-align: right;\">    5      </td><td style=\"text-align: right;\">    2      </td><td style=\"text-align: right;\">    1</td><td style=\"text-align: right;\">    11.0833 </td><td style=\"text-align: right;\">    1      </td><td style=\"text-align: right;\">  1291.83  </td><td style=\"text-align: right;\">               5</td><td style=\"text-align: right;\">           1.83333</td><td style=\"text-align: right;\"> 0.142652</td><td style=\"text-align: right;\">0.0193742  </td><td style=\"text-align: right;\">0.0909878</td><td style=\"text-align: right;\">     0.0592344</td><td style=\"text-align: right;\">0.00171383</td><td style=\"text-align: right;\">0.00866842</td><td style=\"text-align: right;\">  0         </td><td style=\"text-align: right;\">   0        </td><td style=\"text-align: right;\">    0.026212</td><td style=\"text-align: right;\">    0.707191</td><td style=\"text-align: right;\">   0.019298 </td><td style=\"text-align: right;\">    0.707191</td><td style=\"text-align: right;\">    0.141082</td><td style=\"text-align: right;\">           1</td><td style=\"text-align: right;\">           1</td><td style=\"text-align: right;\"> 0.0121309  </td><td style=\"text-align: right;\"> 0.019335   </td><td style=\"text-align: right;\"> 0.0330987  </td><td style=\"text-align: right;\"> 0          </td><td style=\"text-align: right;\">  0.0562877 </td><td style=\"text-align: right;\">   0.0309993</td><td style=\"text-align: right;\">    0.106958</td><td style=\"text-align: right;\">     2.5    </td><td style=\"text-align: right;\">    -0.104903  </td><td style=\"text-align: right;\">   -0.100452   </td><td style=\"text-align: right;\">    -0.641499   </td></tr>\n",
       "</tbody>\n",
       "</table>"
      ]
     },
     "metadata": {},
     "output_type": "display_data"
    },
    {
     "data": {
      "text/plain": []
     },
     "execution_count": 151,
     "metadata": {},
     "output_type": "execute_result"
    }
   ],
   "source": [
    "test"
   ]
  },
  {
   "cell_type": "code",
   "execution_count": 152,
   "metadata": {},
   "outputs": [],
   "source": [
    "y_test = test['CSI']"
   ]
  },
  {
   "cell_type": "code",
   "execution_count": 142,
   "metadata": {},
   "outputs": [
    {
     "name": "stdout",
     "output_type": "stream",
     "text": [
      "AutoML progress: |████████████████████████████████████████████████████████| 100%\n"
     ]
    }
   ],
   "source": [
    "aml = H2OAutoML(max_runtime_secs = 60, seed = 1, project_name = \"powerplant_lb_frame\")\n",
    "aml.train(y = y, training_frame = train, leaderboard_frame = test)"
   ]
  },
  {
   "cell_type": "code",
   "execution_count": null,
   "metadata": {},
   "outputs": [],
   "source": [
    "# демонстрационных целях мы также выполним второй прогон AutoML, на этот раз предоставив исходный полный набор данных df\n",
    "#(без передачи leaderboard_frame). Это более эффективное использование наших данных, поскольку мы можем использовать \n",
    "#для обучения 100% данных, а не 80%, как мы это делали выше. На этот раз наша таблица лидеров будет использовать \n",
    "#перекрестные проверенные метрики."
   ]
  },
  {
   "cell_type": "code",
   "execution_count": 143,
   "metadata": {},
   "outputs": [
    {
     "name": "stdout",
     "output_type": "stream",
     "text": [
      "AutoML progress: |████████████████████████████████████████████████████████| 100%\n"
     ]
    }
   ],
   "source": [
    "aml2 = H2OAutoML(max_runtime_secs = 60, seed = 1, project_name = \"powerplant_full_data\")\n",
    "aml2.train(y = y, training_frame = df_h2o)"
   ]
  },
  {
   "cell_type": "code",
   "execution_count": 144,
   "metadata": {},
   "outputs": [
    {
     "data": {
      "text/html": [
       "<table>\n",
       "<thead>\n",
       "<tr><th>model_id                                           </th><th style=\"text-align: right;\">  mean_residual_deviance</th><th style=\"text-align: right;\">    rmse</th><th style=\"text-align: right;\">     mse</th><th style=\"text-align: right;\">     mae</th><th style=\"text-align: right;\">   rmsle</th></tr>\n",
       "</thead>\n",
       "<tbody>\n",
       "<tr><td>DeepLearning_grid_1_AutoML_20190115_221545_model_4 </td><td style=\"text-align: right;\">                0.13672 </td><td style=\"text-align: right;\">0.369757</td><td style=\"text-align: right;\">0.13672 </td><td style=\"text-align: right;\">0.257495</td><td style=\"text-align: right;\">0.256362</td></tr>\n",
       "<tr><td>DeepLearning_grid_1_AutoML_20190115_221545_model_3 </td><td style=\"text-align: right;\">                0.136906</td><td style=\"text-align: right;\">0.370008</td><td style=\"text-align: right;\">0.136906</td><td style=\"text-align: right;\">0.261825</td><td style=\"text-align: right;\">0.257117</td></tr>\n",
       "<tr><td>GBM_grid_1_AutoML_20190115_221545_model_9          </td><td style=\"text-align: right;\">                0.137061</td><td style=\"text-align: right;\">0.370217</td><td style=\"text-align: right;\">0.137061</td><td style=\"text-align: right;\">0.269019</td><td style=\"text-align: right;\">0.258648</td></tr>\n",
       "<tr><td>GBM_grid_1_AutoML_20190115_221545_model_1          </td><td style=\"text-align: right;\">                0.137084</td><td style=\"text-align: right;\">0.370248</td><td style=\"text-align: right;\">0.137084</td><td style=\"text-align: right;\">0.268614</td><td style=\"text-align: right;\">0.258563</td></tr>\n",
       "<tr><td>GBM_grid_1_AutoML_20190115_221545_model_2          </td><td style=\"text-align: right;\">                0.137087</td><td style=\"text-align: right;\">0.370253</td><td style=\"text-align: right;\">0.137087</td><td style=\"text-align: right;\">0.267449</td><td style=\"text-align: right;\">0.258319</td></tr>\n",
       "<tr><td>StackedEnsemble_AllModels_AutoML_20190115_221545   </td><td style=\"text-align: right;\">                0.137356</td><td style=\"text-align: right;\">0.370615</td><td style=\"text-align: right;\">0.137356</td><td style=\"text-align: right;\">0.268991</td><td style=\"text-align: right;\">0.258397</td></tr>\n",
       "<tr><td>StackedEnsemble_BestOfFamily_AutoML_20190115_221545</td><td style=\"text-align: right;\">                0.137528</td><td style=\"text-align: right;\">0.370847</td><td style=\"text-align: right;\">0.137528</td><td style=\"text-align: right;\">0.269021</td><td style=\"text-align: right;\">0.258441</td></tr>\n",
       "<tr><td>GLM_grid_1_AutoML_20190115_221545_model_1          </td><td style=\"text-align: right;\">                0.139509</td><td style=\"text-align: right;\">0.373509</td><td style=\"text-align: right;\">0.139509</td><td style=\"text-align: right;\">0.269145</td><td style=\"text-align: right;\">0.259194</td></tr>\n",
       "<tr><td>GBM_1_AutoML_20190115_221545                       </td><td style=\"text-align: right;\">                0.140008</td><td style=\"text-align: right;\">0.374177</td><td style=\"text-align: right;\">0.140008</td><td style=\"text-align: right;\">0.268927</td><td style=\"text-align: right;\">0.262614</td></tr>\n",
       "<tr><td>GBM_5_AutoML_20190115_221545                       </td><td style=\"text-align: right;\">                0.14009 </td><td style=\"text-align: right;\">0.374285</td><td style=\"text-align: right;\">0.14009 </td><td style=\"text-align: right;\">0.269042</td><td style=\"text-align: right;\">0.262673</td></tr>\n",
       "</tbody>\n",
       "</table>"
      ]
     },
     "metadata": {},
     "output_type": "display_data"
    },
    {
     "data": {
      "text/plain": []
     },
     "execution_count": 144,
     "metadata": {},
     "output_type": "execute_result"
    }
   ],
   "source": [
    "aml.leaderboard.head()"
   ]
  },
  {
   "cell_type": "code",
   "execution_count": 145,
   "metadata": {},
   "outputs": [
    {
     "data": {
      "text/html": [
       "<table>\n",
       "<thead>\n",
       "<tr><th>model_id                                           </th><th style=\"text-align: right;\">  mean_residual_deviance</th><th style=\"text-align: right;\">    rmse</th><th style=\"text-align: right;\">     mse</th><th style=\"text-align: right;\">     mae</th><th style=\"text-align: right;\">   rmsle</th></tr>\n",
       "</thead>\n",
       "<tbody>\n",
       "<tr><td>GLM_grid_1_AutoML_20190115_221759_model_1          </td><td style=\"text-align: right;\">                0.131106</td><td style=\"text-align: right;\">0.362085</td><td style=\"text-align: right;\">0.131106</td><td style=\"text-align: right;\">0.262046</td><td style=\"text-align: right;\">0.253675</td></tr>\n",
       "<tr><td>StackedEnsemble_BestOfFamily_AutoML_20190115_221759</td><td style=\"text-align: right;\">                0.131609</td><td style=\"text-align: right;\">0.362779</td><td style=\"text-align: right;\">0.131609</td><td style=\"text-align: right;\">0.262376</td><td style=\"text-align: right;\">0.25399 </td></tr>\n",
       "<tr><td>GBM_grid_1_AutoML_20190115_221759_model_1          </td><td style=\"text-align: right;\">                0.131659</td><td style=\"text-align: right;\">0.362848</td><td style=\"text-align: right;\">0.131659</td><td style=\"text-align: right;\">0.264114</td><td style=\"text-align: right;\">0.254367</td></tr>\n",
       "<tr><td>StackedEnsemble_AllModels_AutoML_20190115_221759   </td><td style=\"text-align: right;\">                0.131712</td><td style=\"text-align: right;\">0.362921</td><td style=\"text-align: right;\">0.131712</td><td style=\"text-align: right;\">0.262355</td><td style=\"text-align: right;\">0.254163</td></tr>\n",
       "<tr><td>GBM_grid_1_AutoML_20190115_221759_model_10         </td><td style=\"text-align: right;\">                0.131794</td><td style=\"text-align: right;\">0.363034</td><td style=\"text-align: right;\">0.131794</td><td style=\"text-align: right;\">0.263601</td><td style=\"text-align: right;\">0.254346</td></tr>\n",
       "<tr><td>GBM_grid_1_AutoML_20190115_221759_model_2          </td><td style=\"text-align: right;\">                0.131824</td><td style=\"text-align: right;\">0.363075</td><td style=\"text-align: right;\">0.131824</td><td style=\"text-align: right;\">0.26369 </td><td style=\"text-align: right;\">0.254425</td></tr>\n",
       "<tr><td>GBM_grid_1_AutoML_20190115_221759_model_9          </td><td style=\"text-align: right;\">                0.132067</td><td style=\"text-align: right;\">0.36341 </td><td style=\"text-align: right;\">0.132067</td><td style=\"text-align: right;\">0.265362</td><td style=\"text-align: right;\">0.255056</td></tr>\n",
       "<tr><td>DeepLearning_grid_1_AutoML_20190115_221759_model_4 </td><td style=\"text-align: right;\">                0.133223</td><td style=\"text-align: right;\">0.364997</td><td style=\"text-align: right;\">0.133223</td><td style=\"text-align: right;\">0.271141</td><td style=\"text-align: right;\">0.257743</td></tr>\n",
       "<tr><td>GBM_5_AutoML_20190115_221759                       </td><td style=\"text-align: right;\">                0.134158</td><td style=\"text-align: right;\">0.366276</td><td style=\"text-align: right;\">0.134158</td><td style=\"text-align: right;\">0.263351</td><td style=\"text-align: right;\">0.257983</td></tr>\n",
       "<tr><td>DeepLearning_grid_1_AutoML_20190115_221759_model_3 </td><td style=\"text-align: right;\">                0.135144</td><td style=\"text-align: right;\">0.36762 </td><td style=\"text-align: right;\">0.135144</td><td style=\"text-align: right;\">0.274875</td><td style=\"text-align: right;\">0.260981</td></tr>\n",
       "</tbody>\n",
       "</table>"
      ]
     },
     "metadata": {},
     "output_type": "display_data"
    },
    {
     "data": {
      "text/plain": []
     },
     "execution_count": 145,
     "metadata": {},
     "output_type": "execute_result"
    }
   ],
   "source": [
    "aml2.leaderboard.head()"
   ]
  },
  {
   "cell_type": "code",
   "execution_count": null,
   "metadata": {},
   "outputs": [],
   "source": []
  },
  {
   "cell_type": "markdown",
   "metadata": {},
   "source": [
    "## Предсказание Predict Using Leader Model"
   ]
  },
  {
   "cell_type": "code",
   "execution_count": 146,
   "metadata": {},
   "outputs": [
    {
     "name": "stdout",
     "output_type": "stream",
     "text": [
      "deeplearning prediction progress: |███████████████████████████████████████| 100%\n"
     ]
    },
    {
     "data": {
      "text/html": [
       "<table>\n",
       "<thead>\n",
       "<tr><th style=\"text-align: right;\">  predict</th></tr>\n",
       "</thead>\n",
       "<tbody>\n",
       "<tr><td style=\"text-align: right;\"> 0.145367</td></tr>\n",
       "<tr><td style=\"text-align: right;\"> 0.14567 </td></tr>\n",
       "<tr><td style=\"text-align: right;\"> 0.153781</td></tr>\n",
       "<tr><td style=\"text-align: right;\"> 0.145247</td></tr>\n",
       "<tr><td style=\"text-align: right;\"> 0.145928</td></tr>\n",
       "<tr><td style=\"text-align: right;\"> 0.13268 </td></tr>\n",
       "<tr><td style=\"text-align: right;\"> 0.143688</td></tr>\n",
       "<tr><td style=\"text-align: right;\"> 0.145065</td></tr>\n",
       "<tr><td style=\"text-align: right;\"> 0.134951</td></tr>\n",
       "<tr><td style=\"text-align: right;\"> 0.136212</td></tr>\n",
       "</tbody>\n",
       "</table>"
      ]
     },
     "metadata": {},
     "output_type": "display_data"
    },
    {
     "data": {
      "text/plain": []
     },
     "execution_count": 146,
     "metadata": {},
     "output_type": "execute_result"
    }
   ],
   "source": [
    "pred = aml.predict(test)\n",
    "pred.head()"
   ]
  },
  {
   "cell_type": "code",
   "execution_count": 148,
   "metadata": {},
   "outputs": [
    {
     "data": {
      "text/plain": [
       "(794, 1)"
      ]
     },
     "execution_count": 148,
     "metadata": {},
     "output_type": "execute_result"
    }
   ],
   "source": [
    "pred.shape"
   ]
  },
  {
   "cell_type": "code",
   "execution_count": 154,
   "metadata": {},
   "outputs": [
    {
     "data": {
      "text/plain": [
       "(794, 1)"
      ]
     },
     "execution_count": 154,
     "metadata": {},
     "output_type": "execute_result"
    }
   ],
   "source": [
    "y_test.shape"
   ]
  },
  {
   "cell_type": "markdown",
   "metadata": {},
   "source": [
    "## Оценка"
   ]
  },
  {
   "cell_type": "code",
   "execution_count": 147,
   "metadata": {},
   "outputs": [
    {
     "name": "stdout",
     "output_type": "stream",
     "text": [
      "\n",
      "ModelMetricsRegression: deeplearning\n",
      "** Reported on test data. **\n",
      "\n",
      "MSE: 0.13672020869764695\n",
      "RMSE: 0.36975695895770094\n",
      "MAE: 0.25749453056527544\n",
      "RMSLE: 0.2563620246691941\n",
      "Mean Residual Deviance: 0.13672020869764695\n"
     ]
    },
    {
     "data": {
      "text/plain": []
     },
     "execution_count": 147,
     "metadata": {},
     "output_type": "execute_result"
    }
   ],
   "source": [
    "perf = aml.leader.model_performance(test)\n",
    "perf"
   ]
  },
  {
   "cell_type": "code",
   "execution_count": 165,
   "metadata": {},
   "outputs": [],
   "source": [
    "y_test_as_list = h2o.as_list(y_test, use_pandas=False) \n",
    "y_test_as_list = y_test_as_list[1:]\n",
    "pred_as_list = h2o.as_list(pred, use_pandas=False) \n",
    "pred_as_list = pred_as_list[1:]"
   ]
  },
  {
   "cell_type": "code",
   "execution_count": null,
   "metadata": {},
   "outputs": [],
   "source": []
  },
  {
   "cell_type": "markdown",
   "metadata": {},
   "source": [
    "## Алгоритм auto_sklearn"
   ]
  },
  {
   "cell_type": "code",
   "execution_count": null,
   "metadata": {},
   "outputs": [],
   "source": [
    "#https://www.ml4aad.org/automl/auto-sklearn/"
   ]
  },
  {
   "cell_type": "code",
   "execution_count": 186,
   "metadata": {},
   "outputs": [],
   "source": [
    "train_auto = train"
   ]
  },
  {
   "cell_type": "code",
   "execution_count": null,
   "metadata": {},
   "outputs": [],
   "source": [
    "https://automl.github.io/auto-sklearn/stable/installation.html#windows-osx-compability"
   ]
  },
  {
   "cell_type": "code",
   "execution_count": 187,
   "metadata": {},
   "outputs": [
    {
     "name": "stdout",
     "output_type": "stream",
     "text": [
      "Index(['CONTACT_DATE', 'COM_CAT#1', 'COM_CAT#2', 'COM_CAT#3', 'BASE_TYPE',\n",
      "       'ACT', 'ARPU_GROUP', 'COM_CAT#7', 'COM_CAT#8', 'DEVICE_TYPE_ID',\n",
      "       'INTERNET_TYPE_ID', 'REVENUE', 'ITC', 'VAS', 'RENT_CHANNEL', 'ROAM',\n",
      "       'COST', 'COM_CAT#17', 'COM_CAT#18', 'COM_CAT#19', 'COM_CAT#20',\n",
      "       'COM_CAT#21', 'COM_CAT#22', 'COM_CAT#23', 'COM_CAT#25', 'COM_CAT#26',\n",
      "       'COM_CAT#27', 'COM_CAT#28', 'COM_CAT#29', 'COM_CAT#30', 'COM_CAT#31',\n",
      "       'COM_CAT#32', 'COM_CAT#33', 'COM_CAT#34', 'SUM_MINUTES_x',\n",
      "       'SUM_DATA_MB_x', 'SUM_DATA_MIN_x'],\n",
      "      dtype='object')\n"
     ]
    }
   ],
   "source": [
    "X = train_auto.drop(('CSI'), axis=1)  # Выбрасываем столбец 'class'.  \n",
    "y = train['CSI']\n",
    "feature_names = X.columns\n",
    "print(feature_names)"
   ]
  },
  {
   "cell_type": "code",
   "execution_count": 188,
   "metadata": {},
   "outputs": [],
   "source": [
    "from sklearn import ensemble\n",
    "from sklearn.cross_validation import train_test_split\n",
    "\n",
    "X_train, X_test, y_train, y_test = train_test_split(X, y, test_size = 0.2, random_state = 11)"
   ]
  },
  {
   "cell_type": "code",
   "execution_count": 190,
   "metadata": {},
   "outputs": [
    {
     "ename": "ModuleNotFoundError",
     "evalue": "No module named 'autosklearn'",
     "output_type": "error",
     "traceback": [
      "\u001b[1;31m---------------------------------------------------------------------------\u001b[0m",
      "\u001b[1;31mModuleNotFoundError\u001b[0m                       Traceback (most recent call last)",
      "\u001b[1;32m<ipython-input-190-98590a8b8e6b>\u001b[0m in \u001b[0;36m<module>\u001b[1;34m()\u001b[0m\n\u001b[1;32m----> 1\u001b[1;33m \u001b[1;32mimport\u001b[0m \u001b[0mautosklearn\u001b[0m\u001b[1;33m.\u001b[0m\u001b[0mclassification\u001b[0m\u001b[1;33m\u001b[0m\u001b[0m\n\u001b[0m\u001b[0;32m      2\u001b[0m \u001b[0mcls\u001b[0m \u001b[1;33m=\u001b[0m \u001b[0mautosklearn\u001b[0m\u001b[1;33m.\u001b[0m\u001b[0mclassification\u001b[0m\u001b[1;33m.\u001b[0m\u001b[0mAutoSklearnClassifier\u001b[0m\u001b[1;33m(\u001b[0m\u001b[1;33m)\u001b[0m\u001b[1;33m\u001b[0m\u001b[0m\n\u001b[0;32m      3\u001b[0m \u001b[0mcls\u001b[0m\u001b[1;33m.\u001b[0m\u001b[0mfit\u001b[0m\u001b[1;33m(\u001b[0m\u001b[0mX_train\u001b[0m\u001b[1;33m,\u001b[0m \u001b[0my_train\u001b[0m\u001b[1;33m)\u001b[0m\u001b[1;33m\u001b[0m\u001b[0m\n\u001b[0;32m      4\u001b[0m \u001b[0mpredictions\u001b[0m \u001b[1;33m=\u001b[0m \u001b[0mcls\u001b[0m\u001b[1;33m.\u001b[0m\u001b[0mpredict\u001b[0m\u001b[1;33m(\u001b[0m\u001b[0mX_test\u001b[0m\u001b[1;33m,\u001b[0m \u001b[0my_test\u001b[0m\u001b[1;33m)\u001b[0m\u001b[1;33m\u001b[0m\u001b[0m\n",
      "\u001b[1;31mModuleNotFoundError\u001b[0m: No module named 'autosklearn'"
     ]
    }
   ],
   "source": [
    "import autosklearn.classification\n",
    "cls = autosklearn.classification.AutoSklearnClassifier()\n",
    "cls.fit(X_train, y_train)\n",
    "predictions = cls.predict(X_test, y_test)"
   ]
  },
  {
   "cell_type": "code",
   "execution_count": null,
   "metadata": {},
   "outputs": [],
   "source": []
  },
  {
   "cell_type": "markdown",
   "metadata": {},
   "source": [
    "## Деление на train и test, алгоритм MLBox"
   ]
  },
  {
   "cell_type": "code",
   "execution_count": 200,
   "metadata": {},
   "outputs": [
    {
     "ename": "ModuleNotFoundError",
     "evalue": "No module named 'mlbox'",
     "output_type": "error",
     "traceback": [
      "\u001b[1;31m---------------------------------------------------------------------------\u001b[0m",
      "\u001b[1;31mModuleNotFoundError\u001b[0m                       Traceback (most recent call last)",
      "\u001b[1;32m<ipython-input-200-e00ff8ba8111>\u001b[0m in \u001b[0;36m<module>\u001b[1;34m()\u001b[0m\n\u001b[1;32m----> 1\u001b[1;33m \u001b[1;32mfrom\u001b[0m \u001b[0mmlbox\u001b[0m\u001b[1;33m.\u001b[0m\u001b[0mpreprocessing\u001b[0m \u001b[1;32mimport\u001b[0m \u001b[1;33m*\u001b[0m\u001b[1;33m\u001b[0m\u001b[0m\n\u001b[0m\u001b[0;32m      2\u001b[0m \u001b[1;32mfrom\u001b[0m \u001b[0mmlbox\u001b[0m\u001b[1;33m.\u001b[0m\u001b[0moptimisation\u001b[0m \u001b[1;32mimport\u001b[0m \u001b[1;33m*\u001b[0m\u001b[1;33m\u001b[0m\u001b[0m\n\u001b[0;32m      3\u001b[0m \u001b[1;32mfrom\u001b[0m \u001b[0mmlbox\u001b[0m\u001b[1;33m.\u001b[0m\u001b[0mprediction\u001b[0m \u001b[1;32mimport\u001b[0m \u001b[1;33m*\u001b[0m\u001b[1;33m\u001b[0m\u001b[0m\n",
      "\u001b[1;31mModuleNotFoundError\u001b[0m: No module named 'mlbox'"
     ]
    }
   ],
   "source": [
    "from mlbox.preprocessing import *\n",
    "from mlbox.optimisation import *\n",
    "from mlbox.prediction import *"
   ]
  },
  {
   "cell_type": "code",
   "execution_count": 201,
   "metadata": {},
   "outputs": [],
   "source": [
    "import xgboost as xgb"
   ]
  },
  {
   "cell_type": "code",
   "execution_count": null,
   "metadata": {},
   "outputs": [],
   "source": []
  },
  {
   "cell_type": "code",
   "execution_count": null,
   "metadata": {},
   "outputs": [],
   "source": []
  },
  {
   "cell_type": "markdown",
   "metadata": {},
   "source": [
    "## Auto_ml (Не з)"
   ]
  },
  {
   "cell_type": "code",
   "execution_count": 66,
   "metadata": {},
   "outputs": [],
   "source": [
    "from sklearn import datasets\n",
    "from auto_ml import Predictor"
   ]
  },
  {
   "cell_type": "code",
   "execution_count": null,
   "metadata": {},
   "outputs": [],
   "source": [
    "#https://pypi.org/project/automl/"
   ]
  },
  {
   "cell_type": "code",
   "execution_count": 67,
   "metadata": {},
   "outputs": [
    {
     "data": {
      "text/html": [
       "<div>\n",
       "<style>\n",
       "    .dataframe thead tr:only-child th {\n",
       "        text-align: right;\n",
       "    }\n",
       "\n",
       "    .dataframe thead th {\n",
       "        text-align: left;\n",
       "    }\n",
       "\n",
       "    .dataframe tbody tr th {\n",
       "        vertical-align: top;\n",
       "    }\n",
       "</style>\n",
       "<table border=\"1\" class=\"dataframe\">\n",
       "  <thead>\n",
       "    <tr style=\"text-align: right;\">\n",
       "      <th></th>\n",
       "      <th>SK_ID</th>\n",
       "      <th>CSI</th>\n",
       "      <th>CONTACT_DATE</th>\n",
       "      <th>COM_CAT#1</th>\n",
       "      <th>COM_CAT#2</th>\n",
       "      <th>COM_CAT#3</th>\n",
       "      <th>BASE_TYPE</th>\n",
       "      <th>ACT</th>\n",
       "      <th>ARPU_GROUP</th>\n",
       "      <th>COM_CAT#7</th>\n",
       "      <th>...</th>\n",
       "      <th>COM_CAT#28</th>\n",
       "      <th>COM_CAT#29</th>\n",
       "      <th>COM_CAT#30</th>\n",
       "      <th>COM_CAT#31</th>\n",
       "      <th>COM_CAT#32</th>\n",
       "      <th>COM_CAT#33</th>\n",
       "      <th>COM_CAT#34</th>\n",
       "      <th>SUM_MINUTES_x</th>\n",
       "      <th>SUM_DATA_MB_x</th>\n",
       "      <th>SUM_DATA_MIN_x</th>\n",
       "    </tr>\n",
       "  </thead>\n",
       "  <tbody>\n",
       "    <tr>\n",
       "      <th>0</th>\n",
       "      <td>2</td>\n",
       "      <td>0.0</td>\n",
       "      <td>4.05</td>\n",
       "      <td>7.0</td>\n",
       "      <td>77.0</td>\n",
       "      <td>11.500000</td>\n",
       "      <td>1.0</td>\n",
       "      <td>1.0</td>\n",
       "      <td>8.500000</td>\n",
       "      <td>2.000000</td>\n",
       "      <td>...</td>\n",
       "      <td>0.004862</td>\n",
       "      <td>0.000046</td>\n",
       "      <td>0.002075</td>\n",
       "      <td>0.020449</td>\n",
       "      <td>0.027579</td>\n",
       "      <td>0.103896</td>\n",
       "      <td>9.0</td>\n",
       "      <td>-0.036174</td>\n",
       "      <td>-0.004328</td>\n",
       "      <td>-0.379529</td>\n",
       "    </tr>\n",
       "    <tr>\n",
       "      <th>1</th>\n",
       "      <td>3</td>\n",
       "      <td>0.0</td>\n",
       "      <td>21.05</td>\n",
       "      <td>4.0</td>\n",
       "      <td>51.0</td>\n",
       "      <td>13.500000</td>\n",
       "      <td>1.5</td>\n",
       "      <td>1.0</td>\n",
       "      <td>9.000000</td>\n",
       "      <td>2.000000</td>\n",
       "      <td>...</td>\n",
       "      <td>0.019320</td>\n",
       "      <td>0.001019</td>\n",
       "      <td>0.000105</td>\n",
       "      <td>0.014257</td>\n",
       "      <td>0.027579</td>\n",
       "      <td>0.103896</td>\n",
       "      <td>9.0</td>\n",
       "      <td>-0.057364</td>\n",
       "      <td>-0.000938</td>\n",
       "      <td>-0.289759</td>\n",
       "    </tr>\n",
       "    <tr>\n",
       "      <th>2</th>\n",
       "      <td>4</td>\n",
       "      <td>0.0</td>\n",
       "      <td>27.05</td>\n",
       "      <td>8.0</td>\n",
       "      <td>12.0</td>\n",
       "      <td>3.833333</td>\n",
       "      <td>2.0</td>\n",
       "      <td>1.0</td>\n",
       "      <td>6.166667</td>\n",
       "      <td>2.916667</td>\n",
       "      <td>...</td>\n",
       "      <td>0.003972</td>\n",
       "      <td>0.000000</td>\n",
       "      <td>0.000000</td>\n",
       "      <td>0.039371</td>\n",
       "      <td>0.027579</td>\n",
       "      <td>0.103896</td>\n",
       "      <td>3.0</td>\n",
       "      <td>-0.105326</td>\n",
       "      <td>0.000000</td>\n",
       "      <td>0.000000</td>\n",
       "    </tr>\n",
       "    <tr>\n",
       "      <th>3</th>\n",
       "      <td>5</td>\n",
       "      <td>0.0</td>\n",
       "      <td>8.05</td>\n",
       "      <td>3.0</td>\n",
       "      <td>79.0</td>\n",
       "      <td>2.000000</td>\n",
       "      <td>2.0</td>\n",
       "      <td>1.0</td>\n",
       "      <td>8.833333</td>\n",
       "      <td>1.000000</td>\n",
       "      <td>...</td>\n",
       "      <td>0.002000</td>\n",
       "      <td>0.071332</td>\n",
       "      <td>0.001833</td>\n",
       "      <td>0.051395</td>\n",
       "      <td>0.027579</td>\n",
       "      <td>0.103896</td>\n",
       "      <td>2.0</td>\n",
       "      <td>-0.130796</td>\n",
       "      <td>-0.079279</td>\n",
       "      <td>-0.739966</td>\n",
       "    </tr>\n",
       "    <tr>\n",
       "      <th>4</th>\n",
       "      <td>6</td>\n",
       "      <td>1.0</td>\n",
       "      <td>6.05</td>\n",
       "      <td>5.0</td>\n",
       "      <td>48.0</td>\n",
       "      <td>5.000000</td>\n",
       "      <td>2.0</td>\n",
       "      <td>1.0</td>\n",
       "      <td>2.166667</td>\n",
       "      <td>4.000000</td>\n",
       "      <td>...</td>\n",
       "      <td>0.000103</td>\n",
       "      <td>0.000000</td>\n",
       "      <td>0.000000</td>\n",
       "      <td>0.012235</td>\n",
       "      <td>0.027579</td>\n",
       "      <td>0.103900</td>\n",
       "      <td>3.0</td>\n",
       "      <td>-0.026522</td>\n",
       "      <td>0.000000</td>\n",
       "      <td>0.000000</td>\n",
       "    </tr>\n",
       "    <tr>\n",
       "      <th>5</th>\n",
       "      <td>7</td>\n",
       "      <td>0.0</td>\n",
       "      <td>3.05</td>\n",
       "      <td>7.0</td>\n",
       "      <td>73.0</td>\n",
       "      <td>3.333333</td>\n",
       "      <td>2.0</td>\n",
       "      <td>1.0</td>\n",
       "      <td>10.000000</td>\n",
       "      <td>1.750000</td>\n",
       "      <td>...</td>\n",
       "      <td>0.036967</td>\n",
       "      <td>0.009841</td>\n",
       "      <td>0.001592</td>\n",
       "      <td>0.047106</td>\n",
       "      <td>0.027579</td>\n",
       "      <td>0.104090</td>\n",
       "      <td>2.0</td>\n",
       "      <td>-0.075955</td>\n",
       "      <td>-0.041332</td>\n",
       "      <td>-1.011549</td>\n",
       "    </tr>\n",
       "    <tr>\n",
       "      <th>6</th>\n",
       "      <td>8</td>\n",
       "      <td>1.0</td>\n",
       "      <td>30.05</td>\n",
       "      <td>5.0</td>\n",
       "      <td>41.0</td>\n",
       "      <td>3.333333</td>\n",
       "      <td>2.0</td>\n",
       "      <td>1.0</td>\n",
       "      <td>7.166667</td>\n",
       "      <td>4.000000</td>\n",
       "      <td>...</td>\n",
       "      <td>0.035177</td>\n",
       "      <td>0.000000</td>\n",
       "      <td>0.000000</td>\n",
       "      <td>0.023366</td>\n",
       "      <td>0.027579</td>\n",
       "      <td>0.103896</td>\n",
       "      <td>3.0</td>\n",
       "      <td>-0.080295</td>\n",
       "      <td>0.000000</td>\n",
       "      <td>0.000000</td>\n",
       "    </tr>\n",
       "  </tbody>\n",
       "</table>\n",
       "<p>7 rows × 39 columns</p>\n",
       "</div>"
      ],
      "text/plain": [
       "   SK_ID  CSI  CONTACT_DATE  COM_CAT#1  COM_CAT#2  COM_CAT#3  BASE_TYPE  ACT  \\\n",
       "0      2  0.0          4.05        7.0       77.0  11.500000        1.0  1.0   \n",
       "1      3  0.0         21.05        4.0       51.0  13.500000        1.5  1.0   \n",
       "2      4  0.0         27.05        8.0       12.0   3.833333        2.0  1.0   \n",
       "3      5  0.0          8.05        3.0       79.0   2.000000        2.0  1.0   \n",
       "4      6  1.0          6.05        5.0       48.0   5.000000        2.0  1.0   \n",
       "5      7  0.0          3.05        7.0       73.0   3.333333        2.0  1.0   \n",
       "6      8  1.0         30.05        5.0       41.0   3.333333        2.0  1.0   \n",
       "\n",
       "   ARPU_GROUP  COM_CAT#7       ...        COM_CAT#28  COM_CAT#29  COM_CAT#30  \\\n",
       "0    8.500000   2.000000       ...          0.004862    0.000046    0.002075   \n",
       "1    9.000000   2.000000       ...          0.019320    0.001019    0.000105   \n",
       "2    6.166667   2.916667       ...          0.003972    0.000000    0.000000   \n",
       "3    8.833333   1.000000       ...          0.002000    0.071332    0.001833   \n",
       "4    2.166667   4.000000       ...          0.000103    0.000000    0.000000   \n",
       "5   10.000000   1.750000       ...          0.036967    0.009841    0.001592   \n",
       "6    7.166667   4.000000       ...          0.035177    0.000000    0.000000   \n",
       "\n",
       "   COM_CAT#31  COM_CAT#32  COM_CAT#33  COM_CAT#34  SUM_MINUTES_x  \\\n",
       "0    0.020449    0.027579    0.103896         9.0      -0.036174   \n",
       "1    0.014257    0.027579    0.103896         9.0      -0.057364   \n",
       "2    0.039371    0.027579    0.103896         3.0      -0.105326   \n",
       "3    0.051395    0.027579    0.103896         2.0      -0.130796   \n",
       "4    0.012235    0.027579    0.103900         3.0      -0.026522   \n",
       "5    0.047106    0.027579    0.104090         2.0      -0.075955   \n",
       "6    0.023366    0.027579    0.103896         3.0      -0.080295   \n",
       "\n",
       "   SUM_DATA_MB_x  SUM_DATA_MIN_x  \n",
       "0      -0.004328       -0.379529  \n",
       "1      -0.000938       -0.289759  \n",
       "2       0.000000        0.000000  \n",
       "3      -0.079279       -0.739966  \n",
       "4       0.000000        0.000000  \n",
       "5      -0.041332       -1.011549  \n",
       "6       0.000000        0.000000  \n",
       "\n",
       "[7 rows x 39 columns]"
      ]
     },
     "execution_count": 67,
     "metadata": {},
     "output_type": "execute_result"
    }
   ],
   "source": [
    "train = pd.read_csv('train_auto_ml.csv', sep=',', decimal = '.', engine = 'python')\n",
    "train.head(7)"
   ]
  },
  {
   "cell_type": "code",
   "execution_count": 68,
   "metadata": {},
   "outputs": [
    {
     "data": {
      "text/html": [
       "<div>\n",
       "<style>\n",
       "    .dataframe thead tr:only-child th {\n",
       "        text-align: right;\n",
       "    }\n",
       "\n",
       "    .dataframe thead th {\n",
       "        text-align: left;\n",
       "    }\n",
       "\n",
       "    .dataframe tbody tr th {\n",
       "        vertical-align: top;\n",
       "    }\n",
       "</style>\n",
       "<table border=\"1\" class=\"dataframe\">\n",
       "  <thead>\n",
       "    <tr style=\"text-align: right;\">\n",
       "      <th></th>\n",
       "      <th>SK_ID</th>\n",
       "      <th>CSI</th>\n",
       "      <th>CONTACT_DATE</th>\n",
       "      <th>COM_CAT#1</th>\n",
       "      <th>COM_CAT#2</th>\n",
       "      <th>COM_CAT#3</th>\n",
       "      <th>BASE_TYPE</th>\n",
       "      <th>ACT</th>\n",
       "      <th>ARPU_GROUP</th>\n",
       "      <th>COM_CAT#7</th>\n",
       "      <th>...</th>\n",
       "      <th>COM_CAT#28</th>\n",
       "      <th>COM_CAT#29</th>\n",
       "      <th>COM_CAT#30</th>\n",
       "      <th>COM_CAT#31</th>\n",
       "      <th>COM_CAT#32</th>\n",
       "      <th>COM_CAT#33</th>\n",
       "      <th>COM_CAT#34</th>\n",
       "      <th>SUM_MINUTES_x</th>\n",
       "      <th>SUM_DATA_MB_x</th>\n",
       "      <th>SUM_DATA_MIN_x</th>\n",
       "    </tr>\n",
       "  </thead>\n",
       "  <tbody>\n",
       "    <tr>\n",
       "      <th>2340</th>\n",
       "      <td>2723</td>\n",
       "      <td>0.0</td>\n",
       "      <td>21.05</td>\n",
       "      <td>7.0</td>\n",
       "      <td>63.0</td>\n",
       "      <td>13.5</td>\n",
       "      <td>1.5</td>\n",
       "      <td>1.0</td>\n",
       "      <td>8.500000</td>\n",
       "      <td>2.00</td>\n",
       "      <td>...</td>\n",
       "      <td>0.001333</td>\n",
       "      <td>0.000654</td>\n",
       "      <td>0.003833</td>\n",
       "      <td>0.000264</td>\n",
       "      <td>0.123125</td>\n",
       "      <td>0.104805</td>\n",
       "      <td>5.500000</td>\n",
       "      <td>0.000010</td>\n",
       "      <td>-0.186139</td>\n",
       "      <td>-0.881348</td>\n",
       "    </tr>\n",
       "    <tr>\n",
       "      <th>2435</th>\n",
       "      <td>2830</td>\n",
       "      <td>0.0</td>\n",
       "      <td>5.05</td>\n",
       "      <td>5.0</td>\n",
       "      <td>10.0</td>\n",
       "      <td>5.0</td>\n",
       "      <td>2.0</td>\n",
       "      <td>1.0</td>\n",
       "      <td>5.750000</td>\n",
       "      <td>3.50</td>\n",
       "      <td>...</td>\n",
       "      <td>0.002825</td>\n",
       "      <td>0.000000</td>\n",
       "      <td>0.000000</td>\n",
       "      <td>0.020390</td>\n",
       "      <td>0.027579</td>\n",
       "      <td>0.103896</td>\n",
       "      <td>3.000000</td>\n",
       "      <td>-0.019303</td>\n",
       "      <td>0.000000</td>\n",
       "      <td>0.000000</td>\n",
       "    </tr>\n",
       "    <tr>\n",
       "      <th>1311</th>\n",
       "      <td>1517</td>\n",
       "      <td>0.0</td>\n",
       "      <td>18.05</td>\n",
       "      <td>5.0</td>\n",
       "      <td>17.0</td>\n",
       "      <td>5.0</td>\n",
       "      <td>2.0</td>\n",
       "      <td>1.0</td>\n",
       "      <td>8.916667</td>\n",
       "      <td>3.00</td>\n",
       "      <td>...</td>\n",
       "      <td>0.022231</td>\n",
       "      <td>0.000040</td>\n",
       "      <td>0.000001</td>\n",
       "      <td>0.040939</td>\n",
       "      <td>0.027579</td>\n",
       "      <td>0.103896</td>\n",
       "      <td>9.250000</td>\n",
       "      <td>-0.138021</td>\n",
       "      <td>-0.000001</td>\n",
       "      <td>-0.000053</td>\n",
       "    </tr>\n",
       "    <tr>\n",
       "      <th>2878</th>\n",
       "      <td>3356</td>\n",
       "      <td>1.0</td>\n",
       "      <td>12.05</td>\n",
       "      <td>1.0</td>\n",
       "      <td>30.0</td>\n",
       "      <td>5.0</td>\n",
       "      <td>2.0</td>\n",
       "      <td>1.0</td>\n",
       "      <td>12.000000</td>\n",
       "      <td>1.25</td>\n",
       "      <td>...</td>\n",
       "      <td>0.124182</td>\n",
       "      <td>0.003582</td>\n",
       "      <td>0.018356</td>\n",
       "      <td>0.140483</td>\n",
       "      <td>0.027781</td>\n",
       "      <td>0.103994</td>\n",
       "      <td>2.000000</td>\n",
       "      <td>-0.192913</td>\n",
       "      <td>-0.053153</td>\n",
       "      <td>-0.930435</td>\n",
       "    </tr>\n",
       "    <tr>\n",
       "      <th>2601</th>\n",
       "      <td>3025</td>\n",
       "      <td>0.0</td>\n",
       "      <td>5.05</td>\n",
       "      <td>4.0</td>\n",
       "      <td>36.0</td>\n",
       "      <td>5.0</td>\n",
       "      <td>2.0</td>\n",
       "      <td>1.0</td>\n",
       "      <td>7.166667</td>\n",
       "      <td>3.00</td>\n",
       "      <td>...</td>\n",
       "      <td>0.019900</td>\n",
       "      <td>0.000000</td>\n",
       "      <td>0.000000</td>\n",
       "      <td>0.017379</td>\n",
       "      <td>0.027579</td>\n",
       "      <td>0.103896</td>\n",
       "      <td>9.416667</td>\n",
       "      <td>-0.042595</td>\n",
       "      <td>0.000000</td>\n",
       "      <td>0.000000</td>\n",
       "    </tr>\n",
       "  </tbody>\n",
       "</table>\n",
       "<p>5 rows × 39 columns</p>\n",
       "</div>"
      ],
      "text/plain": [
       "      SK_ID  CSI  CONTACT_DATE  COM_CAT#1  COM_CAT#2  COM_CAT#3  BASE_TYPE  \\\n",
       "2340   2723  0.0         21.05        7.0       63.0       13.5        1.5   \n",
       "2435   2830  0.0          5.05        5.0       10.0        5.0        2.0   \n",
       "1311   1517  0.0         18.05        5.0       17.0        5.0        2.0   \n",
       "2878   3356  1.0         12.05        1.0       30.0        5.0        2.0   \n",
       "2601   3025  0.0          5.05        4.0       36.0        5.0        2.0   \n",
       "\n",
       "      ACT  ARPU_GROUP  COM_CAT#7       ...        COM_CAT#28  COM_CAT#29  \\\n",
       "2340  1.0    8.500000       2.00       ...          0.001333    0.000654   \n",
       "2435  1.0    5.750000       3.50       ...          0.002825    0.000000   \n",
       "1311  1.0    8.916667       3.00       ...          0.022231    0.000040   \n",
       "2878  1.0   12.000000       1.25       ...          0.124182    0.003582   \n",
       "2601  1.0    7.166667       3.00       ...          0.019900    0.000000   \n",
       "\n",
       "      COM_CAT#30  COM_CAT#31  COM_CAT#32  COM_CAT#33  COM_CAT#34  \\\n",
       "2340    0.003833    0.000264    0.123125    0.104805    5.500000   \n",
       "2435    0.000000    0.020390    0.027579    0.103896    3.000000   \n",
       "1311    0.000001    0.040939    0.027579    0.103896    9.250000   \n",
       "2878    0.018356    0.140483    0.027781    0.103994    2.000000   \n",
       "2601    0.000000    0.017379    0.027579    0.103896    9.416667   \n",
       "\n",
       "      SUM_MINUTES_x  SUM_DATA_MB_x  SUM_DATA_MIN_x  \n",
       "2340       0.000010      -0.186139       -0.881348  \n",
       "2435      -0.019303       0.000000        0.000000  \n",
       "1311      -0.138021      -0.000001       -0.000053  \n",
       "2878      -0.192913      -0.053153       -0.930435  \n",
       "2601      -0.042595       0.000000        0.000000  \n",
       "\n",
       "[5 rows x 39 columns]"
      ]
     },
     "execution_count": 68,
     "metadata": {},
     "output_type": "execute_result"
    }
   ],
   "source": [
    "from sklearn.cross_validation import train_test_split\n",
    "\n",
    "my_train, my_test = train_test_split(train, test_size = 0.2, random_state = 11)\n",
    "my_train.head()"
   ]
  },
  {
   "cell_type": "code",
   "execution_count": 69,
   "metadata": {},
   "outputs": [
    {
     "name": "stdout",
     "output_type": "stream",
     "text": [
      "Welcome to auto_ml! We're about to go through and make sense of your data using machine learning, and give you a production-ready pipeline to get predictions with.\n",
      "\n",
      "If you have any issues, or new feature ideas, let us know at http://auto.ml\n",
      "You are running on version 2.9.9\n",
      "Now using the model training_params that you passed in:\n",
      "{}\n",
      "After overwriting our defaults with your values, here are the final params that will be used to initialize the model:\n",
      "{'learning_rate': 0.1, 'presort': False, 'warm_start': True}\n",
      "Running basic data cleaning\n",
      "Fitting DataFrameVectorizer\n",
      "Now using the model training_params that you passed in:\n",
      "{}\n",
      "After overwriting our defaults with your values, here are the final params that will be used to initialize the model:\n",
      "{'learning_rate': 0.1, 'presort': False, 'warm_start': True}\n",
      "\n",
      "\n",
      "********************************************************************************************\n",
      "About to fit the pipeline for the model GradientBoostingRegressor to predict CSI\n",
      "Started at:\n",
      "2019-01-16 23:33:02\n",
      "[1] random_holdout_set_from_training_data's score is: -0.365\n",
      "[2] random_holdout_set_from_training_data's score is: -0.365\n",
      "[3] random_holdout_set_from_training_data's score is: -0.365\n",
      "[4] random_holdout_set_from_training_data's score is: -0.365\n",
      "[5] random_holdout_set_from_training_data's score is: -0.366\n",
      "[6] random_holdout_set_from_training_data's score is: -0.366\n",
      "[7] random_holdout_set_from_training_data's score is: -0.366\n",
      "[8] random_holdout_set_from_training_data's score is: -0.366\n",
      "[9] random_holdout_set_from_training_data's score is: -0.366\n",
      "[10] random_holdout_set_from_training_data's score is: -0.366\n",
      "[11] random_holdout_set_from_training_data's score is: -0.366\n",
      "[12] random_holdout_set_from_training_data's score is: -0.366\n",
      "[13] random_holdout_set_from_training_data's score is: -0.366\n",
      "[14] random_holdout_set_from_training_data's score is: -0.366\n",
      "[15] random_holdout_set_from_training_data's score is: -0.366\n",
      "[16] random_holdout_set_from_training_data's score is: -0.366\n",
      "[17] random_holdout_set_from_training_data's score is: -0.366\n",
      "[18] random_holdout_set_from_training_data's score is: -0.366\n",
      "[19] random_holdout_set_from_training_data's score is: -0.367\n",
      "[20] random_holdout_set_from_training_data's score is: -0.367\n",
      "[21] random_holdout_set_from_training_data's score is: -0.367\n",
      "The number of estimators that were the best for this training dataset: 1\n",
      "The best score on the holdout set: -0.36528840209928465\n",
      "Finished training the pipeline!\n",
      "Total training time:\n",
      "0:00:01\n",
      "\n",
      "\n",
      "Here are the results from our GradientBoostingRegressor\n",
      "predicting CSI\n",
      "Calculating feature responses, for advanced analytics.\n",
      "The printed list will only contain at most the top 100 features.\n",
      "+---------+------------------+--------------+----------+-------------------+-------------------+-----------+-----------+-----------+-----------+\n",
      "|         | Feature Name     |   Importance |    Delta |   FR_Decrementing |   FR_Incrementing |   FRD_abs |   FRI_abs |   FRD_MAD |   FRI_MAD |\n",
      "|---------+------------------+--------------+----------+-------------------+-------------------+-----------+-----------+-----------+-----------|\n",
      "| 18.0000 | COM_CAT#17       |       0.0000 |   0.0104 |            0.0000 |            0.0000 |    0.0000 |    0.0000 |    0.0000 |    0.0000 |\n",
      "| 21.0000 | COM_CAT#20       |       0.0000 |   0.0024 |            0.0000 |            0.0000 |    0.0000 |    0.0000 |    0.0000 |    0.0000 |\n",
      "| 22.0000 | COM_CAT#21       |       0.0000 |   0.0008 |            0.0000 |            0.0000 |    0.0000 |    0.0000 |    0.0000 |    0.0000 |\n",
      "| 23.0000 | COM_CAT#22       |       0.0000 |   0.0024 |            0.0000 |            0.0000 |    0.0000 |    0.0000 |    0.0000 |    0.0000 |\n",
      "| 24.0000 | COM_CAT#23       |       0.0000 |   0.0076 |            0.0000 |            0.0000 |    0.0000 |    0.0000 |    0.0000 |    0.0000 |\n",
      "| 25.0000 | COM_CAT#25       |       0.0000 |   0.0047 |            0.0000 |            0.0000 |    0.0000 |    0.0000 |    0.0000 |    0.0000 |\n",
      "| 26.0000 | COM_CAT#26       |       0.0000 |   0.0096 |            0.0000 |            0.0000 |    0.0000 |    0.0000 |    0.0000 |    0.0000 |\n",
      "| 20.0000 | COM_CAT#19       |       0.0000 |   0.0000 |            0.0000 |            0.0000 |    0.0000 |    0.0000 |    0.0000 |    0.0000 |\n",
      "| 27.0000 | COM_CAT#27       |       0.0000 |   0.0111 |            0.0000 |            0.0000 |    0.0000 |    0.0000 |    0.0000 |    0.0000 |\n",
      "| 29.0000 | COM_CAT#29       |       0.0000 |   0.0081 |            0.0000 |            0.0000 |    0.0000 |    0.0000 |    0.0000 |    0.0000 |\n",
      "| 30.0000 | COM_CAT#30       |       0.0000 |   0.0089 |            0.0000 |            0.0000 |    0.0000 |    0.0000 |    0.0000 |    0.0000 |\n",
      "| 31.0000 | COM_CAT#31       |       0.0000 |   0.0230 |            0.0000 |            0.0000 |    0.0000 |    0.0000 |    0.0000 |    0.0000 |\n",
      "| 32.0000 | COM_CAT#32       |       0.0000 |   0.0033 |            0.0000 |            0.0000 |    0.0000 |    0.0000 |    0.0000 |    0.0000 |\n",
      "| 34.0000 | COM_CAT#34       |       0.0000 |   1.5520 |            0.0000 |            0.0000 |    0.0000 |    0.0000 |    0.0000 |    0.0000 |\n",
      "| 35.0000 | SUM_MINUTES_x    |       0.0000 |   0.0520 |            0.0000 |            0.0000 |    0.0000 |    0.0000 |    0.0000 |    0.0000 |\n",
      "| 28.0000 | COM_CAT#28       |       0.0000 |   0.0138 |            0.0000 |            0.0000 |    0.0000 |    0.0000 |    0.0000 |    0.0000 |\n",
      "| 19.0000 | COM_CAT#18       |       0.0000 |   0.0113 |            0.0000 |            0.0000 |    0.0000 |    0.0000 |    0.0000 |    0.0000 |\n",
      "| 37.0000 | SUM_DATA_MIN_x   |       0.0000 |   0.1719 |            0.0000 |            0.0000 |    0.0000 |    0.0000 |    0.0000 |    0.0000 |\n",
      "|  8.0000 | COM_CAT#7        |       0.0000 |   0.7586 |            0.0000 |            0.0000 |    0.0000 |    0.0000 |    0.0000 |    0.0000 |\n",
      "|  3.0000 | COM_CAT#2        |       0.0000 |  11.1940 |            0.0000 |            0.0000 |    0.0000 |    0.0000 |    0.0000 |    0.0000 |\n",
      "|  4.0000 | COM_CAT#3        |       0.0000 |   1.2155 |            0.0000 |            0.0000 |    0.0000 |    0.0000 |    0.0000 |    0.0000 |\n",
      "|  5.0000 | BASE_TYPE        |       0.0000 |   0.1044 |            0.0000 |            0.0000 |    0.0000 |    0.0000 |    0.0000 |    0.0000 |\n",
      "|  6.0000 | ACT              |       0.0000 |   0.0262 |            0.0000 |            0.0000 |    0.0000 |    0.0000 |    0.0000 |    0.0000 |\n",
      "|  7.0000 | ARPU_GROUP       |       0.0000 |   1.4145 |            0.0000 |            0.0000 |    0.0000 |    0.0000 |    0.0000 |    0.0000 |\n",
      "| 17.0000 | COST             |       0.0000 |   0.0018 |            0.0000 |            0.0000 |    0.0000 |    0.0000 |    0.0000 |    0.0000 |\n",
      "|  2.0000 | COM_CAT#1        |       0.0000 |   1.0869 |            0.0000 |            0.0000 |    0.0000 |    0.0000 |    0.0000 |    0.0000 |\n",
      "| 11.0000 | INTERNET_TYPE_ID |       0.0000 |   0.3224 |            0.0000 |            0.0000 |    0.0000 |    0.0000 |    0.0000 |    0.0000 |\n",
      "| 13.0000 | ITC              |       0.0000 |   0.0144 |            0.0000 |            0.0000 |    0.0000 |    0.0000 |    0.0000 |    0.0000 |\n",
      "| 14.0000 | VAS              |       0.0000 |   0.0042 |            0.0000 |            0.0000 |    0.0000 |    0.0000 |    0.0000 |    0.0000 |\n",
      "|  1.0000 | CONTACT_DATE     |       0.0000 |   4.4090 |            0.0000 |            0.0000 |    0.0000 |    0.0000 |    0.0000 |    0.0000 |\n",
      "| 16.0000 | ROAM             |       0.0000 |   0.0008 |            0.0000 |            0.0000 |    0.0000 |    0.0000 |    0.0000 |    0.0000 |\n",
      "| 10.0000 | DEVICE_TYPE_ID   |       0.0000 |   0.3945 |            0.0000 |            0.0000 |    0.0000 |    0.0000 |    0.0000 |    0.0000 |\n",
      "|  9.0000 | COM_CAT#8        |       0.0689 | 235.7426 |            0.0000 |           -0.0001 |    0.0000 |    0.0001 |    0.0000 |    0.0000 |\n",
      "| 33.0000 | COM_CAT#33       |       0.0741 |   0.0029 |            0.0272 |           -0.0000 |    0.0272 |    0.0000 |    0.0000 |    0.0000 |\n",
      "| 12.0000 | REVENUE          |       0.1135 |   0.0090 |           -0.0000 |            0.0000 |    0.0000 |    0.0000 |    0.0000 |    0.0000 |\n",
      "|  0.0000 | SK_ID            |       0.1533 | 682.5884 |           -0.0001 |            0.0026 |    0.0001 |    0.0030 |    0.0000 |    0.0000 |\n",
      "| 15.0000 | RENT_CHANNEL     |       0.2137 |   0.0054 |           -0.0040 |            0.0024 |    0.0046 |    0.0027 |    0.0001 |    0.0000 |\n",
      "| 36.0000 | SUM_DATA_MB_x    |       0.3766 |   0.0270 |           -0.0010 |            0.0003 |    0.0033 |    0.0009 |    0.0000 |    0.0000 |\n",
      "+---------+------------------+--------------+----------+-------------------+-------------------+-----------+-----------+-----------+-----------+\n",
      "\n",
      "\n",
      "*******\n",
      "Legend:\n",
      "Importance = Feature Importance\n",
      "     Explanation: A weighted measure of how much of the variance the model is able to explain is due to this column\n",
      "FR_delta = Feature Response Delta Amount\n",
      "     Explanation: Amount this column was incremented or decremented by to calculate the feature reponses\n",
      "FR_Decrementing = Feature Response From Decrementing Values In This Column By One FR_delta\n",
      "     Explanation: Represents how much the predicted output values respond to subtracting one FR_delta amount from every value in this column\n",
      "FR_Incrementing = Feature Response From Incrementing Values In This Column By One FR_delta\n",
      "     Explanation: Represents how much the predicted output values respond to adding one FR_delta amount to every value in this column\n",
      "FRD_MAD = Feature Response From Decrementing- Median Absolute Delta\n",
      "     Explanation: Takes the absolute value of all changes in predictions, then takes the median of those. Useful for seeing if decrementing this feature provokes strong changes that are both positive and negative\n",
      "FRI_MAD = Feature Response From Incrementing- Median Absolute Delta\n",
      "     Explanation: Takes the absolute value of all changes in predictions, then takes the median of those. Useful for seeing if incrementing this feature provokes strong changes that are both positive and negative\n",
      "FRD_abs = Feature Response From Decrementing Avg Absolute Change\n",
      "     Explanation: What is the average absolute change in predicted output values to subtracting one FR_delta amount to every value in this column. Useful for seeing if output is sensitive to a feature, but not in a uniformly positive or negative way\n",
      "FRI_abs = Feature Response From Incrementing Avg Absolute Change\n",
      "     Explanation: What is the average absolute change in predicted output values to adding one FR_delta amount to every value in this column. Useful for seeing if output is sensitive to a feature, but not in a uniformly positive or negative way\n",
      "*******\n",
      "\n"
     ]
    },
    {
     "name": "stdout",
     "output_type": "stream",
     "text": [
      "None\n",
      "\n",
      "\n",
      "***********************************************\n",
      "Advanced scoring metrics for the trained regression model on this particular dataset:\n",
      "\n",
      "Here is the overall RMSE for these predictions:\n",
      "0.38594136174110927\n",
      "\n",
      "Here is the average of the predictions:\n",
      "0.1485035166953008\n",
      "\n",
      "Here is the average actual value on this validation set:\n",
      "0.18024691358024691\n",
      "\n",
      "Here is the median prediction:\n",
      "0.1521085219221472\n",
      "\n",
      "Here is the median actual value:\n",
      "0.0\n",
      "\n",
      "Here is the mean absolute error:\n",
      "0.2753651871893573\n",
      "\n",
      "Here is the median absolute error (robust to outliers):\n",
      "0.1521085219221472\n",
      "\n",
      "Here is the explained variance:\n",
      "-0.0012529120399169535\n",
      "\n",
      "Here is the R-squared value:\n",
      "-0.008072464911329291\n",
      "Count of positive differences (prediction > actual):\n",
      "664\n",
      "Count of negative differences:\n",
      "146\n",
      "Average positive difference:\n",
      "0.14859461607422614\n",
      "Average negative difference:\n",
      "-0.8519107982883045\n",
      "\n",
      "\n",
      "***********************************************\n",
      "\n",
      "\n"
     ]
    },
    {
     "data": {
      "text/plain": [
       "-0.38594136174110927"
      ]
     },
     "execution_count": 69,
     "metadata": {},
     "output_type": "execute_result"
    }
   ],
   "source": [
    "from auto_ml.utils import get_boston_dataset\n",
    "\n",
    "column_descriptions = {\n",
    "    'CSI': 'output',\n",
    "}\n",
    "\n",
    "ml_predictor = Predictor(type_of_estimator='regressor', column_descriptions=column_descriptions)\n",
    "\n",
    "ml_predictor.train(my_train)\n",
    "\n",
    "ml_predictor.score(my_test, my_test.CSI)"
   ]
  },
  {
   "cell_type": "code",
   "execution_count": 96,
   "metadata": {},
   "outputs": [
    {
     "name": "stdout",
     "output_type": "stream",
     "text": [
      "MAE 0.2753651871893573\n",
      "MSE 0.1543246742054576\n"
     ]
    }
   ],
   "source": [
    "print(\"MAE 0.2753651871893573\")\n",
    "print(\"MSE 0.1543246742054576\")"
   ]
  },
  {
   "cell_type": "markdown",
   "metadata": {},
   "source": [
    "## Использование hpsklearn"
   ]
  },
  {
   "cell_type": "code",
   "execution_count": 39,
   "metadata": {},
   "outputs": [],
   "source": [
    "from hpsklearn import HyperoptEstimator, any_classifier\n",
    "from hyperopt import tpe"
   ]
  },
  {
   "cell_type": "code",
   "execution_count": null,
   "metadata": {},
   "outputs": [],
   "source": [
    "https://github.com/hyperopt/hyperopt-sklearn\n",
    "https://www.ml4aad.org/wp-content/uploads/2018/07/automl_book_draft_hyperopt-sklearn.pdf\n",
    "http://hyperopt.github.io/hyperopt-sklearn/#documentation"
   ]
  },
  {
   "cell_type": "code",
   "execution_count": null,
   "metadata": {},
   "outputs": [],
   "source": [
    "#Аннотация. Hyperopt-sklearn - это программный проект, который обеспечивает автоматическую настройку алгоритма библиотеки машинного обучения Scikit-learn. Следуя Auto-Weka, мы считаем, что выбор классификатора и даже выбор модуля предварительной обработки могут быть объединены\n",
    "#представлять одну большую задачу оптимизации гиперпараметра. Мы\n",
    "#используйте Hyperopt для определения пространства поиска, которое включает в себя множество стандартных компонентов (например, SVM, RF, KNN, PCA, TFIDF) и общее\n",
    "#образцы составления их вместе."
   ]
  },
  {
   "cell_type": "code",
   "execution_count": 55,
   "metadata": {},
   "outputs": [],
   "source": [
    "train_hp = train"
   ]
  },
  {
   "cell_type": "code",
   "execution_count": 56,
   "metadata": {},
   "outputs": [
    {
     "name": "stdout",
     "output_type": "stream",
     "text": [
      "Index(['CONTACT_DATE', 'COM_CAT#1', 'COM_CAT#2', 'COM_CAT#3', 'BASE_TYPE',\n",
      "       'ACT', 'ARPU_GROUP', 'COM_CAT#7', 'COM_CAT#8', 'DEVICE_TYPE_ID',\n",
      "       'INTERNET_TYPE_ID', 'REVENUE', 'ITC', 'VAS', 'RENT_CHANNEL', 'ROAM',\n",
      "       'COST', 'COM_CAT#17', 'COM_CAT#18', 'COM_CAT#19', 'COM_CAT#20',\n",
      "       'COM_CAT#21', 'COM_CAT#22', 'COM_CAT#23', 'COM_CAT#25', 'COM_CAT#26',\n",
      "       'COM_CAT#27', 'COM_CAT#28', 'COM_CAT#29', 'COM_CAT#30', 'COM_CAT#31',\n",
      "       'COM_CAT#32', 'COM_CAT#33', 'COM_CAT#34', 'SUM_MINUTES_x',\n",
      "       'SUM_DATA_MB_x', 'SUM_DATA_MIN_x'],\n",
      "      dtype='object')\n"
     ]
    }
   ],
   "source": [
    "X = train_hp.drop(('CSI'), axis=1)  # Выбрасываем столбец 'class'.  \n",
    "y = train['CSI']\n",
    "feature_names = X.columns\n",
    "print(feature_names)"
   ]
  },
  {
   "cell_type": "code",
   "execution_count": 79,
   "metadata": {},
   "outputs": [],
   "source": [
    "from sklearn import ensemble\n",
    "from sklearn.model_selection import train_test_split\n",
    "\n",
    "X_train, X_test, y_train, y_test = train_test_split(X, y, test_size = 0.2, random_state = 11)"
   ]
  },
  {
   "cell_type": "code",
   "execution_count": 80,
   "metadata": {},
   "outputs": [
    {
     "name": "stdout",
     "output_type": "stream",
     "text": [
      "0.3\n",
      "{'learner': RandomForestClassifier(bootstrap=False, class_weight=None, criterion='gini',\n",
      "            max_depth=3, max_features=0.8456036487884346,\n",
      "            max_leaf_nodes=None, min_impurity_decrease=0.0,\n",
      "            min_impurity_split=None, min_samples_leaf=3,\n",
      "            min_samples_split=2, min_weight_fraction_leaf=0.0,\n",
      "            n_estimators=135, n_jobs=1, oob_score=False, random_state=4,\n",
      "            verbose=False, warm_start=False), 'preprocs': (PCA(copy=True, iterated_power='auto', n_components=4, random_state=None,\n",
      "  svd_solver='auto', tol=0.0, whiten=False),), 'ex_preprocs': ()}\n"
     ]
    }
   ],
   "source": [
    "from hpsklearn import HyperoptEstimator, any_classifier, pca\n",
    "from hyperopt import tpe\n",
    "import numpy as np\n",
    "\n",
    "\n",
    "# Instantiate a HyperoptEstimator with the search space and number of evaluations\n",
    "# Create the estimator object\n",
    "#preprocessing= pca('my_pca'),\n",
    "estim = HyperoptEstimator(classifier=any_classifier('my_clf'),\n",
    "                          algo=tpe.suggest,\n",
    "                          max_evals=100,\n",
    "                          trial_timeout=120)\n",
    "\n",
    "\n",
    "# Search the hyperparameter space based on the data\n",
    "# Search the space of classifiers and preprocessing steps and their\n",
    "estim.fit(X_train, y_train)\n",
    "\n",
    "\n",
    "# Make a prediction using the optimized model\n",
    "prediction = estim.predict(X_test)\n",
    "\n",
    "# Report the accuracy of the classifier on a given set of data\n",
    "score = estim.score(X_test, y_test)\n",
    "\n",
    "# Return instances of the classifier and preprocessing steps\n",
    "model = estim.best_model()\n",
    "# Show the results\n",
    "\n",
    "print(estim.score(X_test, y_test))\n",
    "\n",
    "\n",
    "print( estim.best_model() )\n",
    "\n",
    "##accuracy"
   ]
  },
  {
   "cell_type": "code",
   "execution_count": 87,
   "metadata": {},
   "outputs": [
    {
     "name": "stdout",
     "output_type": "stream",
     "text": [
      "MAE 1.2\n",
      "MSE 2.2\n",
      "Accuracy 0.3\n"
     ]
    }
   ],
   "source": [
    "import sklearn.metrics\n",
    "print(\"MAE\", sklearn.metrics.mean_absolute_error(y_test, prediction))\n",
    "print(\"MSE\", sklearn.metrics.mean_squared_error(y_test, prediction))\n",
    "print(\"Accuracy\", sklearn.metrics.accuracy_score(y_test, prediction))"
   ]
  },
  {
   "cell_type": "code",
   "execution_count": null,
   "metadata": {},
   "outputs": [],
   "source": [
    "###########################################################"
   ]
  },
  {
   "cell_type": "markdown",
   "metadata": {},
   "source": [
    "## Autoweka"
   ]
  },
  {
   "cell_type": "code",
   "execution_count": null,
   "metadata": {},
   "outputs": [],
   "source": [
    "https://github.com/automl/pyautoweka"
   ]
  },
  {
   "cell_type": "code",
   "execution_count": 52,
   "metadata": {},
   "outputs": [
    {
     "ename": "ImportError",
     "evalue": "cannot import name 'DataSet'",
     "output_type": "error",
     "traceback": [
      "\u001b[1;31m---------------------------------------------------------------------------\u001b[0m",
      "\u001b[1;31mImportError\u001b[0m                               Traceback (most recent call last)",
      "\u001b[1;32m<ipython-input-52-d5cdbbafefa9>\u001b[0m in \u001b[0;36m<module>\u001b[1;34m()\u001b[0m\n\u001b[1;32m----> 1\u001b[1;33m \u001b[1;32mfrom\u001b[0m \u001b[0mpyautoweka\u001b[0m \u001b[1;32mimport\u001b[0m \u001b[0mCrossValidation\u001b[0m\u001b[1;33m,\u001b[0m \u001b[0mRandomSubSampling\u001b[0m\u001b[1;33m\u001b[0m\u001b[0m\n\u001b[0m\u001b[0;32m      2\u001b[0m \u001b[1;32mfrom\u001b[0m \u001b[0mpyautoweka\u001b[0m \u001b[1;32mimport\u001b[0m \u001b[0mClassificationExperiment\u001b[0m\u001b[1;33m,\u001b[0m \u001b[0mRegressionExperiment\u001b[0m\u001b[1;33m,\u001b[0m \u001b[0mAVAILABLE_CLASSIFIERS\u001b[0m\u001b[1;33m\u001b[0m\u001b[0m\n",
      "\u001b[1;32m~\\Anaconda3\\lib\\site-packages\\pyautoweka\\__init__.py\u001b[0m in \u001b[0;36m<module>\u001b[1;34m()\u001b[0m\n\u001b[1;32m----> 1\u001b[1;33m \u001b[1;32mfrom\u001b[0m \u001b[0mpyautoweka\u001b[0m \u001b[1;32mimport\u001b[0m \u001b[0mDataSet\u001b[0m\u001b[1;33m,\u001b[0m \u001b[0mCrossValidation\u001b[0m\u001b[1;33m,\u001b[0m \u001b[0mRandomSubSampling\u001b[0m\u001b[1;33m\u001b[0m\u001b[0m\n\u001b[0m\u001b[0;32m      2\u001b[0m \u001b[1;32mfrom\u001b[0m \u001b[0mpyautoweka\u001b[0m \u001b[1;32mimport\u001b[0m \u001b[0mClassificationExperiment\u001b[0m\u001b[1;33m,\u001b[0m \u001b[0mRegressionExperiment\u001b[0m\u001b[1;33m,\u001b[0m \u001b[0mAVAILABLE_CLASSIFIERS\u001b[0m\u001b[1;33m\u001b[0m\u001b[0m\n",
      "\u001b[1;31mImportError\u001b[0m: cannot import name 'DataSet'"
     ]
    }
   ],
   "source": [
    "from pyautoweka import CrossValidation, RandomSubSampling\n",
    "from pyautoweka import ClassificationExperiment, RegressionExperiment, AVAILABLE_CLASSIFIERS"
   ]
  },
  {
   "cell_type": "code",
   "execution_count": 54,
   "metadata": {},
   "outputs": [
    {
     "ename": "ImportError",
     "evalue": "cannot import name 'DataSet'",
     "output_type": "error",
     "traceback": [
      "\u001b[1;31m---------------------------------------------------------------------------\u001b[0m",
      "\u001b[1;31mImportError\u001b[0m                               Traceback (most recent call last)",
      "\u001b[1;32m<ipython-input-54-a35956349e19>\u001b[0m in \u001b[0;36m<module>\u001b[1;34m()\u001b[0m\n\u001b[1;32m----> 1\u001b[1;33m \u001b[1;32mimport\u001b[0m \u001b[0mpyautoweka\u001b[0m\u001b[1;33m\u001b[0m\u001b[0m\n\u001b[0m\u001b[0;32m      2\u001b[0m \u001b[1;32mfrom\u001b[0m \u001b[0msklearn\u001b[0m \u001b[1;32mimport\u001b[0m \u001b[0mdatasets\u001b[0m\u001b[1;33m\u001b[0m\u001b[0m\n\u001b[0;32m      3\u001b[0m \u001b[1;33m\u001b[0m\u001b[0m\n\u001b[0;32m      4\u001b[0m \u001b[1;31m#Create an experiment\u001b[0m\u001b[1;33m\u001b[0m\u001b[1;33m\u001b[0m\u001b[0m\n\u001b[0;32m      5\u001b[0m \u001b[0mexperiment\u001b[0m \u001b[1;33m=\u001b[0m \u001b[0mpyautoweka\u001b[0m\u001b[1;33m.\u001b[0m\u001b[0mClassificationExperiment\u001b[0m\u001b[1;33m(\u001b[0m\u001b[0mtuner_timeout\u001b[0m\u001b[1;33m=\u001b[0m\u001b[1;36m360\u001b[0m\u001b[1;33m)\u001b[0m\u001b[1;33m\u001b[0m\u001b[0m\n",
      "\u001b[1;32m~\\Anaconda3\\lib\\site-packages\\pyautoweka\\__init__.py\u001b[0m in \u001b[0;36m<module>\u001b[1;34m()\u001b[0m\n\u001b[1;32m----> 1\u001b[1;33m \u001b[1;32mfrom\u001b[0m \u001b[0mpyautoweka\u001b[0m \u001b[1;32mimport\u001b[0m \u001b[0mDataSet\u001b[0m\u001b[1;33m,\u001b[0m \u001b[0mCrossValidation\u001b[0m\u001b[1;33m,\u001b[0m \u001b[0mRandomSubSampling\u001b[0m\u001b[1;33m\u001b[0m\u001b[0m\n\u001b[0m\u001b[0;32m      2\u001b[0m \u001b[1;32mfrom\u001b[0m \u001b[0mpyautoweka\u001b[0m \u001b[1;32mimport\u001b[0m \u001b[0mClassificationExperiment\u001b[0m\u001b[1;33m,\u001b[0m \u001b[0mRegressionExperiment\u001b[0m\u001b[1;33m,\u001b[0m \u001b[0mAVAILABLE_CLASSIFIERS\u001b[0m\u001b[1;33m\u001b[0m\u001b[0m\n",
      "\u001b[1;31mImportError\u001b[0m: cannot import name 'DataSet'"
     ]
    }
   ],
   "source": [
    "import pyautoweka\n",
    "\n",
    "\n",
    "#Create an experiment\n",
    "#tuner_timeout время оптимизации в секундах. Так, например, 360 секунд = 6 минут. Чем дольше вы проводите оптимизацию, тем лучше\n",
    "experiment = pyautoweka.ClassificationExperiment(tuner_timeout=360)"
   ]
  },
  {
   "cell_type": "code",
   "execution_count": null,
   "metadata": {},
   "outputs": [],
   "source": []
  },
  {
   "cell_type": "code",
   "execution_count": null,
   "metadata": {},
   "outputs": [],
   "source": []
  },
  {
   "cell_type": "code",
   "execution_count": null,
   "metadata": {},
   "outputs": [],
   "source": []
  },
  {
   "cell_type": "markdown",
   "metadata": {},
   "source": [
    "# Tpot"
   ]
  },
  {
   "cell_type": "code",
   "execution_count": null,
   "metadata": {},
   "outputs": [],
   "source": [
    "#https://github.com/EpistasisLab/tpot"
   ]
  },
  {
   "cell_type": "code",
   "execution_count": 92,
   "metadata": {},
   "outputs": [
    {
     "name": "stdout",
     "output_type": "stream",
     "text": [
      "Index(['CONTACT_DATE', 'COM_CAT#1', 'COM_CAT#2', 'COM_CAT#3', 'BASE_TYPE',\n",
      "       'ACT', 'ARPU_GROUP', 'COM_CAT#7', 'COM_CAT#8', 'DEVICE_TYPE_ID',\n",
      "       'INTERNET_TYPE_ID', 'REVENUE', 'ITC', 'VAS', 'RENT_CHANNEL', 'ROAM',\n",
      "       'COST', 'COM_CAT#17', 'COM_CAT#18', 'COM_CAT#19', 'COM_CAT#20',\n",
      "       'COM_CAT#21', 'COM_CAT#22', 'COM_CAT#23', 'COM_CAT#25', 'COM_CAT#26',\n",
      "       'COM_CAT#27', 'COM_CAT#28', 'COM_CAT#29', 'COM_CAT#30', 'COM_CAT#31',\n",
      "       'COM_CAT#32', 'COM_CAT#33', 'COM_CAT#34', 'SUM_MINUTES_x',\n",
      "       'SUM_DATA_MB_x', 'SUM_DATA_MIN_x'],\n",
      "      dtype='object')\n"
     ]
    }
   ],
   "source": [
    "X = train.drop(('CSI'), axis=1)  # Выбрасываем столбец 'class'.  \n",
    "y = train['CSI']\n",
    "feature_names = X.columns\n",
    "print(feature_names)"
   ]
  },
  {
   "cell_type": "code",
   "execution_count": 94,
   "metadata": {},
   "outputs": [],
   "source": [
    "from sklearn import ensemble\n",
    "from sklearn.model_selection import train_test_split\n",
    "\n",
    "X_train, X_test, y_train, y_test = train_test_split(X, y, test_size = 0.2, random_state = 11)"
   ]
  },
  {
   "cell_type": "code",
   "execution_count": 95,
   "metadata": {},
   "outputs": [
    {
     "data": {
      "application/vnd.jupyter.widget-view+json": {
       "model_id": "",
       "version_major": 2,
       "version_minor": 0
      },
      "text/plain": [
       "HBox(children=(IntProgress(value=0, description='Optimization Progress', max=120, style=ProgressStyle(descript…"
      ]
     },
     "metadata": {},
     "output_type": "display_data"
    },
    {
     "name": "stdout",
     "output_type": "stream",
     "text": [
      "Generation 1 - Current best internal CV score: 0.8499077880802748\n",
      "Generation 2 - Current best internal CV score: 0.8499077880802748\n",
      "Generation 3 - Current best internal CV score: 0.8502169070910938\n",
      "Generation 4 - Current best internal CV score: 0.8502169070910938\n",
      "Generation 5 - Current best internal CV score: 0.8502169070910938\n",
      "\n",
      "Best pipeline: BernoulliNB(LinearSVC(FastICA(input_matrix, tol=0.9), C=1.0, dual=False, loss=squared_hinge, penalty=l2, tol=0.001), alpha=100.0, fit_prior=True)\n"
     ]
    }
   ],
   "source": [
    "from tpot import TPOTClassifier\n",
    "from sklearn.model_selection import train_test_split\n",
    "\n",
    "tpot = TPOTClassifier(generations=5, population_size=20, verbosity=2)\n",
    "tpot.fit(X_train, y_train)\n",
    "pred = tpot.predict(X_test)"
   ]
  },
  {
   "cell_type": "code",
   "execution_count": 103,
   "metadata": {},
   "outputs": [
    {
     "name": "stdout",
     "output_type": "stream",
     "text": [
      "MAE 0.18024691358024691\n",
      "MSE 0.18024691358024691\n",
      "Accuracy 0.8197530864197531\n"
     ]
    }
   ],
   "source": [
    "print(\"MAE\", sklearn.metrics.mean_absolute_error(y_test, pred))\n",
    "print(\"MSE\", sklearn.metrics.mean_squared_error(y_test, pred))\n",
    "print(\"Accuracy\", sklearn.metrics.accuracy_score(y_test, pred))"
   ]
  },
  {
   "cell_type": "code",
   "execution_count": 134,
   "metadata": {},
   "outputs": [
    {
     "data": {
      "text/plain": [
       "array([0., 0., 0., 0., 0., 0., 0., 0., 0., 0., 0., 0., 0., 0., 0., 0., 0.,\n",
       "       0., 0., 0., 0., 0., 0., 0., 0., 0., 0., 0., 0., 0., 0., 0., 0., 0.,\n",
       "       0., 0., 0., 0., 0., 0., 0., 0., 0., 0., 0., 0., 0., 0., 0., 0., 0.,\n",
       "       0., 0., 0., 0., 0., 0., 0., 0., 0., 0., 0., 0., 0., 0., 0., 0., 0.,\n",
       "       0., 0., 0., 0., 0., 0., 0., 0., 0., 0., 0., 0., 0., 0., 0., 0., 0.,\n",
       "       0., 0., 0., 0., 0., 0., 0., 0., 0., 0., 0., 0., 0., 0., 0., 0., 0.,\n",
       "       0., 0., 0., 0., 0., 0., 0., 0., 0., 0., 0., 0., 0., 0., 0., 0., 0.,\n",
       "       0., 0., 0., 0., 0., 0., 0., 0., 0., 0., 0., 0., 0., 0., 0., 0., 0.,\n",
       "       0., 0., 0., 0., 0., 0., 0., 0., 0., 0., 0., 0., 0., 0., 0., 0., 0.,\n",
       "       0., 0., 0., 0., 0., 0., 0., 0., 0., 0., 0., 0., 0., 0., 0., 0., 0.,\n",
       "       0., 0., 0., 0., 0., 0., 0., 0., 0., 0., 0., 0., 0., 0., 0., 0., 0.,\n",
       "       0., 0., 0., 0., 0., 0., 0., 0., 0., 0., 0., 0., 0., 0., 0., 0., 0.,\n",
       "       0., 0., 0., 0., 0., 0., 0., 0., 0., 0., 0., 0., 0., 0., 0., 0., 0.,\n",
       "       0., 0., 0., 0., 0., 0., 0., 0., 0., 0., 0., 0., 0., 0., 0., 0., 0.,\n",
       "       0., 0., 0., 0., 0., 0., 0., 0., 0., 0., 0., 0., 0., 0., 0., 0., 0.,\n",
       "       0., 0., 0., 0., 0., 0., 0., 0., 0., 0., 0., 0., 0., 0., 0., 0., 0.,\n",
       "       0., 0., 0., 0., 0., 0., 0., 0., 0., 0., 0., 0., 0., 0., 0., 0., 0.,\n",
       "       0., 0., 0., 0., 0., 0., 0., 0., 0., 0., 0., 0., 0., 0., 0., 0., 0.,\n",
       "       0., 0., 0., 0., 0., 0., 0., 0., 0., 0., 0., 0., 0., 0., 0., 0., 0.,\n",
       "       0., 0., 0., 0., 0., 0., 0., 0., 0., 0., 0., 0., 0., 0., 0., 0., 0.,\n",
       "       0., 0., 0., 0., 0., 0., 0., 0., 0., 0., 0., 0., 0., 0., 0., 0., 0.,\n",
       "       0., 0., 0., 0., 0., 0., 0., 0., 0., 0., 0., 0., 0., 0., 0., 0., 0.,\n",
       "       0., 0., 0., 0., 0., 0., 0., 0., 0., 0., 0., 0., 0., 0., 0., 0., 0.,\n",
       "       0., 0., 0., 0., 0., 0., 0., 0., 0., 0., 0., 0., 0., 0., 0., 0., 0.,\n",
       "       0., 0., 0., 0., 0., 0., 0., 0., 0., 0., 0., 0., 0., 0., 0., 0., 0.,\n",
       "       0., 0., 0., 0., 0., 0., 0., 0., 0., 0., 0., 0., 0., 0., 0., 0., 0.,\n",
       "       0., 0., 0., 0., 0., 0., 0., 0., 0., 0., 0., 0., 0., 0., 0., 0., 0.,\n",
       "       0., 0., 0., 0., 0., 0., 0., 0., 0., 0., 0., 0., 0., 0., 0., 0., 0.,\n",
       "       0., 0., 0., 0., 0., 0., 0., 0., 0., 0., 0., 0., 0., 0., 0., 0., 0.,\n",
       "       0., 0., 0., 0., 0., 0., 0., 0., 0., 0., 0., 0., 0., 0., 0., 0., 0.,\n",
       "       0., 0., 0., 0., 0., 0., 0., 0., 0., 0., 0., 0., 0., 0., 0., 0., 0.,\n",
       "       0., 0., 0., 0., 0., 0., 0., 0., 0., 0., 0., 0., 0., 0., 0., 0., 0.,\n",
       "       0., 0., 0., 0., 0., 0., 0., 0., 0., 0., 0., 0., 0., 0., 0., 0., 0.,\n",
       "       0., 0., 0., 0., 0., 0., 0., 0., 0., 0., 0., 0., 0., 0., 0., 0., 0.,\n",
       "       0., 0., 0., 0., 0., 0., 0., 0., 0., 0., 0., 0., 0., 0., 0., 0., 0.,\n",
       "       0., 0., 0., 0., 0., 0., 0., 0., 0., 0., 0., 0., 0., 0., 0., 0., 0.,\n",
       "       0., 0., 0., 0., 0., 0., 0., 0., 0., 0., 0., 0., 0., 0., 0., 0., 0.,\n",
       "       0., 0., 0., 0., 0., 0., 0., 0., 0., 0., 0., 0., 0., 0., 0., 0., 0.,\n",
       "       0., 0., 0., 0., 0., 0., 0., 0., 0., 0., 0., 0., 0., 0., 0., 0., 0.,\n",
       "       0., 0., 0., 0., 0., 0., 0., 0., 0., 0., 0., 0., 0., 0., 0., 0., 0.,\n",
       "       0., 0., 0., 0., 0., 0., 0., 0., 0., 0., 0., 0., 0., 0., 0., 0., 0.,\n",
       "       0., 0., 0., 0., 0., 0., 0., 0., 0., 0., 0., 0., 0., 0., 0., 0., 0.,\n",
       "       0., 0., 0., 0., 0., 0., 0., 0., 0., 0., 0., 0., 0., 0., 0., 0., 0.,\n",
       "       0., 0., 0., 0., 0., 0., 0., 0., 0., 0., 0., 0., 0., 0., 0., 0., 0.,\n",
       "       0., 0., 0., 0., 0., 0., 0., 0., 0., 0., 0., 0., 0., 0., 0., 0., 0.,\n",
       "       0., 0., 0., 0., 0., 0., 0., 0., 0., 0., 0., 0., 0., 0., 0., 0., 0.,\n",
       "       0., 0., 0., 0., 0., 0., 0., 0., 0., 0., 0., 0., 0., 0., 0., 0., 0.,\n",
       "       0., 0., 0., 0., 0., 0., 0., 0., 0., 0., 0.])"
      ]
     },
     "execution_count": 134,
     "metadata": {},
     "output_type": "execute_result"
    }
   ],
   "source": [
    "pred"
   ]
  },
  {
   "cell_type": "code",
   "execution_count": 135,
   "metadata": {},
   "outputs": [
    {
     "data": {
      "text/plain": [
       "SK_ID\n",
       "223     0.0\n",
       "664     1.0\n",
       "1386    0.0\n",
       "3073    0.0\n",
       "1059    0.0\n",
       "2821    0.0\n",
       "451     0.0\n",
       "3894    0.0\n",
       "1478    0.0\n",
       "183     0.0\n",
       "172     0.0\n",
       "2490    1.0\n",
       "420     1.0\n",
       "1245    1.0\n",
       "4049    0.0\n",
       "2752    1.0\n",
       "4242    1.0\n",
       "14      0.0\n",
       "4331    1.0\n",
       "3273    1.0\n",
       "3841    0.0\n",
       "3109    0.0\n",
       "2437    1.0\n",
       "3081    1.0\n",
       "390     0.0\n",
       "2016    0.0\n",
       "3162    0.0\n",
       "1204    0.0\n",
       "3655    1.0\n",
       "1256    0.0\n",
       "       ... \n",
       "1707    0.0\n",
       "3682    1.0\n",
       "289     0.0\n",
       "843     0.0\n",
       "3925    0.0\n",
       "2205    0.0\n",
       "3339    1.0\n",
       "3146    0.0\n",
       "318     0.0\n",
       "3192    0.0\n",
       "4442    0.0\n",
       "1444    0.0\n",
       "883     0.0\n",
       "4695    0.0\n",
       "4168    0.0\n",
       "182     1.0\n",
       "1749    0.0\n",
       "2333    0.0\n",
       "2332    0.0\n",
       "3469    1.0\n",
       "692     0.0\n",
       "2157    0.0\n",
       "1604    0.0\n",
       "4109    0.0\n",
       "2340    0.0\n",
       "927     0.0\n",
       "3522    1.0\n",
       "2348    0.0\n",
       "1633    0.0\n",
       "2980    0.0\n",
       "Name: CSI, Length: 810, dtype: float64"
      ]
     },
     "execution_count": 135,
     "metadata": {},
     "output_type": "execute_result"
    }
   ],
   "source": [
    "y_test"
   ]
  },
  {
   "cell_type": "code",
   "execution_count": null,
   "metadata": {},
   "outputs": [],
   "source": []
  }
 ],
 "metadata": {
  "kernelspec": {
   "display_name": "Python 3",
   "language": "python",
   "name": "python3"
  },
  "language_info": {
   "codemirror_mode": {
    "name": "ipython",
    "version": 3
   },
   "file_extension": ".py",
   "mimetype": "text/x-python",
   "name": "python",
   "nbconvert_exporter": "python",
   "pygments_lexer": "ipython3",
   "version": "3.6.5"
  }
 },
 "nbformat": 4,
 "nbformat_minor": 2
}
